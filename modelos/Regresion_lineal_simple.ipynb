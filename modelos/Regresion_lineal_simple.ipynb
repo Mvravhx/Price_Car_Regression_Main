{
 "cells": [
  {
   "cell_type": "code",
   "execution_count": 11,
   "metadata": {},
   "outputs": [],
   "source": [
    "import numpy as np\n",
    "import pandas as pd\n",
    "import matplotlib.pyplot as plt\n",
    "import seaborn as sns\n",
    "from sklearn.preprocessing import StandardScaler, LabelEncoder, StandardScaler, PolynomialFeatures, MinMaxScaler\n",
    "from sklearn.linear_model import LinearRegression\n",
    "\n",
    "from sklearn.model_selection import train_test_split, cross_val_score, GridSearchCV\n",
    "from sklearn.tree import DecisionTreeRegressor\n",
    "from sklearn.ensemble import RandomForestRegressor\n",
    "from sklearn.neighbors import KNeighborsRegressor\n",
    "from sklearn.ensemble import AdaBoostRegressor\n",
    "from sklearn.ensemble import GradientBoostingRegressor\n",
    "from sklearn.feature_selection import RFE\n",
    "from sklearn.svm import SVR \n",
    "import sklearn.feature_selection \n",
    "\n",
    "from sklearn import metrics\n",
    "from sklearn.metrics import mean_squared_error, mean_absolute_error\n",
    "from sklearn.metrics import r2_score\n"
   ]
  },
  {
   "cell_type": "code",
   "execution_count": 12,
   "metadata": {},
   "outputs": [],
   "source": [
    "df = pd.read_csv('../data/datos_procesados.csv')\n"
   ]
  },
  {
   "cell_type": "code",
   "execution_count": 13,
   "metadata": {},
   "outputs": [
    {
     "data": {
      "text/html": [
       "<div>\n",
       "<style scoped>\n",
       "    .dataframe tbody tr th:only-of-type {\n",
       "        vertical-align: middle;\n",
       "    }\n",
       "\n",
       "    .dataframe tbody tr th {\n",
       "        vertical-align: top;\n",
       "    }\n",
       "\n",
       "    .dataframe thead th {\n",
       "        text-align: right;\n",
       "    }\n",
       "</style>\n",
       "<table border=\"1\" class=\"dataframe\">\n",
       "  <thead>\n",
       "    <tr style=\"text-align: right;\">\n",
       "      <th></th>\n",
       "      <th>Año</th>\n",
       "      <th>Nº puertas</th>\n",
       "      <th>Potencia</th>\n",
       "      <th>Velocidad máxima</th>\n",
       "      <th>Aceleracion</th>\n",
       "      <th>Consumo</th>\n",
       "      <th>Emisiones</th>\n",
       "      <th>Largo</th>\n",
       "      <th>Ancho</th>\n",
       "      <th>Alto</th>\n",
       "      <th>...</th>\n",
       "      <th>Carroceria_Monovolumen</th>\n",
       "      <th>Carroceria_Pick Up</th>\n",
       "      <th>Carroceria_Todoterreno</th>\n",
       "      <th>Carroceria_Turismo</th>\n",
       "      <th>Carroceria_Turismo familiar</th>\n",
       "      <th>Carroceria_Vehículo comercial</th>\n",
       "      <th>Etiqueta_C</th>\n",
       "      <th>Etiqueta_Cero</th>\n",
       "      <th>Etiqueta_ECO</th>\n",
       "      <th>Etiqueta_Sin etiqueta</th>\n",
       "    </tr>\n",
       "  </thead>\n",
       "  <tbody>\n",
       "    <tr>\n",
       "      <th>0</th>\n",
       "      <td>2019.0</td>\n",
       "      <td>5.0</td>\n",
       "      <td>150.0</td>\n",
       "      <td>212.0</td>\n",
       "      <td>8.7</td>\n",
       "      <td>4.5</td>\n",
       "      <td>117.0</td>\n",
       "      <td>4548.0</td>\n",
       "      <td>1816.0</td>\n",
       "      <td>1439.0</td>\n",
       "      <td>...</td>\n",
       "      <td>0.0</td>\n",
       "      <td>0.0</td>\n",
       "      <td>0.0</td>\n",
       "      <td>0.0</td>\n",
       "      <td>1.0</td>\n",
       "      <td>0.0</td>\n",
       "      <td>1.0</td>\n",
       "      <td>0.0</td>\n",
       "      <td>0.0</td>\n",
       "      <td>0.0</td>\n",
       "    </tr>\n",
       "    <tr>\n",
       "      <th>1</th>\n",
       "      <td>2009.0</td>\n",
       "      <td>3.0</td>\n",
       "      <td>110.0</td>\n",
       "      <td>190.0</td>\n",
       "      <td>10.7</td>\n",
       "      <td>4.5</td>\n",
       "      <td>119.0</td>\n",
       "      <td>4199.0</td>\n",
       "      <td>1779.0</td>\n",
       "      <td>1469.0</td>\n",
       "      <td>...</td>\n",
       "      <td>0.0</td>\n",
       "      <td>0.0</td>\n",
       "      <td>0.0</td>\n",
       "      <td>1.0</td>\n",
       "      <td>0.0</td>\n",
       "      <td>0.0</td>\n",
       "      <td>0.0</td>\n",
       "      <td>0.0</td>\n",
       "      <td>0.0</td>\n",
       "      <td>0.0</td>\n",
       "    </tr>\n",
       "    <tr>\n",
       "      <th>2</th>\n",
       "      <td>2007.0</td>\n",
       "      <td>5.0</td>\n",
       "      <td>177.0</td>\n",
       "      <td>200.0</td>\n",
       "      <td>9.3</td>\n",
       "      <td>7.0</td>\n",
       "      <td>185.0</td>\n",
       "      <td>4395.0</td>\n",
       "      <td>1815.0</td>\n",
       "      <td>1720.0</td>\n",
       "      <td>...</td>\n",
       "      <td>0.0</td>\n",
       "      <td>0.0</td>\n",
       "      <td>1.0</td>\n",
       "      <td>0.0</td>\n",
       "      <td>0.0</td>\n",
       "      <td>0.0</td>\n",
       "      <td>0.0</td>\n",
       "      <td>0.0</td>\n",
       "      <td>0.0</td>\n",
       "      <td>0.0</td>\n",
       "    </tr>\n",
       "    <tr>\n",
       "      <th>3</th>\n",
       "      <td>2011.0</td>\n",
       "      <td>5.0</td>\n",
       "      <td>143.0</td>\n",
       "      <td>190.0</td>\n",
       "      <td>11.4</td>\n",
       "      <td>6.5</td>\n",
       "      <td>172.0</td>\n",
       "      <td>4629.0</td>\n",
       "      <td>1880.0</td>\n",
       "      <td>1653.0</td>\n",
       "      <td>...</td>\n",
       "      <td>0.0</td>\n",
       "      <td>0.0</td>\n",
       "      <td>1.0</td>\n",
       "      <td>0.0</td>\n",
       "      <td>0.0</td>\n",
       "      <td>0.0</td>\n",
       "      <td>0.0</td>\n",
       "      <td>0.0</td>\n",
       "      <td>0.0</td>\n",
       "      <td>0.0</td>\n",
       "    </tr>\n",
       "    <tr>\n",
       "      <th>4</th>\n",
       "      <td>2013.0</td>\n",
       "      <td>5.0</td>\n",
       "      <td>313.0</td>\n",
       "      <td>250.0</td>\n",
       "      <td>5.3</td>\n",
       "      <td>6.4</td>\n",
       "      <td>169.0</td>\n",
       "      <td>4969.0</td>\n",
       "      <td>1911.0</td>\n",
       "      <td>1420.0</td>\n",
       "      <td>...</td>\n",
       "      <td>0.0</td>\n",
       "      <td>0.0</td>\n",
       "      <td>0.0</td>\n",
       "      <td>1.0</td>\n",
       "      <td>0.0</td>\n",
       "      <td>0.0</td>\n",
       "      <td>0.0</td>\n",
       "      <td>0.0</td>\n",
       "      <td>0.0</td>\n",
       "      <td>0.0</td>\n",
       "    </tr>\n",
       "    <tr>\n",
       "      <th>...</th>\n",
       "      <td>...</td>\n",
       "      <td>...</td>\n",
       "      <td>...</td>\n",
       "      <td>...</td>\n",
       "      <td>...</td>\n",
       "      <td>...</td>\n",
       "      <td>...</td>\n",
       "      <td>...</td>\n",
       "      <td>...</td>\n",
       "      <td>...</td>\n",
       "      <td>...</td>\n",
       "      <td>...</td>\n",
       "      <td>...</td>\n",
       "      <td>...</td>\n",
       "      <td>...</td>\n",
       "      <td>...</td>\n",
       "      <td>...</td>\n",
       "      <td>...</td>\n",
       "      <td>...</td>\n",
       "      <td>...</td>\n",
       "      <td>...</td>\n",
       "    </tr>\n",
       "    <tr>\n",
       "      <th>52057</th>\n",
       "      <td>2010.0</td>\n",
       "      <td>3.0</td>\n",
       "      <td>78.0</td>\n",
       "      <td>165.0</td>\n",
       "      <td>12.3</td>\n",
       "      <td>5.9</td>\n",
       "      <td>138.0</td>\n",
       "      <td>4063.0</td>\n",
       "      <td>1721.0</td>\n",
       "      <td>1446.0</td>\n",
       "      <td>...</td>\n",
       "      <td>0.0</td>\n",
       "      <td>0.0</td>\n",
       "      <td>0.0</td>\n",
       "      <td>1.0</td>\n",
       "      <td>0.0</td>\n",
       "      <td>0.0</td>\n",
       "      <td>1.0</td>\n",
       "      <td>0.0</td>\n",
       "      <td>0.0</td>\n",
       "      <td>0.0</td>\n",
       "    </tr>\n",
       "    <tr>\n",
       "      <th>52058</th>\n",
       "      <td>2019.0</td>\n",
       "      <td>5.0</td>\n",
       "      <td>150.0</td>\n",
       "      <td>200.0</td>\n",
       "      <td>9.4</td>\n",
       "      <td>5.4</td>\n",
       "      <td>139.0</td>\n",
       "      <td>4486.0</td>\n",
       "      <td>1839.0</td>\n",
       "      <td>1673.0</td>\n",
       "      <td>...</td>\n",
       "      <td>0.0</td>\n",
       "      <td>0.0</td>\n",
       "      <td>1.0</td>\n",
       "      <td>0.0</td>\n",
       "      <td>0.0</td>\n",
       "      <td>0.0</td>\n",
       "      <td>1.0</td>\n",
       "      <td>0.0</td>\n",
       "      <td>0.0</td>\n",
       "      <td>0.0</td>\n",
       "    </tr>\n",
       "    <tr>\n",
       "      <th>52059</th>\n",
       "      <td>2020.0</td>\n",
       "      <td>5.0</td>\n",
       "      <td>95.0</td>\n",
       "      <td>185.0</td>\n",
       "      <td>11.2</td>\n",
       "      <td>3.7</td>\n",
       "      <td>97.0</td>\n",
       "      <td>4053.0</td>\n",
       "      <td>1751.0</td>\n",
       "      <td>1461.0</td>\n",
       "      <td>...</td>\n",
       "      <td>0.0</td>\n",
       "      <td>0.0</td>\n",
       "      <td>0.0</td>\n",
       "      <td>1.0</td>\n",
       "      <td>0.0</td>\n",
       "      <td>0.0</td>\n",
       "      <td>1.0</td>\n",
       "      <td>0.0</td>\n",
       "      <td>0.0</td>\n",
       "      <td>0.0</td>\n",
       "    </tr>\n",
       "    <tr>\n",
       "      <th>52060</th>\n",
       "      <td>2019.0</td>\n",
       "      <td>5.0</td>\n",
       "      <td>125.0</td>\n",
       "      <td>200.0</td>\n",
       "      <td>10.0</td>\n",
       "      <td>4.9</td>\n",
       "      <td>107.0</td>\n",
       "      <td>4378.0</td>\n",
       "      <td>1825.0</td>\n",
       "      <td>1471.0</td>\n",
       "      <td>...</td>\n",
       "      <td>0.0</td>\n",
       "      <td>0.0</td>\n",
       "      <td>0.0</td>\n",
       "      <td>1.0</td>\n",
       "      <td>0.0</td>\n",
       "      <td>0.0</td>\n",
       "      <td>1.0</td>\n",
       "      <td>0.0</td>\n",
       "      <td>0.0</td>\n",
       "      <td>0.0</td>\n",
       "    </tr>\n",
       "    <tr>\n",
       "      <th>52061</th>\n",
       "      <td>2019.0</td>\n",
       "      <td>5.0</td>\n",
       "      <td>120.0</td>\n",
       "      <td>193.0</td>\n",
       "      <td>10.7</td>\n",
       "      <td>3.8</td>\n",
       "      <td>98.0</td>\n",
       "      <td>4556.0</td>\n",
       "      <td>1823.0</td>\n",
       "      <td>1505.0</td>\n",
       "      <td>...</td>\n",
       "      <td>0.0</td>\n",
       "      <td>0.0</td>\n",
       "      <td>0.0</td>\n",
       "      <td>0.0</td>\n",
       "      <td>1.0</td>\n",
       "      <td>0.0</td>\n",
       "      <td>1.0</td>\n",
       "      <td>0.0</td>\n",
       "      <td>0.0</td>\n",
       "      <td>0.0</td>\n",
       "    </tr>\n",
       "  </tbody>\n",
       "</table>\n",
       "<p>52062 rows × 41 columns</p>\n",
       "</div>"
      ],
      "text/plain": [
       "          Año  Nº puertas  Potencia  Velocidad máxima  Aceleracion  Consumo  \\\n",
       "0      2019.0         5.0     150.0             212.0          8.7      4.5   \n",
       "1      2009.0         3.0     110.0             190.0         10.7      4.5   \n",
       "2      2007.0         5.0     177.0             200.0          9.3      7.0   \n",
       "3      2011.0         5.0     143.0             190.0         11.4      6.5   \n",
       "4      2013.0         5.0     313.0             250.0          5.3      6.4   \n",
       "...       ...         ...       ...               ...          ...      ...   \n",
       "52057  2010.0         3.0      78.0             165.0         12.3      5.9   \n",
       "52058  2019.0         5.0     150.0             200.0          9.4      5.4   \n",
       "52059  2020.0         5.0      95.0             185.0         11.2      3.7   \n",
       "52060  2019.0         5.0     125.0             200.0         10.0      4.9   \n",
       "52061  2019.0         5.0     120.0             193.0         10.7      3.8   \n",
       "\n",
       "       Emisiones   Largo   Ancho    Alto  ...  Carroceria_Monovolumen  \\\n",
       "0          117.0  4548.0  1816.0  1439.0  ...                     0.0   \n",
       "1          119.0  4199.0  1779.0  1469.0  ...                     0.0   \n",
       "2          185.0  4395.0  1815.0  1720.0  ...                     0.0   \n",
       "3          172.0  4629.0  1880.0  1653.0  ...                     0.0   \n",
       "4          169.0  4969.0  1911.0  1420.0  ...                     0.0   \n",
       "...          ...     ...     ...     ...  ...                     ...   \n",
       "52057      138.0  4063.0  1721.0  1446.0  ...                     0.0   \n",
       "52058      139.0  4486.0  1839.0  1673.0  ...                     0.0   \n",
       "52059       97.0  4053.0  1751.0  1461.0  ...                     0.0   \n",
       "52060      107.0  4378.0  1825.0  1471.0  ...                     0.0   \n",
       "52061       98.0  4556.0  1823.0  1505.0  ...                     0.0   \n",
       "\n",
       "       Carroceria_Pick Up  Carroceria_Todoterreno  Carroceria_Turismo  \\\n",
       "0                     0.0                     0.0                 0.0   \n",
       "1                     0.0                     0.0                 1.0   \n",
       "2                     0.0                     1.0                 0.0   \n",
       "3                     0.0                     1.0                 0.0   \n",
       "4                     0.0                     0.0                 1.0   \n",
       "...                   ...                     ...                 ...   \n",
       "52057                 0.0                     0.0                 1.0   \n",
       "52058                 0.0                     1.0                 0.0   \n",
       "52059                 0.0                     0.0                 1.0   \n",
       "52060                 0.0                     0.0                 1.0   \n",
       "52061                 0.0                     0.0                 0.0   \n",
       "\n",
       "       Carroceria_Turismo familiar  Carroceria_Vehículo comercial  Etiqueta_C  \\\n",
       "0                              1.0                            0.0         1.0   \n",
       "1                              0.0                            0.0         0.0   \n",
       "2                              0.0                            0.0         0.0   \n",
       "3                              0.0                            0.0         0.0   \n",
       "4                              0.0                            0.0         0.0   \n",
       "...                            ...                            ...         ...   \n",
       "52057                          0.0                            0.0         1.0   \n",
       "52058                          0.0                            0.0         1.0   \n",
       "52059                          0.0                            0.0         1.0   \n",
       "52060                          0.0                            0.0         1.0   \n",
       "52061                          1.0                            0.0         1.0   \n",
       "\n",
       "       Etiqueta_Cero  Etiqueta_ECO  Etiqueta_Sin etiqueta  \n",
       "0                0.0           0.0                    0.0  \n",
       "1                0.0           0.0                    0.0  \n",
       "2                0.0           0.0                    0.0  \n",
       "3                0.0           0.0                    0.0  \n",
       "4                0.0           0.0                    0.0  \n",
       "...              ...           ...                    ...  \n",
       "52057            0.0           0.0                    0.0  \n",
       "52058            0.0           0.0                    0.0  \n",
       "52059            0.0           0.0                    0.0  \n",
       "52060            0.0           0.0                    0.0  \n",
       "52061            0.0           0.0                    0.0  \n",
       "\n",
       "[52062 rows x 41 columns]"
      ]
     },
     "execution_count": 13,
     "metadata": {},
     "output_type": "execute_result"
    }
   ],
   "source": [
    "df"
   ]
  },
  {
   "cell_type": "code",
   "execution_count": 14,
   "metadata": {},
   "outputs": [
    {
     "data": {
      "text/plain": [
       "Año                              float64\n",
       "Nº puertas                       float64\n",
       "Potencia                         float64\n",
       "Velocidad máxima                 float64\n",
       "Aceleracion                      float64\n",
       "Consumo                          float64\n",
       "Emisiones                        float64\n",
       "Largo                            float64\n",
       "Ancho                            float64\n",
       "Alto                             float64\n",
       "KM_log                           float64\n",
       "Precio_log                       float64\n",
       "C_Eléctrico                      float64\n",
       "C_Gasolina                       float64\n",
       "C_Híbrido                        float64\n",
       "C_Otros                          float64\n",
       "Ca_Manual                        float64\n",
       "Ca_Otro                          float64\n",
       "Color_Azul                       float64\n",
       "Color_Beige                      float64\n",
       "Color_Blanco                     float64\n",
       "Color_Gris                       float64\n",
       "Color_Marron                     float64\n",
       "Color_Naranja                    float64\n",
       "Color_Negro                      float64\n",
       "Color_Otro                       float64\n",
       "Color_Rojo                       float64\n",
       "Color_Verde                      float64\n",
       "Color_Violeta                    float64\n",
       "Marca_encoded                    float64\n",
       "Carroceria_Descapotable          float64\n",
       "Carroceria_Monovolumen           float64\n",
       "Carroceria_Pick Up               float64\n",
       "Carroceria_Todoterreno           float64\n",
       "Carroceria_Turismo               float64\n",
       "Carroceria_Turismo familiar      float64\n",
       "Carroceria_Vehículo comercial    float64\n",
       "Etiqueta_C                       float64\n",
       "Etiqueta_Cero                    float64\n",
       "Etiqueta_ECO                     float64\n",
       "Etiqueta_Sin etiqueta            float64\n",
       "dtype: object"
      ]
     },
     "execution_count": 14,
     "metadata": {},
     "output_type": "execute_result"
    }
   ],
   "source": [
    "df.dtypes"
   ]
  },
  {
   "cell_type": "code",
   "execution_count": 17,
   "metadata": {},
   "outputs": [
    {
     "data": {
      "text/plain": [
       "((52062, 40), (52062,))"
      ]
     },
     "execution_count": 17,
     "metadata": {},
     "output_type": "execute_result"
    }
   ],
   "source": [
    "# Declarar la característica y la variable de destino\n",
    "X = df.drop('Precio_log', axis=1)\n",
    "y = df['Precio_log']\n",
    "\n",
    "X.shape, y.shape"
   ]
  },
  {
   "cell_type": "code",
   "execution_count": 18,
   "metadata": {},
   "outputs": [
    {
     "data": {
      "text/plain": [
       "array([[-0.14605402,  0.35881465,  0.1501827 , ..., -0.29837306,\n",
       "        -0.26883366, -0.13611338],\n",
       "       [-2.96379592, -2.94846333, -0.47886166, ..., -0.29837306,\n",
       "        -0.26883366, -0.13611338],\n",
       "       [-3.52734431,  0.35881465,  0.57478764, ..., -0.29837306,\n",
       "        -0.26883366, -0.13611338],\n",
       "       ...,\n",
       "       [ 0.13572017,  0.35881465, -0.71475329, ..., -0.29837306,\n",
       "        -0.26883366, -0.13611338],\n",
       "       [-0.14605402,  0.35881465, -0.24297002, ..., -0.29837306,\n",
       "        -0.26883366, -0.13611338],\n",
       "       [-0.14605402,  0.35881465, -0.32160057, ..., -0.29837306,\n",
       "        -0.26883366, -0.13611338]])"
      ]
     },
     "execution_count": 18,
     "metadata": {},
     "output_type": "execute_result"
    }
   ],
   "source": [
    "# Creo instancia de datos\n",
    "scaler = StandardScaler()\n",
    "\n",
    "# Escalo datos\n",
    "X_scaled = scaler.fit_transform(X)\n",
    "\n",
    "X_scaled"
   ]
  },
  {
   "cell_type": "code",
   "execution_count": 19,
   "metadata": {},
   "outputs": [
    {
     "data": {
      "text/plain": [
       "((36443, 40), (36443,), (15619, 40), (15619,))"
      ]
     },
     "execution_count": 19,
     "metadata": {},
     "output_type": "execute_result"
    }
   ],
   "source": [
    "X_train, X_test, y_train, y_test = train_test_split(X_scaled, y, test_size=0.3, random_state=48)\n",
    "\n",
    "X_train.shape, y_train.shape, X_test.shape, y_test.shape\n"
   ]
  },
  {
   "cell_type": "code",
   "execution_count": 20,
   "metadata": {},
   "outputs": [],
   "source": [
    "# Creo instancia de modelo\n",
    "reg = LinearRegression()\n",
    "\n",
    "# Ajuste de datos\n",
    "model = reg.fit(X_train, y_train)"
   ]
  },
  {
   "cell_type": "code",
   "execution_count": 21,
   "metadata": {},
   "outputs": [
    {
     "data": {
      "text/plain": [
       "<bound method RegressorMixin.score of LinearRegression()>"
      ]
     },
     "execution_count": 21,
     "metadata": {},
     "output_type": "execute_result"
    }
   ],
   "source": [
    "model.score"
   ]
  },
  {
   "cell_type": "code",
   "execution_count": 22,
   "metadata": {},
   "outputs": [
    {
     "data": {
      "image/png": "[encoded data removed]",
      "text/plain": [
       "<Figure size 1000x600 with 1 Axes>"
      ]
     },
     "metadata": {},
     "output_type": "display_data"
    }
   ],
   "source": [
    "# Linear regression model\n",
    "# check predict con originales\n",
    "y_pred_train = reg.predict(X_train)\n",
    "plt.figure(figsize=(10,6))\n",
    "plt.scatter(y_train, y_pred_train, alpha=0.4);\n",
    "plt.xlabel('Targets (y_train)');\n",
    "plt.ylabel('Predictions (y_pred)');\n",
    "plt.xlim(6,13);\n",
    "plt.ylim(6,13);"
   ]
  },
  {
   "cell_type": "markdown",
   "metadata": {},
   "source": [
    "La predicción del entrenamiento se ve bien, no es completamente aleatoria, puedo observar la linealidad en el gráfico.\n",
    "Otra forma de comprobar el \"Residual\", que es la diferencia entre los objetivos y las predicciones."
   ]
  },
  {
   "cell_type": "code",
   "execution_count": 23,
   "metadata": {},
   "outputs": [
    {
     "data": {
      "image/png": "[encoded data removed]",
      "text/plain": [
       "<Figure size 1000x600 with 1 Axes>"
      ]
     },
     "metadata": {},
     "output_type": "display_data"
    }
   ],
   "source": [
    "# plotting distribucion del residual\n",
    "residual_train = (y_train - y_pred_train)\n",
    "\n",
    "plt.figure(figsize=(10,6))\n",
    "sns.histplot(residual_train);\n",
    "plt.title('Traning Residual PDF');"
   ]
  },
  {
   "cell_type": "markdown",
   "metadata": {},
   "source": [
    "En este gráfico puedo observar que la mayor parte del valor se encuentra cerca de \"0\", ya que la media es \"0\", quiero decir que el modelo funciona mejor, ya que la mayor parte de la diferencia es \"0\", el modelo hace el predicción tal como está en el valor objetivo."
   ]
  },
  {
   "cell_type": "code",
   "execution_count": 24,
   "metadata": {},
   "outputs": [
    {
     "data": {
      "text/plain": [
       "0.843239520987725"
      ]
     },
     "execution_count": 24,
     "metadata": {},
     "output_type": "execute_result"
    }
   ],
   "source": [
    "# Check r2_score\n",
    "\n",
    "r2_score(y_train, y_pred_train)"
   ]
  },
  {
   "cell_type": "code",
   "execution_count": 25,
   "metadata": {},
   "outputs": [
    {
     "data": {
      "text/plain": [
       "8597.617752966024"
      ]
     },
     "execution_count": 25,
     "metadata": {},
     "output_type": "execute_result"
    }
   ],
   "source": [
    "# Check rmse\n",
    "\n",
    "np.sqrt(mean_squared_error(np.exp(y_train), np.exp(y_pred_train)))"
   ]
  },
  {
   "cell_type": "markdown",
   "metadata": {},
   "source": [
    "El precio mínimo y máximo era \n",
    "Precio máximo: 499900\n",
    "Precio mínimo: 999 \n",
    "en el conjunto de datos y nuestro modelo comete el error \"23918\".\n"
   ]
  },
  {
   "cell_type": "markdown",
   "metadata": {},
   "source": [
    "Nuestro modelo define el 81% de la variabilidad de los datos."
   ]
  },
  {
   "cell_type": "code",
   "execution_count": 26,
   "metadata": {},
   "outputs": [
    {
     "data": {
      "text/html": [
       "<div>\n",
       "<style scoped>\n",
       "    .dataframe tbody tr th:only-of-type {\n",
       "        vertical-align: middle;\n",
       "    }\n",
       "\n",
       "    .dataframe tbody tr th {\n",
       "        vertical-align: top;\n",
       "    }\n",
       "\n",
       "    .dataframe thead th {\n",
       "        text-align: right;\n",
       "    }\n",
       "</style>\n",
       "<table border=\"1\" class=\"dataframe\">\n",
       "  <thead>\n",
       "    <tr style=\"text-align: right;\">\n",
       "      <th></th>\n",
       "      <th>Features</th>\n",
       "      <th>Weights</th>\n",
       "    </tr>\n",
       "  </thead>\n",
       "  <tbody>\n",
       "    <tr>\n",
       "      <th>0</th>\n",
       "      <td>Año</td>\n",
       "      <td>0.295663</td>\n",
       "    </tr>\n",
       "    <tr>\n",
       "      <th>1</th>\n",
       "      <td>Nº puertas</td>\n",
       "      <td>-0.029363</td>\n",
       "    </tr>\n",
       "    <tr>\n",
       "      <th>2</th>\n",
       "      <td>Potencia</td>\n",
       "      <td>0.154907</td>\n",
       "    </tr>\n",
       "    <tr>\n",
       "      <th>3</th>\n",
       "      <td>Velocidad máxima</td>\n",
       "      <td>0.086812</td>\n",
       "    </tr>\n",
       "    <tr>\n",
       "      <th>4</th>\n",
       "      <td>Aceleracion</td>\n",
       "      <td>-0.009239</td>\n",
       "    </tr>\n",
       "    <tr>\n",
       "      <th>5</th>\n",
       "      <td>Consumo</td>\n",
       "      <td>0.012366</td>\n",
       "    </tr>\n",
       "    <tr>\n",
       "      <th>6</th>\n",
       "      <td>Emisiones</td>\n",
       "      <td>0.050818</td>\n",
       "    </tr>\n",
       "    <tr>\n",
       "      <th>7</th>\n",
       "      <td>Largo</td>\n",
       "      <td>0.049910</td>\n",
       "    </tr>\n",
       "    <tr>\n",
       "      <th>8</th>\n",
       "      <td>Ancho</td>\n",
       "      <td>0.017722</td>\n",
       "    </tr>\n",
       "    <tr>\n",
       "      <th>9</th>\n",
       "      <td>Alto</td>\n",
       "      <td>0.051629</td>\n",
       "    </tr>\n",
       "    <tr>\n",
       "      <th>10</th>\n",
       "      <td>KM_log</td>\n",
       "      <td>-0.035074</td>\n",
       "    </tr>\n",
       "    <tr>\n",
       "      <th>11</th>\n",
       "      <td>C_Eléctrico</td>\n",
       "      <td>0.041468</td>\n",
       "    </tr>\n",
       "    <tr>\n",
       "      <th>12</th>\n",
       "      <td>C_Gasolina</td>\n",
       "      <td>-0.057921</td>\n",
       "    </tr>\n",
       "    <tr>\n",
       "      <th>13</th>\n",
       "      <td>C_Híbrido</td>\n",
       "      <td>-0.021191</td>\n",
       "    </tr>\n",
       "    <tr>\n",
       "      <th>14</th>\n",
       "      <td>C_Otros</td>\n",
       "      <td>-0.012588</td>\n",
       "    </tr>\n",
       "    <tr>\n",
       "      <th>15</th>\n",
       "      <td>Ca_Manual</td>\n",
       "      <td>-0.082519</td>\n",
       "    </tr>\n",
       "    <tr>\n",
       "      <th>16</th>\n",
       "      <td>Ca_Otro</td>\n",
       "      <td>-0.003115</td>\n",
       "    </tr>\n",
       "    <tr>\n",
       "      <th>17</th>\n",
       "      <td>Color_Azul</td>\n",
       "      <td>-0.002962</td>\n",
       "    </tr>\n",
       "    <tr>\n",
       "      <th>18</th>\n",
       "      <td>Color_Beige</td>\n",
       "      <td>0.001504</td>\n",
       "    </tr>\n",
       "    <tr>\n",
       "      <th>19</th>\n",
       "      <td>Color_Blanco</td>\n",
       "      <td>-0.009171</td>\n",
       "    </tr>\n",
       "    <tr>\n",
       "      <th>20</th>\n",
       "      <td>Color_Gris</td>\n",
       "      <td>-0.004976</td>\n",
       "    </tr>\n",
       "    <tr>\n",
       "      <th>21</th>\n",
       "      <td>Color_Marron</td>\n",
       "      <td>-0.000195</td>\n",
       "    </tr>\n",
       "    <tr>\n",
       "      <th>22</th>\n",
       "      <td>Color_Naranja</td>\n",
       "      <td>-0.001880</td>\n",
       "    </tr>\n",
       "    <tr>\n",
       "      <th>23</th>\n",
       "      <td>Color_Negro</td>\n",
       "      <td>0.001380</td>\n",
       "    </tr>\n",
       "    <tr>\n",
       "      <th>24</th>\n",
       "      <td>Color_Otro</td>\n",
       "      <td>-0.003635</td>\n",
       "    </tr>\n",
       "    <tr>\n",
       "      <th>25</th>\n",
       "      <td>Color_Rojo</td>\n",
       "      <td>-0.003534</td>\n",
       "    </tr>\n",
       "    <tr>\n",
       "      <th>26</th>\n",
       "      <td>Color_Verde</td>\n",
       "      <td>0.000108</td>\n",
       "    </tr>\n",
       "    <tr>\n",
       "      <th>27</th>\n",
       "      <td>Color_Violeta</td>\n",
       "      <td>0.000625</td>\n",
       "    </tr>\n",
       "    <tr>\n",
       "      <th>28</th>\n",
       "      <td>Marca_encoded</td>\n",
       "      <td>0.012522</td>\n",
       "    </tr>\n",
       "    <tr>\n",
       "      <th>29</th>\n",
       "      <td>Carroceria_Descapotable</td>\n",
       "      <td>0.004170</td>\n",
       "    </tr>\n",
       "    <tr>\n",
       "      <th>30</th>\n",
       "      <td>Carroceria_Monovolumen</td>\n",
       "      <td>-0.033130</td>\n",
       "    </tr>\n",
       "    <tr>\n",
       "      <th>31</th>\n",
       "      <td>Carroceria_Pick Up</td>\n",
       "      <td>-0.008932</td>\n",
       "    </tr>\n",
       "    <tr>\n",
       "      <th>32</th>\n",
       "      <td>Carroceria_Todoterreno</td>\n",
       "      <td>-0.035944</td>\n",
       "    </tr>\n",
       "    <tr>\n",
       "      <th>33</th>\n",
       "      <td>Carroceria_Turismo</td>\n",
       "      <td>-0.059691</td>\n",
       "    </tr>\n",
       "    <tr>\n",
       "      <th>34</th>\n",
       "      <td>Carroceria_Turismo familiar</td>\n",
       "      <td>-0.056268</td>\n",
       "    </tr>\n",
       "    <tr>\n",
       "      <th>35</th>\n",
       "      <td>Carroceria_Vehículo comercial</td>\n",
       "      <td>-0.056768</td>\n",
       "    </tr>\n",
       "    <tr>\n",
       "      <th>36</th>\n",
       "      <td>Etiqueta_C</td>\n",
       "      <td>0.020209</td>\n",
       "    </tr>\n",
       "    <tr>\n",
       "      <th>37</th>\n",
       "      <td>Etiqueta_Cero</td>\n",
       "      <td>0.013265</td>\n",
       "    </tr>\n",
       "    <tr>\n",
       "      <th>38</th>\n",
       "      <td>Etiqueta_ECO</td>\n",
       "      <td>0.019996</td>\n",
       "    </tr>\n",
       "    <tr>\n",
       "      <th>39</th>\n",
       "      <td>Etiqueta_Sin etiqueta</td>\n",
       "      <td>0.001334</td>\n",
       "    </tr>\n",
       "  </tbody>\n",
       "</table>\n",
       "</div>"
      ],
      "text/plain": [
       "                         Features   Weights\n",
       "0                             Año  0.295663\n",
       "1                      Nº puertas -0.029363\n",
       "2                        Potencia  0.154907\n",
       "3                Velocidad máxima  0.086812\n",
       "4                     Aceleracion -0.009239\n",
       "5                         Consumo  0.012366\n",
       "6                       Emisiones  0.050818\n",
       "7                           Largo  0.049910\n",
       "8                           Ancho  0.017722\n",
       "9                            Alto  0.051629\n",
       "10                         KM_log -0.035074\n",
       "11                    C_Eléctrico  0.041468\n",
       "12                     C_Gasolina -0.057921\n",
       "13                      C_Híbrido -0.021191\n",
       "14                        C_Otros -0.012588\n",
       "15                      Ca_Manual -0.082519\n",
       "16                        Ca_Otro -0.003115\n",
       "17                     Color_Azul -0.002962\n",
       "18                    Color_Beige  0.001504\n",
       "19                   Color_Blanco -0.009171\n",
       "20                     Color_Gris -0.004976\n",
       "21                   Color_Marron -0.000195\n",
       "22                  Color_Naranja -0.001880\n",
       "23                    Color_Negro  0.001380\n",
       "24                     Color_Otro -0.003635\n",
       "25                     Color_Rojo -0.003534\n",
       "26                    Color_Verde  0.000108\n",
       "27                  Color_Violeta  0.000625\n",
       "28                  Marca_encoded  0.012522\n",
       "29        Carroceria_Descapotable  0.004170\n",
       "30         Carroceria_Monovolumen -0.033130\n",
       "31             Carroceria_Pick Up -0.008932\n",
       "32         Carroceria_Todoterreno -0.035944\n",
       "33             Carroceria_Turismo -0.059691\n",
       "34    Carroceria_Turismo familiar -0.056268\n",
       "35  Carroceria_Vehículo comercial -0.056768\n",
       "36                     Etiqueta_C  0.020209\n",
       "37                  Etiqueta_Cero  0.013265\n",
       "38                   Etiqueta_ECO  0.019996\n",
       "39          Etiqueta_Sin etiqueta  0.001334"
      ]
     },
     "execution_count": 26,
     "metadata": {},
     "output_type": "execute_result"
    }
   ],
   "source": [
    "reg_summary = pd.DataFrame(X.columns.values, columns=['Features'])\n",
    "reg_summary['Weights'] = reg.coef_\n",
    "reg_summary"
   ]
  },
  {
   "cell_type": "markdown",
   "metadata": {},
   "source": [
    "weights positivo = aumento de característica, aumentara el precio.\n",
    "\n",
    "weights negativo = aumento de característica, el precio disminuirá."
   ]
  },
  {
   "cell_type": "markdown",
   "metadata": {},
   "source": [
    "Ahora evaluo en test data"
   ]
  },
  {
   "cell_type": "code",
   "execution_count": 27,
   "metadata": {},
   "outputs": [
    {
     "data": {
      "image/png": "[encoded data removed]",
      "text/plain": [
       "<Figure size 1000x600 with 1 Axes>"
      ]
     },
     "metadata": {},
     "output_type": "display_data"
    }
   ],
   "source": [
    "# predict en data\n",
    "\n",
    "y_pred = reg.predict(X_test)\n",
    "\n",
    "# grafico\n",
    "plt.figure(figsize=(10,6))\n",
    "plt.scatter(y_test, y_pred, alpha=0.4);\n",
    "\n",
    "plt.xlabel('Target (y_test)');\n",
    "plt.ylabel('Prediction (y_pred)');"
   ]
  },
  {
   "cell_type": "code",
   "execution_count": 28,
   "metadata": {},
   "outputs": [
    {
     "data": {
      "text/plain": [
       "7948.15311498845"
      ]
     },
     "execution_count": 28,
     "metadata": {},
     "output_type": "execute_result"
    }
   ],
   "source": [
    "# rmse en test data\n",
    "np.sqrt(mean_squared_error(np.exp(y_test), np.exp(y_pred)))"
   ]
  },
  {
   "cell_type": "markdown",
   "metadata": {},
   "source": [
    "Es una cifra alta de diferencia de precio. Quizas mejorable"
   ]
  },
  {
   "cell_type": "code",
   "execution_count": 29,
   "metadata": {},
   "outputs": [
    {
     "data": {
      "text/html": [
       "<div>\n",
       "<style scoped>\n",
       "    .dataframe tbody tr th:only-of-type {\n",
       "        vertical-align: middle;\n",
       "    }\n",
       "\n",
       "    .dataframe tbody tr th {\n",
       "        vertical-align: top;\n",
       "    }\n",
       "\n",
       "    .dataframe thead th {\n",
       "        text-align: right;\n",
       "    }\n",
       "</style>\n",
       "<table border=\"1\" class=\"dataframe\">\n",
       "  <thead>\n",
       "    <tr style=\"text-align: right;\">\n",
       "      <th></th>\n",
       "      <th>Prediccion</th>\n",
       "      <th>Objetivo</th>\n",
       "    </tr>\n",
       "  </thead>\n",
       "  <tbody>\n",
       "    <tr>\n",
       "      <th>0</th>\n",
       "      <td>15408.135552</td>\n",
       "      <td>13491.0</td>\n",
       "    </tr>\n",
       "    <tr>\n",
       "      <th>1</th>\n",
       "      <td>18351.296661</td>\n",
       "      <td>19600.0</td>\n",
       "    </tr>\n",
       "    <tr>\n",
       "      <th>2</th>\n",
       "      <td>14778.424398</td>\n",
       "      <td>13491.0</td>\n",
       "    </tr>\n",
       "    <tr>\n",
       "      <th>3</th>\n",
       "      <td>28615.005171</td>\n",
       "      <td>26251.0</td>\n",
       "    </tr>\n",
       "    <tr>\n",
       "      <th>4</th>\n",
       "      <td>27878.963729</td>\n",
       "      <td>25901.0</td>\n",
       "    </tr>\n",
       "    <tr>\n",
       "      <th>...</th>\n",
       "      <td>...</td>\n",
       "      <td>...</td>\n",
       "    </tr>\n",
       "    <tr>\n",
       "      <th>15614</th>\n",
       "      <td>36875.317367</td>\n",
       "      <td>29991.0</td>\n",
       "    </tr>\n",
       "    <tr>\n",
       "      <th>15615</th>\n",
       "      <td>15739.539208</td>\n",
       "      <td>17901.0</td>\n",
       "    </tr>\n",
       "    <tr>\n",
       "      <th>15616</th>\n",
       "      <td>22750.264633</td>\n",
       "      <td>34501.0</td>\n",
       "    </tr>\n",
       "    <tr>\n",
       "      <th>15617</th>\n",
       "      <td>16120.792062</td>\n",
       "      <td>14491.0</td>\n",
       "    </tr>\n",
       "    <tr>\n",
       "      <th>15618</th>\n",
       "      <td>21487.873703</td>\n",
       "      <td>20901.0</td>\n",
       "    </tr>\n",
       "  </tbody>\n",
       "</table>\n",
       "<p>15619 rows × 2 columns</p>\n",
       "</div>"
      ],
      "text/plain": [
       "         Prediccion  Objetivo\n",
       "0      15408.135552   13491.0\n",
       "1      18351.296661   19600.0\n",
       "2      14778.424398   13491.0\n",
       "3      28615.005171   26251.0\n",
       "4      27878.963729   25901.0\n",
       "...             ...       ...\n",
       "15614  36875.317367   29991.0\n",
       "15615  15739.539208   17901.0\n",
       "15616  22750.264633   34501.0\n",
       "15617  16120.792062   14491.0\n",
       "15618  21487.873703   20901.0\n",
       "\n",
       "[15619 rows x 2 columns]"
      ]
     },
     "execution_count": 29,
     "metadata": {},
     "output_type": "execute_result"
    }
   ],
   "source": [
    "# Crear dataframe para comparar resultado y predict.\n",
    "df_eval = pd.DataFrame(np.exp(y_pred), columns=['Prediccion']) # np.exp invertirá la transformación log_tranformation \n",
    "# add columna\n",
    "y_test = y_test.reset_index(drop=True)\n",
    "df_eval['Objetivo'] = np.exp(y_test)\n",
    "\n",
    "# check\n",
    "df_eval"
   ]
  },
  {
   "cell_type": "code",
   "execution_count": 30,
   "metadata": {},
   "outputs": [
    {
     "data": {
      "text/html": [
       "<div>\n",
       "<style scoped>\n",
       "    .dataframe tbody tr th:only-of-type {\n",
       "        vertical-align: middle;\n",
       "    }\n",
       "\n",
       "    .dataframe tbody tr th {\n",
       "        vertical-align: top;\n",
       "    }\n",
       "\n",
       "    .dataframe thead th {\n",
       "        text-align: right;\n",
       "    }\n",
       "</style>\n",
       "<table border=\"1\" class=\"dataframe\">\n",
       "  <thead>\n",
       "    <tr style=\"text-align: right;\">\n",
       "      <th></th>\n",
       "      <th>Prediccion</th>\n",
       "      <th>Objetivo</th>\n",
       "      <th>Residual</th>\n",
       "      <th>Difference%</th>\n",
       "    </tr>\n",
       "  </thead>\n",
       "  <tbody>\n",
       "    <tr>\n",
       "      <th>0</th>\n",
       "      <td>15408.135552</td>\n",
       "      <td>13491.0</td>\n",
       "      <td>-1917.135552</td>\n",
       "      <td>14.210478</td>\n",
       "    </tr>\n",
       "    <tr>\n",
       "      <th>1</th>\n",
       "      <td>18351.296661</td>\n",
       "      <td>19600.0</td>\n",
       "      <td>1248.703339</td>\n",
       "      <td>6.370935</td>\n",
       "    </tr>\n",
       "    <tr>\n",
       "      <th>2</th>\n",
       "      <td>14778.424398</td>\n",
       "      <td>13491.0</td>\n",
       "      <td>-1287.424398</td>\n",
       "      <td>9.542839</td>\n",
       "    </tr>\n",
       "    <tr>\n",
       "      <th>3</th>\n",
       "      <td>28615.005171</td>\n",
       "      <td>26251.0</td>\n",
       "      <td>-2364.005171</td>\n",
       "      <td>9.005391</td>\n",
       "    </tr>\n",
       "    <tr>\n",
       "      <th>4</th>\n",
       "      <td>27878.963729</td>\n",
       "      <td>25901.0</td>\n",
       "      <td>-1977.963729</td>\n",
       "      <td>7.636631</td>\n",
       "    </tr>\n",
       "    <tr>\n",
       "      <th>...</th>\n",
       "      <td>...</td>\n",
       "      <td>...</td>\n",
       "      <td>...</td>\n",
       "      <td>...</td>\n",
       "    </tr>\n",
       "    <tr>\n",
       "      <th>15614</th>\n",
       "      <td>36875.317367</td>\n",
       "      <td>29991.0</td>\n",
       "      <td>-6884.317367</td>\n",
       "      <td>22.954611</td>\n",
       "    </tr>\n",
       "    <tr>\n",
       "      <th>15615</th>\n",
       "      <td>15739.539208</td>\n",
       "      <td>17901.0</td>\n",
       "      <td>2161.460792</td>\n",
       "      <td>12.074525</td>\n",
       "    </tr>\n",
       "    <tr>\n",
       "      <th>15616</th>\n",
       "      <td>22750.264633</td>\n",
       "      <td>34501.0</td>\n",
       "      <td>11750.735367</td>\n",
       "      <td>34.059115</td>\n",
       "    </tr>\n",
       "    <tr>\n",
       "      <th>15617</th>\n",
       "      <td>16120.792062</td>\n",
       "      <td>14491.0</td>\n",
       "      <td>-1629.792062</td>\n",
       "      <td>11.246926</td>\n",
       "    </tr>\n",
       "    <tr>\n",
       "      <th>15618</th>\n",
       "      <td>21487.873703</td>\n",
       "      <td>20901.0</td>\n",
       "      <td>-586.873703</td>\n",
       "      <td>2.807874</td>\n",
       "    </tr>\n",
       "  </tbody>\n",
       "</table>\n",
       "<p>15619 rows × 4 columns</p>\n",
       "</div>"
      ],
      "text/plain": [
       "         Prediccion  Objetivo      Residual  Difference%\n",
       "0      15408.135552   13491.0  -1917.135552    14.210478\n",
       "1      18351.296661   19600.0   1248.703339     6.370935\n",
       "2      14778.424398   13491.0  -1287.424398     9.542839\n",
       "3      28615.005171   26251.0  -2364.005171     9.005391\n",
       "4      27878.963729   25901.0  -1977.963729     7.636631\n",
       "...             ...       ...           ...          ...\n",
       "15614  36875.317367   29991.0  -6884.317367    22.954611\n",
       "15615  15739.539208   17901.0   2161.460792    12.074525\n",
       "15616  22750.264633   34501.0  11750.735367    34.059115\n",
       "15617  16120.792062   14491.0  -1629.792062    11.246926\n",
       "15618  21487.873703   20901.0   -586.873703     2.807874\n",
       "\n",
       "[15619 rows x 4 columns]"
      ]
     },
     "execution_count": 30,
     "metadata": {},
     "output_type": "execute_result"
    }
   ],
   "source": [
    "df_eval['Residual'] = df_eval['Objetivo'] - df_eval['Prediccion']\n",
    "df_eval['Difference%'] = np.absolute(df_eval['Residual'] / df_eval['Objetivo']*100)\n",
    "\n",
    "# check rendimiento\n",
    "df_eval"
   ]
  },
  {
   "cell_type": "code",
   "execution_count": 31,
   "metadata": {},
   "outputs": [
    {
     "data": {
      "text/html": [
       "<div>\n",
       "<style scoped>\n",
       "    .dataframe tbody tr th:only-of-type {\n",
       "        vertical-align: middle;\n",
       "    }\n",
       "\n",
       "    .dataframe tbody tr th {\n",
       "        vertical-align: top;\n",
       "    }\n",
       "\n",
       "    .dataframe thead th {\n",
       "        text-align: right;\n",
       "    }\n",
       "</style>\n",
       "<table border=\"1\" class=\"dataframe\">\n",
       "  <thead>\n",
       "    <tr style=\"text-align: right;\">\n",
       "      <th></th>\n",
       "      <th>Prediccion</th>\n",
       "      <th>Objetivo</th>\n",
       "      <th>Residual</th>\n",
       "      <th>Difference%</th>\n",
       "    </tr>\n",
       "  </thead>\n",
       "  <tbody>\n",
       "    <tr>\n",
       "      <th>count</th>\n",
       "      <td>15619.000000</td>\n",
       "      <td>15619.000000</td>\n",
       "      <td>15619.000000</td>\n",
       "      <td>15619.000000</td>\n",
       "    </tr>\n",
       "    <tr>\n",
       "      <th>mean</th>\n",
       "      <td>22974.437847</td>\n",
       "      <td>23480.818938</td>\n",
       "      <td>506.381091</td>\n",
       "      <td>15.536211</td>\n",
       "    </tr>\n",
       "    <tr>\n",
       "      <th>std</th>\n",
       "      <td>13967.006826</td>\n",
       "      <td>16792.242846</td>\n",
       "      <td>7932.259741</td>\n",
       "      <td>16.383686</td>\n",
       "    </tr>\n",
       "    <tr>\n",
       "      <th>min</th>\n",
       "      <td>1629.042173</td>\n",
       "      <td>1200.000000</td>\n",
       "      <td>-264286.380588</td>\n",
       "      <td>0.000328</td>\n",
       "    </tr>\n",
       "    <tr>\n",
       "      <th>25%</th>\n",
       "      <td>15332.884649</td>\n",
       "      <td>14991.000000</td>\n",
       "      <td>-2208.686446</td>\n",
       "      <td>5.405147</td>\n",
       "    </tr>\n",
       "    <tr>\n",
       "      <th>50%</th>\n",
       "      <td>20200.226915</td>\n",
       "      <td>19991.000000</td>\n",
       "      <td>-42.774235</td>\n",
       "      <td>11.683681</td>\n",
       "    </tr>\n",
       "    <tr>\n",
       "      <th>75%</th>\n",
       "      <td>27131.799350</td>\n",
       "      <td>27601.000000</td>\n",
       "      <td>2362.915623</td>\n",
       "      <td>20.809930</td>\n",
       "    </tr>\n",
       "    <tr>\n",
       "      <th>max</th>\n",
       "      <td>312977.380588</td>\n",
       "      <td>495001.000000</td>\n",
       "      <td>265971.869880</td>\n",
       "      <td>542.782815</td>\n",
       "    </tr>\n",
       "  </tbody>\n",
       "</table>\n",
       "</div>"
      ],
      "text/plain": [
       "          Prediccion       Objetivo       Residual   Difference%\n",
       "count   15619.000000   15619.000000   15619.000000  15619.000000\n",
       "mean    22974.437847   23480.818938     506.381091     15.536211\n",
       "std     13967.006826   16792.242846    7932.259741     16.383686\n",
       "min      1629.042173    1200.000000 -264286.380588      0.000328\n",
       "25%     15332.884649   14991.000000   -2208.686446      5.405147\n",
       "50%     20200.226915   19991.000000     -42.774235     11.683681\n",
       "75%     27131.799350   27601.000000    2362.915623     20.809930\n",
       "max    312977.380588  495001.000000  265971.869880    542.782815"
      ]
     },
     "execution_count": 31,
     "metadata": {},
     "output_type": "execute_result"
    }
   ],
   "source": [
    "df_eval.describe()"
   ]
  },
  {
   "cell_type": "code",
   "execution_count": 32,
   "metadata": {},
   "outputs": [
    {
     "data": {
      "text/html": [
       "<div>\n",
       "<style scoped>\n",
       "    .dataframe tbody tr th:only-of-type {\n",
       "        vertical-align: middle;\n",
       "    }\n",
       "\n",
       "    .dataframe tbody tr th {\n",
       "        vertical-align: top;\n",
       "    }\n",
       "\n",
       "    .dataframe thead th {\n",
       "        text-align: right;\n",
       "    }\n",
       "</style>\n",
       "<table border=\"1\" class=\"dataframe\">\n",
       "  <thead>\n",
       "    <tr style=\"text-align: right;\">\n",
       "      <th></th>\n",
       "      <th>Prediccion</th>\n",
       "      <th>Objetivo</th>\n",
       "      <th>Residual</th>\n",
       "      <th>Difference%</th>\n",
       "    </tr>\n",
       "  </thead>\n",
       "  <tbody>\n",
       "    <tr>\n",
       "      <th>12163</th>\n",
       "      <td>20600.07</td>\n",
       "      <td>20600.00</td>\n",
       "      <td>-0.07</td>\n",
       "      <td>0.00</td>\n",
       "    </tr>\n",
       "    <tr>\n",
       "      <th>15216</th>\n",
       "      <td>42990.75</td>\n",
       "      <td>42991.00</td>\n",
       "      <td>0.25</td>\n",
       "      <td>0.00</td>\n",
       "    </tr>\n",
       "    <tr>\n",
       "      <th>871</th>\n",
       "      <td>21600.11</td>\n",
       "      <td>21601.00</td>\n",
       "      <td>0.89</td>\n",
       "      <td>0.00</td>\n",
       "    </tr>\n",
       "    <tr>\n",
       "      <th>15162</th>\n",
       "      <td>12700.33</td>\n",
       "      <td>12701.00</td>\n",
       "      <td>0.67</td>\n",
       "      <td>0.01</td>\n",
       "    </tr>\n",
       "    <tr>\n",
       "      <th>6041</th>\n",
       "      <td>18852.08</td>\n",
       "      <td>18851.00</td>\n",
       "      <td>-1.08</td>\n",
       "      <td>0.01</td>\n",
       "    </tr>\n",
       "    <tr>\n",
       "      <th>...</th>\n",
       "      <td>...</td>\n",
       "      <td>...</td>\n",
       "      <td>...</td>\n",
       "      <td>...</td>\n",
       "    </tr>\n",
       "    <tr>\n",
       "      <th>11379</th>\n",
       "      <td>5110.10</td>\n",
       "      <td>1551.00</td>\n",
       "      <td>-3559.10</td>\n",
       "      <td>229.47</td>\n",
       "    </tr>\n",
       "    <tr>\n",
       "      <th>3026</th>\n",
       "      <td>4046.76</td>\n",
       "      <td>1200.00</td>\n",
       "      <td>-2846.76</td>\n",
       "      <td>237.23</td>\n",
       "    </tr>\n",
       "    <tr>\n",
       "      <th>8829</th>\n",
       "      <td>5143.59</td>\n",
       "      <td>1451.00</td>\n",
       "      <td>-3692.59</td>\n",
       "      <td>254.49</td>\n",
       "    </tr>\n",
       "    <tr>\n",
       "      <th>1542</th>\n",
       "      <td>6172.09</td>\n",
       "      <td>1651.00</td>\n",
       "      <td>-4521.09</td>\n",
       "      <td>273.84</td>\n",
       "    </tr>\n",
       "    <tr>\n",
       "      <th>13870</th>\n",
       "      <td>312977.38</td>\n",
       "      <td>48691.00</td>\n",
       "      <td>-264286.38</td>\n",
       "      <td>542.78</td>\n",
       "    </tr>\n",
       "  </tbody>\n",
       "</table>\n",
       "<p>15619 rows × 4 columns</p>\n",
       "</div>"
      ],
      "text/plain": [
       "       Prediccion  Objetivo   Residual  Difference%\n",
       "12163    20600.07  20600.00      -0.07         0.00\n",
       "15216    42990.75  42991.00       0.25         0.00\n",
       "871      21600.11  21601.00       0.89         0.00\n",
       "15162    12700.33  12701.00       0.67         0.01\n",
       "6041     18852.08  18851.00      -1.08         0.01\n",
       "...           ...       ...        ...          ...\n",
       "11379     5110.10   1551.00   -3559.10       229.47\n",
       "3026      4046.76   1200.00   -2846.76       237.23\n",
       "8829      5143.59   1451.00   -3692.59       254.49\n",
       "1542      6172.09   1651.00   -4521.09       273.84\n",
       "13870   312977.38  48691.00 -264286.38       542.78\n",
       "\n",
       "[15619 rows x 4 columns]"
      ]
     },
     "execution_count": 32,
     "metadata": {},
     "output_type": "execute_result"
    }
   ],
   "source": [
    "# obteniendo valores\n",
    "\n",
    "# configurando todos los valores dos digitos despues del punto\n",
    "pd.set_option('display.float_format', lambda x: '%.2f' % x)\n",
    "df_eval.sort_values(by=['Difference%'])"
   ]
  },
  {
   "cell_type": "markdown",
   "metadata": {},
   "source": [
    "***********************************************************************************"
   ]
  },
  {
   "cell_type": "markdown",
   "metadata": {},
   "source": [
    "RANDOM FOREST\n",
    "****************************************************"
   ]
  },
  {
   "cell_type": "code",
   "execution_count": 33,
   "metadata": {},
   "outputs": [
    {
     "name": "stdout",
     "output_type": "stream",
     "text": [
      "Accuracy en Traing set:  0.9905757917871609\n",
      "Accuracy en Testing set:  0.9329978448400744\n"
     ]
    }
   ],
   "source": [
    "\n",
    "rf_reg = RandomForestRegressor()\n",
    "rf_reg.fit(X_train, y_train)\n",
    "y_pred= rf_reg.predict(X_test)\n",
    "print(\"Accuracy en Traing set: \",rf_reg.score(X_train,y_train))\n",
    "print(\"Accuracy en Testing set: \",rf_reg.score(X_test,y_test))"
   ]
  },
  {
   "cell_type": "code",
   "execution_count": 34,
   "metadata": {},
   "outputs": [
    {
     "name": "stdout",
     "output_type": "stream",
     "text": [
      "\t\tError Table\n",
      "Mean Absolute Error      :  0.09058796340679257\n",
      "Mean Squared  Error      :  0.018474431245957587\n",
      "Root Mean Squared  Error :  0.1359206799790142\n",
      "R Squared Error          :  0.9329978448400744\n"
     ]
    }
   ],
   "source": [
    "\n",
    "print(\"\\t\\tError Table\")\n",
    "print('Mean Absolute Error      : ', metrics.mean_absolute_error(y_test, y_pred))\n",
    "print('Mean Squared  Error      : ', metrics.mean_squared_error(y_test, y_pred))\n",
    "print('Root Mean Squared  Error : ', np.sqrt(metrics.mean_squared_error(y_test, y_pred)))\n",
    "print('R Squared Error          : ', metrics.r2_score(y_test, y_pred))"
   ]
  },
  {
   "cell_type": "code",
   "execution_count": 35,
   "metadata": {},
   "outputs": [],
   "source": [
    "columnas_numericas=df.select_dtypes(exclude=['object']).columns"
   ]
  },
  {
   "cell_type": "code",
   "execution_count": 36,
   "metadata": {},
   "outputs": [
    {
     "data": {
      "text/plain": [
       "Index(['Año', 'Nº puertas', 'Potencia', 'Velocidad máxima', 'Aceleracion',\n",
       "       'Consumo', 'Emisiones', 'Largo', 'Ancho', 'Alto', 'KM_log',\n",
       "       'Precio_log', 'C_Eléctrico', 'C_Gasolina', 'C_Híbrido', 'C_Otros',\n",
       "       'Ca_Manual', 'Ca_Otro', 'Color_Azul', 'Color_Beige', 'Color_Blanco',\n",
       "       'Color_Gris', 'Color_Marron', 'Color_Naranja', 'Color_Negro',\n",
       "       'Color_Otro', 'Color_Rojo', 'Color_Verde', 'Color_Violeta',\n",
       "       'Marca_encoded', 'Carroceria_Descapotable', 'Carroceria_Monovolumen',\n",
       "       'Carroceria_Pick Up', 'Carroceria_Todoterreno', 'Carroceria_Turismo',\n",
       "       'Carroceria_Turismo familiar', 'Carroceria_Vehículo comercial',\n",
       "       'Etiqueta_C', 'Etiqueta_Cero', 'Etiqueta_ECO', 'Etiqueta_Sin etiqueta'],\n",
       "      dtype='object')"
      ]
     },
     "execution_count": 36,
     "metadata": {},
     "output_type": "execute_result"
    }
   ],
   "source": [
    "columnas_numericas"
   ]
  },
  {
   "cell_type": "code",
   "execution_count": 38,
   "metadata": {},
   "outputs": [],
   "source": [
    "X=df[columnas_numericas].drop('Precio_log',axis=1)\n",
    "y=df['Precio_log']"
   ]
  },
  {
   "cell_type": "code",
   "execution_count": 40,
   "metadata": {},
   "outputs": [],
   "source": [
    "X = df[columnas_numericas]\n",
    "X=X.drop(['Precio_log'],axis=1)\n",
    "y=df['Precio_log']"
   ]
  },
  {
   "cell_type": "code",
   "execution_count": 41,
   "metadata": {},
   "outputs": [
    {
     "name": "stdout",
     "output_type": "stream",
     "text": [
      "Las 5 mejores caracteristicas por rfe: Index(['Año', 'Potencia', 'Ancho', 'KM_log', 'Ca_Manual'], dtype='object')\n"
     ]
    }
   ],
   "source": [
    "clf_rf_3 = RandomForestRegressor()      \n",
    "rfe = RFE(estimator=clf_rf_3, n_features_to_select=5, step=1)\n",
    "rfe = rfe.fit(X, y)\n",
    "print('Las 5 mejores caracteristicas por rfe:',X.columns[rfe.support_])"
   ]
  },
  {
   "cell_type": "code",
   "execution_count": 42,
   "metadata": {},
   "outputs": [],
   "source": [
    "features=list(X.columns[rfe.support_])"
   ]
  },
  {
   "cell_type": "code",
   "execution_count": 43,
   "metadata": {},
   "outputs": [
    {
     "data": {
      "text/plain": [
       "['Año', 'Potencia', 'Ancho', 'KM_log', 'Ca_Manual']"
      ]
     },
     "execution_count": 43,
     "metadata": {},
     "output_type": "execute_result"
    }
   ],
   "source": [
    "features"
   ]
  },
  {
   "cell_type": "code",
   "execution_count": 44,
   "metadata": {},
   "outputs": [
    {
     "ename": "AttributeError",
     "evalue": "'DataFrame' object has no attribute 'Precio'",
     "output_type": "error",
     "traceback": [
      "\u001b[1;31m---------------------------------------------------------------------------\u001b[0m",
      "\u001b[1;31mAttributeError\u001b[0m                            Traceback (most recent call last)",
      "\u001b[1;32m~\\AppData\\Local\\Temp\\ipykernel_9956\\519945611.py\u001b[0m in \u001b[0;36m?\u001b[1;34m()\u001b[0m\n\u001b[0;32m      1\u001b[0m \u001b[0mx\u001b[0m \u001b[1;33m=\u001b[0m \u001b[0mX\u001b[0m\u001b[1;33m[\u001b[0m\u001b[0mfeatures\u001b[0m\u001b[1;33m]\u001b[0m\u001b[1;33m\u001b[0m\u001b[1;33m\u001b[0m\u001b[0m\n\u001b[1;32m----> 2\u001b[1;33m \u001b[0my\u001b[0m \u001b[1;33m=\u001b[0m \u001b[0mdf\u001b[0m\u001b[1;33m.\u001b[0m\u001b[0mPrecio\u001b[0m\u001b[1;33m\u001b[0m\u001b[1;33m\u001b[0m\u001b[0m\n\u001b[0m\u001b[0;32m      3\u001b[0m \u001b[0mx_train\u001b[0m\u001b[1;33m,\u001b[0m\u001b[0mx_test\u001b[0m\u001b[1;33m,\u001b[0m\u001b[0my_train\u001b[0m\u001b[1;33m,\u001b[0m\u001b[0my_test\u001b[0m \u001b[1;33m=\u001b[0m \u001b[0mtrain_test_split\u001b[0m\u001b[1;33m(\u001b[0m\u001b[0mx\u001b[0m\u001b[1;33m,\u001b[0m\u001b[0my\u001b[0m\u001b[1;33m,\u001b[0m \u001b[0mrandom_state\u001b[0m \u001b[1;33m=\u001b[0m \u001b[1;36m0\u001b[0m\u001b[1;33m)\u001b[0m\u001b[1;33m\u001b[0m\u001b[1;33m\u001b[0m\u001b[0m\n",
      "\u001b[1;32mc:\\Users\\ffzun\\OneDrive\\Escritorio\\Bootcamp\\Proyecto3\\venv\\Lib\\site-packages\\pandas\\core\\generic.py\u001b[0m in \u001b[0;36m?\u001b[1;34m(self, name)\u001b[0m\n\u001b[0;32m   6295\u001b[0m             \u001b[1;32mand\u001b[0m \u001b[0mname\u001b[0m \u001b[1;32mnot\u001b[0m \u001b[1;32min\u001b[0m \u001b[0mself\u001b[0m\u001b[1;33m.\u001b[0m\u001b[0m_accessors\u001b[0m\u001b[1;33m\u001b[0m\u001b[1;33m\u001b[0m\u001b[0m\n\u001b[0;32m   6296\u001b[0m             \u001b[1;32mand\u001b[0m \u001b[0mself\u001b[0m\u001b[1;33m.\u001b[0m\u001b[0m_info_axis\u001b[0m\u001b[1;33m.\u001b[0m\u001b[0m_can_hold_identifiers_and_holds_name\u001b[0m\u001b[1;33m(\u001b[0m\u001b[0mname\u001b[0m\u001b[1;33m)\u001b[0m\u001b[1;33m\u001b[0m\u001b[1;33m\u001b[0m\u001b[0m\n\u001b[0;32m   6297\u001b[0m         ):\n\u001b[0;32m   6298\u001b[0m             \u001b[1;32mreturn\u001b[0m \u001b[0mself\u001b[0m\u001b[1;33m[\u001b[0m\u001b[0mname\u001b[0m\u001b[1;33m]\u001b[0m\u001b[1;33m\u001b[0m\u001b[1;33m\u001b[0m\u001b[0m\n\u001b[1;32m-> 6299\u001b[1;33m         \u001b[1;32mreturn\u001b[0m \u001b[0mobject\u001b[0m\u001b[1;33m.\u001b[0m\u001b[0m__getattribute__\u001b[0m\u001b[1;33m(\u001b[0m\u001b[0mself\u001b[0m\u001b[1;33m,\u001b[0m \u001b[0mname\u001b[0m\u001b[1;33m)\u001b[0m\u001b[1;33m\u001b[0m\u001b[1;33m\u001b[0m\u001b[0m\n\u001b[0m",
      "\u001b[1;31mAttributeError\u001b[0m: 'DataFrame' object has no attribute 'Precio'"
     ]
    }
   ],
   "source": [
    "x = X[features]\n",
    "y = df.Precio\n",
    "x_train,x_test,y_train,y_test = train_test_split(x,y, random_state = 0)"
   ]
  },
  {
   "cell_type": "code",
   "execution_count": null,
   "metadata": {},
   "outputs": [
    {
     "data": {
      "text/plain": [
       "0.829633853500366"
      ]
     },
     "execution_count": 126,
     "metadata": {},
     "output_type": "execute_result"
    }
   ],
   "source": [
    "dt_regressor = DecisionTreeRegressor(random_state=0)\n",
    "dt_regressor.fit(x_train,y_train)\n",
    "y_train_pred = dt_regressor.predict(x_train)\n",
    "y_test_pred = dt_regressor.predict(x_test)\n",
    "dt_regressor.score(x_test,y_test)"
   ]
  },
  {
   "cell_type": "code",
   "execution_count": null,
   "metadata": {},
   "outputs": [
    {
     "data": {
      "text/plain": [
       "0.8751347407515958"
      ]
     },
     "execution_count": 127,
     "metadata": {},
     "output_type": "execute_result"
    }
   ],
   "source": [
    "Rf = RandomForestRegressor(n_estimators = 5,\n",
    "                              criterion = 'absolute_error',\n",
    "                              random_state = 20,\n",
    "                              n_jobs = -1)\n",
    "Rf.fit(x_train,y_train)\n",
    "Rf_train_pred = Rf.predict(x_train)\n",
    "Rf_test_pred = Rf.predict(x_test)\n",
    "\n",
    "\n",
    "r2_score(y_test,Rf_test_pred)"
   ]
  },
  {
   "cell_type": "code",
   "execution_count": null,
   "metadata": {},
   "outputs": [
    {
     "name": "stdout",
     "output_type": "stream",
     "text": [
      "Características Importantes:\n",
      "feature 0: 0.177\n",
      "feature 1: 0.221\n",
      "feature 2: 0.173\n",
      "feature 3: 0.238\n",
      "feature 4: 0.191\n",
      "\n"
     ]
    },
    {
     "data": {
      "image/png": "[encoded data removed]",
      "text/plain": [
       "<Figure size 1200x600 with 1 Axes>"
      ]
     },
     "metadata": {},
     "output_type": "display_data"
    }
   ],
   "source": [
    "importances = Rf.feature_importances_\n",
    "i = ['KM', 'Año', 'Cambio', 'Potencia', 'Dimensiones']\n",
    "features = [f'feature {i}' for i in range(X.shape[1])]\n",
    "\n",
    "# Umbral para seleccionar características importantes (ajustar según sea necesario)\n",
    "threshold = 0.001\n",
    "\n",
    "# Filtrar características con importancia por encima del umbral\n",
    "important_features = [features[i] for i, imp in enumerate(importances) if imp > threshold]\n",
    "important_scores = [round(imp, 3) for imp in importances if imp > threshold]\n",
    "\n",
    "# Imprimir características y puntajes importantes\n",
    "print(\"Características Importantes:\")\n",
    "for feature, score in zip(important_features, important_scores):\n",
    "    print(f\"{feature}: {score}\")\n",
    "\n",
    "print()\n",
    "\n",
    "# Gráfica mejorada (personaliza etiquetas y título si lo deseas)\n",
    "plt.figure(figsize=(12, 6))  # Ajusta el tamaño de la figura\n",
    "plt.bar(important_features, important_scores)\n",
    "plt.xticks(rotation=45, ha='right')  # Rotar etiquetas del eje x para mejor lectura\n",
    "plt.xlabel(f\"{i}\")\n",
    "plt.ylabel(\"Puntaje de Importancia\")\n",
    "plt.title(\"Importancia de las Características (Por Encima del Umbral)\")  # Título opcional\n",
    "plt.tight_layout()\n",
    "plt.show()"
   ]
  }
 ],
 "metadata": {
  "kernelspec": {
   "display_name": "Python 3",
   "language": "python",
   "name": "python3"
  },
  "language_info": {
   "codemirror_mode": {
    "name": "ipython",
    "version": 3
   },
   "file_extension": ".py",
   "mimetype": "text/x-python",
   "name": "python",
   "nbconvert_exporter": "python",
   "pygments_lexer": "ipython3",
   "version": "3.11.0"
  }
 },
 "nbformat": 4,
 "nbformat_minor": 2
}
