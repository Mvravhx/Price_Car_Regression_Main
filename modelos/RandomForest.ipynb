{
 "cells": [
  {
   "cell_type": "code",
   "execution_count": 56,
   "metadata": {},
   "outputs": [],
   "source": [
    "import pandas as pd\n",
    "import numpy as np\n",
    "import statsmodels.api as sm\n",
    "import matplotlib.pyplot as plt\n",
    "import seaborn as sns\n",
    "import warnings\n",
    "import pickle\n",
    "import plotly.express as px\n",
    "\n",
    "from sklearn.preprocessing import MinMaxScaler\n",
    "\n",
    "warnings.filterwarnings('ignore')\n"
   ]
  },
  {
   "cell_type": "code",
   "execution_count": 57,
   "metadata": {},
   "outputs": [
    {
     "data": {
      "text/html": [
       "<div>\n",
       "<style scoped>\n",
       "    .dataframe tbody tr th:only-of-type {\n",
       "        vertical-align: middle;\n",
       "    }\n",
       "\n",
       "    .dataframe tbody tr th {\n",
       "        vertical-align: top;\n",
       "    }\n",
       "\n",
       "    .dataframe thead th {\n",
       "        text-align: right;\n",
       "    }\n",
       "</style>\n",
       "<table border=\"1\" class=\"dataframe\">\n",
       "  <thead>\n",
       "    <tr style=\"text-align: right;\">\n",
       "      <th></th>\n",
       "      <th>Año</th>\n",
       "      <th>Nº puertas</th>\n",
       "      <th>Potencia</th>\n",
       "      <th>Velocidad máxima</th>\n",
       "      <th>Aceleracion</th>\n",
       "      <th>Consumo</th>\n",
       "      <th>Emisiones</th>\n",
       "      <th>Largo</th>\n",
       "      <th>Ancho</th>\n",
       "      <th>Alto</th>\n",
       "      <th>...</th>\n",
       "      <th>Carroceria_Todoterreno</th>\n",
       "      <th>Carroceria_Monovolumen</th>\n",
       "      <th>Carroceria_Vehículo comercial</th>\n",
       "      <th>Carroceria_Pick Up</th>\n",
       "      <th>Carroceria_Descapotable</th>\n",
       "      <th>Carroceria_Coupé</th>\n",
       "      <th>Etiqueta_B</th>\n",
       "      <th>Etiqueta_Cero</th>\n",
       "      <th>Etiqueta_ECO</th>\n",
       "      <th>Etiqueta_Sin etiqueta</th>\n",
       "    </tr>\n",
       "  </thead>\n",
       "  <tbody>\n",
       "    <tr>\n",
       "      <th>0</th>\n",
       "      <td>2019.0</td>\n",
       "      <td>5.0</td>\n",
       "      <td>150.0</td>\n",
       "      <td>212.0</td>\n",
       "      <td>8.7</td>\n",
       "      <td>4.5</td>\n",
       "      <td>117.0</td>\n",
       "      <td>4548.0</td>\n",
       "      <td>1816.0</td>\n",
       "      <td>1439.0</td>\n",
       "      <td>...</td>\n",
       "      <td>0.0</td>\n",
       "      <td>0.0</td>\n",
       "      <td>0.0</td>\n",
       "      <td>0.0</td>\n",
       "      <td>1.0</td>\n",
       "      <td>0.0</td>\n",
       "      <td>1.0</td>\n",
       "      <td>0.0</td>\n",
       "      <td>0.0</td>\n",
       "      <td>0.0</td>\n",
       "    </tr>\n",
       "    <tr>\n",
       "      <th>1</th>\n",
       "      <td>2009.0</td>\n",
       "      <td>3.0</td>\n",
       "      <td>110.0</td>\n",
       "      <td>190.0</td>\n",
       "      <td>10.7</td>\n",
       "      <td>4.5</td>\n",
       "      <td>119.0</td>\n",
       "      <td>4199.0</td>\n",
       "      <td>1779.0</td>\n",
       "      <td>1469.0</td>\n",
       "      <td>...</td>\n",
       "      <td>0.0</td>\n",
       "      <td>0.0</td>\n",
       "      <td>0.0</td>\n",
       "      <td>1.0</td>\n",
       "      <td>0.0</td>\n",
       "      <td>0.0</td>\n",
       "      <td>0.0</td>\n",
       "      <td>0.0</td>\n",
       "      <td>0.0</td>\n",
       "      <td>0.0</td>\n",
       "    </tr>\n",
       "    <tr>\n",
       "      <th>2</th>\n",
       "      <td>2007.0</td>\n",
       "      <td>5.0</td>\n",
       "      <td>177.0</td>\n",
       "      <td>200.0</td>\n",
       "      <td>9.3</td>\n",
       "      <td>7.0</td>\n",
       "      <td>185.0</td>\n",
       "      <td>4395.0</td>\n",
       "      <td>1815.0</td>\n",
       "      <td>1720.0</td>\n",
       "      <td>...</td>\n",
       "      <td>0.0</td>\n",
       "      <td>0.0</td>\n",
       "      <td>1.0</td>\n",
       "      <td>0.0</td>\n",
       "      <td>0.0</td>\n",
       "      <td>0.0</td>\n",
       "      <td>0.0</td>\n",
       "      <td>0.0</td>\n",
       "      <td>0.0</td>\n",
       "      <td>0.0</td>\n",
       "    </tr>\n",
       "    <tr>\n",
       "      <th>3</th>\n",
       "      <td>2011.0</td>\n",
       "      <td>5.0</td>\n",
       "      <td>143.0</td>\n",
       "      <td>190.0</td>\n",
       "      <td>11.4</td>\n",
       "      <td>6.5</td>\n",
       "      <td>172.0</td>\n",
       "      <td>4629.0</td>\n",
       "      <td>1880.0</td>\n",
       "      <td>1653.0</td>\n",
       "      <td>...</td>\n",
       "      <td>0.0</td>\n",
       "      <td>0.0</td>\n",
       "      <td>1.0</td>\n",
       "      <td>0.0</td>\n",
       "      <td>0.0</td>\n",
       "      <td>0.0</td>\n",
       "      <td>0.0</td>\n",
       "      <td>0.0</td>\n",
       "      <td>0.0</td>\n",
       "      <td>0.0</td>\n",
       "    </tr>\n",
       "    <tr>\n",
       "      <th>4</th>\n",
       "      <td>2013.0</td>\n",
       "      <td>5.0</td>\n",
       "      <td>313.0</td>\n",
       "      <td>250.0</td>\n",
       "      <td>5.3</td>\n",
       "      <td>6.4</td>\n",
       "      <td>169.0</td>\n",
       "      <td>4969.0</td>\n",
       "      <td>1911.0</td>\n",
       "      <td>1420.0</td>\n",
       "      <td>...</td>\n",
       "      <td>0.0</td>\n",
       "      <td>0.0</td>\n",
       "      <td>0.0</td>\n",
       "      <td>1.0</td>\n",
       "      <td>0.0</td>\n",
       "      <td>0.0</td>\n",
       "      <td>0.0</td>\n",
       "      <td>0.0</td>\n",
       "      <td>0.0</td>\n",
       "      <td>0.0</td>\n",
       "    </tr>\n",
       "  </tbody>\n",
       "</table>\n",
       "<p>5 rows × 41 columns</p>\n",
       "</div>"
      ],
      "text/plain": [
       "      Año  Nº puertas  Potencia  Velocidad máxima  Aceleracion  Consumo  \\\n",
       "0  2019.0         5.0     150.0             212.0          8.7      4.5   \n",
       "1  2009.0         3.0     110.0             190.0         10.7      4.5   \n",
       "2  2007.0         5.0     177.0             200.0          9.3      7.0   \n",
       "3  2011.0         5.0     143.0             190.0         11.4      6.5   \n",
       "4  2013.0         5.0     313.0             250.0          5.3      6.4   \n",
       "\n",
       "   Emisiones   Largo   Ancho    Alto  ...  Carroceria_Todoterreno  \\\n",
       "0      117.0  4548.0  1816.0  1439.0  ...                     0.0   \n",
       "1      119.0  4199.0  1779.0  1469.0  ...                     0.0   \n",
       "2      185.0  4395.0  1815.0  1720.0  ...                     0.0   \n",
       "3      172.0  4629.0  1880.0  1653.0  ...                     0.0   \n",
       "4      169.0  4969.0  1911.0  1420.0  ...                     0.0   \n",
       "\n",
       "   Carroceria_Monovolumen  Carroceria_Vehículo comercial  Carroceria_Pick Up  \\\n",
       "0                     0.0                            0.0                 0.0   \n",
       "1                     0.0                            0.0                 1.0   \n",
       "2                     0.0                            1.0                 0.0   \n",
       "3                     0.0                            1.0                 0.0   \n",
       "4                     0.0                            0.0                 1.0   \n",
       "\n",
       "   Carroceria_Descapotable  Carroceria_Coupé  Etiqueta_B  Etiqueta_Cero  \\\n",
       "0                      1.0               0.0         1.0            0.0   \n",
       "1                      0.0               0.0         0.0            0.0   \n",
       "2                      0.0               0.0         0.0            0.0   \n",
       "3                      0.0               0.0         0.0            0.0   \n",
       "4                      0.0               0.0         0.0            0.0   \n",
       "\n",
       "   Etiqueta_ECO  Etiqueta_Sin etiqueta  \n",
       "0           0.0                    0.0  \n",
       "1           0.0                    0.0  \n",
       "2           0.0                    0.0  \n",
       "3           0.0                    0.0  \n",
       "4           0.0                    0.0  \n",
       "\n",
       "[5 rows x 41 columns]"
      ]
     },
     "execution_count": 57,
     "metadata": {},
     "output_type": "execute_result"
    }
   ],
   "source": [
    "df = pd.read_csv('../data/datos_procesados_2.csv')\n",
    "df.head()"
   ]
  },
  {
   "cell_type": "code",
   "execution_count": 77,
   "metadata": {},
   "outputs": [
    {
     "data": {
      "text/plain": [
       "(41,)"
      ]
     },
     "execution_count": 77,
     "metadata": {},
     "output_type": "execute_result"
    }
   ],
   "source": [
    "df.columns"
   ]
  },
  {
   "cell_type": "code",
   "execution_count": 59,
   "metadata": {},
   "outputs": [
    {
     "data": {
      "text/plain": [
       "((52062, 40), (52062,))"
      ]
     },
     "execution_count": 59,
     "metadata": {},
     "output_type": "execute_result"
    }
   ],
   "source": [
    "X = df.drop(['Precio_log'], axis=1)\n",
    "# Normalizo \n",
    "scaler_x = MinMaxScaler()\n",
    "scaler_x.fit(X)\n",
    "\n",
    "pickle.dump(scaler_x, open(\"../transformadores/MinMax.pk\", 'wb'))\n",
    "\n",
    "\n",
    "X = scaler_x.transform(X)\n",
    "\n",
    "y = df['Precio_log']\n",
    "\n",
    "X.shape, y.shape"
   ]
  },
  {
   "cell_type": "code",
   "execution_count": 60,
   "metadata": {},
   "outputs": [
    {
     "data": {
      "text/plain": [
       "Index(['Año', 'Nº puertas', 'Potencia', 'Velocidad máxima', 'Aceleracion',\n",
       "       'Consumo', 'Emisiones', 'KM_log', 'Combustible_Gasolina',\n",
       "       'Combustible_Eléctrico', 'Combustible_Híbrido', 'Combustible_Otros',\n",
       "       'Cambio_Manual', 'Cambio_Otro', 'Color_Beige', 'Color_Gris',\n",
       "       'Color_Rojo', 'Color_Otro', 'Color_Amarillo', 'Color_Blanco',\n",
       "       'Color_Naranja', 'Color_Marron', 'Color_Verde', 'Color_Violeta',\n",
       "       'Color_Negro', 'Marca_encoded', 'Carroceria_Turismo',\n",
       "       'Carroceria_Todoterreno', 'Carroceria_Monovolumen',\n",
       "       'Carroceria_Vehículo comercial', 'Carroceria_Pick Up',\n",
       "       'Carroceria_Descapotable', 'Carroceria_Coupé', 'Etiqueta_B',\n",
       "       'Etiqueta_Cero', 'Etiqueta_ECO', 'Etiqueta_Sin etiqueta'],\n",
       "      dtype='object')"
      ]
     },
     "execution_count": 60,
     "metadata": {},
     "output_type": "execute_result"
    }
   ],
   "source": [
    "df.drop(['Precio_log','Largo','Ancho','Alto'], axis=1).columns"
   ]
  },
  {
   "cell_type": "code",
   "execution_count": 61,
   "metadata": {},
   "outputs": [
    {
     "data": {
      "text/plain": [
       "((41649, 40), (41649,), (10413, 40), (10413,))"
      ]
     },
     "execution_count": 61,
     "metadata": {},
     "output_type": "execute_result"
    }
   ],
   "source": [
    "from sklearn.model_selection import train_test_split\n",
    "\n",
    "X_train, X_test, y_train, y_test = train_test_split(X, y, test_size=0.2, random_state=32)\n",
    "\n",
    "X_train.shape, y_train.shape, X_test.shape, y_test.shape"
   ]
  },
  {
   "cell_type": "code",
   "execution_count": 62,
   "metadata": {},
   "outputs": [
    {
     "data": {
      "text/plain": [
       "{'bootstrap': True,\n",
       " 'ccp_alpha': 0.0,\n",
       " 'criterion': 'squared_error',\n",
       " 'max_depth': None,\n",
       " 'max_features': 1.0,\n",
       " 'max_leaf_nodes': None,\n",
       " 'max_samples': None,\n",
       " 'min_impurity_decrease': 0.0,\n",
       " 'min_samples_leaf': 1,\n",
       " 'min_samples_split': 2,\n",
       " 'min_weight_fraction_leaf': 0.0,\n",
       " 'monotonic_cst': None,\n",
       " 'n_estimators': 100,\n",
       " 'n_jobs': None,\n",
       " 'oob_score': False,\n",
       " 'random_state': None,\n",
       " 'verbose': 0,\n",
       " 'warm_start': False}"
      ]
     },
     "execution_count": 62,
     "metadata": {},
     "output_type": "execute_result"
    }
   ],
   "source": [
    "from sklearn.ensemble import  RandomForestRegressor\n",
    "\n",
    "rf_1 = RandomForestRegressor()\n",
    "rf_1.get_params()"
   ]
  },
  {
   "cell_type": "code",
   "execution_count": 63,
   "metadata": {},
   "outputs": [
    {
     "data": {
      "text/html": [
       "<style>#sk-container-id-4 {\n",
       "  /* Definition of color scheme common for light and dark mode */\n",
       "  --sklearn-color-text: black;\n",
       "  --sklearn-color-line: gray;\n",
       "  /* Definition of color scheme for unfitted estimators */\n",
       "  --sklearn-color-unfitted-level-0: #fff5e6;\n",
       "  --sklearn-color-unfitted-level-1: #f6e4d2;\n",
       "  --sklearn-color-unfitted-level-2: #ffe0b3;\n",
       "  --sklearn-color-unfitted-level-3: chocolate;\n",
       "  /* Definition of color scheme for fitted estimators */\n",
       "  --sklearn-color-fitted-level-0: #f0f8ff;\n",
       "  --sklearn-color-fitted-level-1: #d4ebff;\n",
       "  --sklearn-color-fitted-level-2: #b3dbfd;\n",
       "  --sklearn-color-fitted-level-3: cornflowerblue;\n",
       "\n",
       "  /* Specific color for light theme */\n",
       "  --sklearn-color-text-on-default-background: var(--sg-text-color, var(--theme-code-foreground, var(--jp-content-font-color1, black)));\n",
       "  --sklearn-color-background: var(--sg-background-color, var(--theme-background, var(--jp-layout-color0, white)));\n",
       "  --sklearn-color-border-box: var(--sg-text-color, var(--theme-code-foreground, var(--jp-content-font-color1, black)));\n",
       "  --sklearn-color-icon: #696969;\n",
       "\n",
       "  @media (prefers-color-scheme: dark) {\n",
       "    /* Redefinition of color scheme for dark theme */\n",
       "    --sklearn-color-text-on-default-background: var(--sg-text-color, var(--theme-code-foreground, var(--jp-content-font-color1, white)));\n",
       "    --sklearn-color-background: var(--sg-background-color, var(--theme-background, var(--jp-layout-color0, #111)));\n",
       "    --sklearn-color-border-box: var(--sg-text-color, var(--theme-code-foreground, var(--jp-content-font-color1, white)));\n",
       "    --sklearn-color-icon: #878787;\n",
       "  }\n",
       "}\n",
       "\n",
       "#sk-container-id-4 {\n",
       "  color: var(--sklearn-color-text);\n",
       "}\n",
       "\n",
       "#sk-container-id-4 pre {\n",
       "  padding: 0;\n",
       "}\n",
       "\n",
       "#sk-container-id-4 input.sk-hidden--visually {\n",
       "  border: 0;\n",
       "  clip: rect(1px 1px 1px 1px);\n",
       "  clip: rect(1px, 1px, 1px, 1px);\n",
       "  height: 1px;\n",
       "  margin: -1px;\n",
       "  overflow: hidden;\n",
       "  padding: 0;\n",
       "  position: absolute;\n",
       "  width: 1px;\n",
       "}\n",
       "\n",
       "#sk-container-id-4 div.sk-dashed-wrapped {\n",
       "  border: 1px dashed var(--sklearn-color-line);\n",
       "  margin: 0 0.4em 0.5em 0.4em;\n",
       "  box-sizing: border-box;\n",
       "  padding-bottom: 0.4em;\n",
       "  background-color: var(--sklearn-color-background);\n",
       "}\n",
       "\n",
       "#sk-container-id-4 div.sk-container {\n",
       "  /* jupyter's `normalize.less` sets `[hidden] { display: none; }`\n",
       "     but bootstrap.min.css set `[hidden] { display: none !important; }`\n",
       "     so we also need the `!important` here to be able to override the\n",
       "     default hidden behavior on the sphinx rendered scikit-learn.org.\n",
       "     See: https://github.com/scikit-learn/scikit-learn/issues/21755 */\n",
       "  display: inline-block !important;\n",
       "  position: relative;\n",
       "}\n",
       "\n",
       "#sk-container-id-4 div.sk-text-repr-fallback {\n",
       "  display: none;\n",
       "}\n",
       "\n",
       "div.sk-parallel-item,\n",
       "div.sk-serial,\n",
       "div.sk-item {\n",
       "  /* draw centered vertical line to link estimators */\n",
       "  background-image: linear-gradient(var(--sklearn-color-text-on-default-background), var(--sklearn-color-text-on-default-background));\n",
       "  background-size: 2px 100%;\n",
       "  background-repeat: no-repeat;\n",
       "  background-position: center center;\n",
       "}\n",
       "\n",
       "/* Parallel-specific style estimator block */\n",
       "\n",
       "#sk-container-id-4 div.sk-parallel-item::after {\n",
       "  content: \"\";\n",
       "  width: 100%;\n",
       "  border-bottom: 2px solid var(--sklearn-color-text-on-default-background);\n",
       "  flex-grow: 1;\n",
       "}\n",
       "\n",
       "#sk-container-id-4 div.sk-parallel {\n",
       "  display: flex;\n",
       "  align-items: stretch;\n",
       "  justify-content: center;\n",
       "  background-color: var(--sklearn-color-background);\n",
       "  position: relative;\n",
       "}\n",
       "\n",
       "#sk-container-id-4 div.sk-parallel-item {\n",
       "  display: flex;\n",
       "  flex-direction: column;\n",
       "}\n",
       "\n",
       "#sk-container-id-4 div.sk-parallel-item:first-child::after {\n",
       "  align-self: flex-end;\n",
       "  width: 50%;\n",
       "}\n",
       "\n",
       "#sk-container-id-4 div.sk-parallel-item:last-child::after {\n",
       "  align-self: flex-start;\n",
       "  width: 50%;\n",
       "}\n",
       "\n",
       "#sk-container-id-4 div.sk-parallel-item:only-child::after {\n",
       "  width: 0;\n",
       "}\n",
       "\n",
       "/* Serial-specific style estimator block */\n",
       "\n",
       "#sk-container-id-4 div.sk-serial {\n",
       "  display: flex;\n",
       "  flex-direction: column;\n",
       "  align-items: center;\n",
       "  background-color: var(--sklearn-color-background);\n",
       "  padding-right: 1em;\n",
       "  padding-left: 1em;\n",
       "}\n",
       "\n",
       "\n",
       "/* Toggleable style: style used for estimator/Pipeline/ColumnTransformer box that is\n",
       "clickable and can be expanded/collapsed.\n",
       "- Pipeline and ColumnTransformer use this feature and define the default style\n",
       "- Estimators will overwrite some part of the style using the `sk-estimator` class\n",
       "*/\n",
       "\n",
       "/* Pipeline and ColumnTransformer style (default) */\n",
       "\n",
       "#sk-container-id-4 div.sk-toggleable {\n",
       "  /* Default theme specific background. It is overwritten whether we have a\n",
       "  specific estimator or a Pipeline/ColumnTransformer */\n",
       "  background-color: var(--sklearn-color-background);\n",
       "}\n",
       "\n",
       "/* Toggleable label */\n",
       "#sk-container-id-4 label.sk-toggleable__label {\n",
       "  cursor: pointer;\n",
       "  display: block;\n",
       "  width: 100%;\n",
       "  margin-bottom: 0;\n",
       "  padding: 0.5em;\n",
       "  box-sizing: border-box;\n",
       "  text-align: center;\n",
       "}\n",
       "\n",
       "#sk-container-id-4 label.sk-toggleable__label-arrow:before {\n",
       "  /* Arrow on the left of the label */\n",
       "  content: \"▸\";\n",
       "  float: left;\n",
       "  margin-right: 0.25em;\n",
       "  color: var(--sklearn-color-icon);\n",
       "}\n",
       "\n",
       "#sk-container-id-4 label.sk-toggleable__label-arrow:hover:before {\n",
       "  color: var(--sklearn-color-text);\n",
       "}\n",
       "\n",
       "/* Toggleable content - dropdown */\n",
       "\n",
       "#sk-container-id-4 div.sk-toggleable__content {\n",
       "  max-height: 0;\n",
       "  max-width: 0;\n",
       "  overflow: hidden;\n",
       "  text-align: left;\n",
       "  /* unfitted */\n",
       "  background-color: var(--sklearn-color-unfitted-level-0);\n",
       "}\n",
       "\n",
       "#sk-container-id-4 div.sk-toggleable__content.fitted {\n",
       "  /* fitted */\n",
       "  background-color: var(--sklearn-color-fitted-level-0);\n",
       "}\n",
       "\n",
       "#sk-container-id-4 div.sk-toggleable__content pre {\n",
       "  margin: 0.2em;\n",
       "  border-radius: 0.25em;\n",
       "  color: var(--sklearn-color-text);\n",
       "  /* unfitted */\n",
       "  background-color: var(--sklearn-color-unfitted-level-0);\n",
       "}\n",
       "\n",
       "#sk-container-id-4 div.sk-toggleable__content.fitted pre {\n",
       "  /* unfitted */\n",
       "  background-color: var(--sklearn-color-fitted-level-0);\n",
       "}\n",
       "\n",
       "#sk-container-id-4 input.sk-toggleable__control:checked~div.sk-toggleable__content {\n",
       "  /* Expand drop-down */\n",
       "  max-height: 200px;\n",
       "  max-width: 100%;\n",
       "  overflow: auto;\n",
       "}\n",
       "\n",
       "#sk-container-id-4 input.sk-toggleable__control:checked~label.sk-toggleable__label-arrow:before {\n",
       "  content: \"▾\";\n",
       "}\n",
       "\n",
       "/* Pipeline/ColumnTransformer-specific style */\n",
       "\n",
       "#sk-container-id-4 div.sk-label input.sk-toggleable__control:checked~label.sk-toggleable__label {\n",
       "  color: var(--sklearn-color-text);\n",
       "  background-color: var(--sklearn-color-unfitted-level-2);\n",
       "}\n",
       "\n",
       "#sk-container-id-4 div.sk-label.fitted input.sk-toggleable__control:checked~label.sk-toggleable__label {\n",
       "  background-color: var(--sklearn-color-fitted-level-2);\n",
       "}\n",
       "\n",
       "/* Estimator-specific style */\n",
       "\n",
       "/* Colorize estimator box */\n",
       "#sk-container-id-4 div.sk-estimator input.sk-toggleable__control:checked~label.sk-toggleable__label {\n",
       "  /* unfitted */\n",
       "  background-color: var(--sklearn-color-unfitted-level-2);\n",
       "}\n",
       "\n",
       "#sk-container-id-4 div.sk-estimator.fitted input.sk-toggleable__control:checked~label.sk-toggleable__label {\n",
       "  /* fitted */\n",
       "  background-color: var(--sklearn-color-fitted-level-2);\n",
       "}\n",
       "\n",
       "#sk-container-id-4 div.sk-label label.sk-toggleable__label,\n",
       "#sk-container-id-4 div.sk-label label {\n",
       "  /* The background is the default theme color */\n",
       "  color: var(--sklearn-color-text-on-default-background);\n",
       "}\n",
       "\n",
       "/* On hover, darken the color of the background */\n",
       "#sk-container-id-4 div.sk-label:hover label.sk-toggleable__label {\n",
       "  color: var(--sklearn-color-text);\n",
       "  background-color: var(--sklearn-color-unfitted-level-2);\n",
       "}\n",
       "\n",
       "/* Label box, darken color on hover, fitted */\n",
       "#sk-container-id-4 div.sk-label.fitted:hover label.sk-toggleable__label.fitted {\n",
       "  color: var(--sklearn-color-text);\n",
       "  background-color: var(--sklearn-color-fitted-level-2);\n",
       "}\n",
       "\n",
       "/* Estimator label */\n",
       "\n",
       "#sk-container-id-4 div.sk-label label {\n",
       "  font-family: monospace;\n",
       "  font-weight: bold;\n",
       "  display: inline-block;\n",
       "  line-height: 1.2em;\n",
       "}\n",
       "\n",
       "#sk-container-id-4 div.sk-label-container {\n",
       "  text-align: center;\n",
       "}\n",
       "\n",
       "/* Estimator-specific */\n",
       "#sk-container-id-4 div.sk-estimator {\n",
       "  font-family: monospace;\n",
       "  border: 1px dotted var(--sklearn-color-border-box);\n",
       "  border-radius: 0.25em;\n",
       "  box-sizing: border-box;\n",
       "  margin-bottom: 0.5em;\n",
       "  /* unfitted */\n",
       "  background-color: var(--sklearn-color-unfitted-level-0);\n",
       "}\n",
       "\n",
       "#sk-container-id-4 div.sk-estimator.fitted {\n",
       "  /* fitted */\n",
       "  background-color: var(--sklearn-color-fitted-level-0);\n",
       "}\n",
       "\n",
       "/* on hover */\n",
       "#sk-container-id-4 div.sk-estimator:hover {\n",
       "  /* unfitted */\n",
       "  background-color: var(--sklearn-color-unfitted-level-2);\n",
       "}\n",
       "\n",
       "#sk-container-id-4 div.sk-estimator.fitted:hover {\n",
       "  /* fitted */\n",
       "  background-color: var(--sklearn-color-fitted-level-2);\n",
       "}\n",
       "\n",
       "/* Specification for estimator info (e.g. \"i\" and \"?\") */\n",
       "\n",
       "/* Common style for \"i\" and \"?\" */\n",
       "\n",
       ".sk-estimator-doc-link,\n",
       "a:link.sk-estimator-doc-link,\n",
       "a:visited.sk-estimator-doc-link {\n",
       "  float: right;\n",
       "  font-size: smaller;\n",
       "  line-height: 1em;\n",
       "  font-family: monospace;\n",
       "  background-color: var(--sklearn-color-background);\n",
       "  border-radius: 1em;\n",
       "  height: 1em;\n",
       "  width: 1em;\n",
       "  text-decoration: none !important;\n",
       "  margin-left: 1ex;\n",
       "  /* unfitted */\n",
       "  border: var(--sklearn-color-unfitted-level-1) 1pt solid;\n",
       "  color: var(--sklearn-color-unfitted-level-1);\n",
       "}\n",
       "\n",
       ".sk-estimator-doc-link.fitted,\n",
       "a:link.sk-estimator-doc-link.fitted,\n",
       "a:visited.sk-estimator-doc-link.fitted {\n",
       "  /* fitted */\n",
       "  border: var(--sklearn-color-fitted-level-1) 1pt solid;\n",
       "  color: var(--sklearn-color-fitted-level-1);\n",
       "}\n",
       "\n",
       "/* On hover */\n",
       "div.sk-estimator:hover .sk-estimator-doc-link:hover,\n",
       ".sk-estimator-doc-link:hover,\n",
       "div.sk-label-container:hover .sk-estimator-doc-link:hover,\n",
       ".sk-estimator-doc-link:hover {\n",
       "  /* unfitted */\n",
       "  background-color: var(--sklearn-color-unfitted-level-3);\n",
       "  color: var(--sklearn-color-background);\n",
       "  text-decoration: none;\n",
       "}\n",
       "\n",
       "div.sk-estimator.fitted:hover .sk-estimator-doc-link.fitted:hover,\n",
       ".sk-estimator-doc-link.fitted:hover,\n",
       "div.sk-label-container:hover .sk-estimator-doc-link.fitted:hover,\n",
       ".sk-estimator-doc-link.fitted:hover {\n",
       "  /* fitted */\n",
       "  background-color: var(--sklearn-color-fitted-level-3);\n",
       "  color: var(--sklearn-color-background);\n",
       "  text-decoration: none;\n",
       "}\n",
       "\n",
       "/* Span, style for the box shown on hovering the info icon */\n",
       ".sk-estimator-doc-link span {\n",
       "  display: none;\n",
       "  z-index: 9999;\n",
       "  position: relative;\n",
       "  font-weight: normal;\n",
       "  right: .2ex;\n",
       "  padding: .5ex;\n",
       "  margin: .5ex;\n",
       "  width: min-content;\n",
       "  min-width: 20ex;\n",
       "  max-width: 50ex;\n",
       "  color: var(--sklearn-color-text);\n",
       "  box-shadow: 2pt 2pt 4pt #999;\n",
       "  /* unfitted */\n",
       "  background: var(--sklearn-color-unfitted-level-0);\n",
       "  border: .5pt solid var(--sklearn-color-unfitted-level-3);\n",
       "}\n",
       "\n",
       ".sk-estimator-doc-link.fitted span {\n",
       "  /* fitted */\n",
       "  background: var(--sklearn-color-fitted-level-0);\n",
       "  border: var(--sklearn-color-fitted-level-3);\n",
       "}\n",
       "\n",
       ".sk-estimator-doc-link:hover span {\n",
       "  display: block;\n",
       "}\n",
       "\n",
       "/* \"?\"-specific style due to the `<a>` HTML tag */\n",
       "\n",
       "#sk-container-id-4 a.estimator_doc_link {\n",
       "  float: right;\n",
       "  font-size: 1rem;\n",
       "  line-height: 1em;\n",
       "  font-family: monospace;\n",
       "  background-color: var(--sklearn-color-background);\n",
       "  border-radius: 1rem;\n",
       "  height: 1rem;\n",
       "  width: 1rem;\n",
       "  text-decoration: none;\n",
       "  /* unfitted */\n",
       "  color: var(--sklearn-color-unfitted-level-1);\n",
       "  border: var(--sklearn-color-unfitted-level-1) 1pt solid;\n",
       "}\n",
       "\n",
       "#sk-container-id-4 a.estimator_doc_link.fitted {\n",
       "  /* fitted */\n",
       "  border: var(--sklearn-color-fitted-level-1) 1pt solid;\n",
       "  color: var(--sklearn-color-fitted-level-1);\n",
       "}\n",
       "\n",
       "/* On hover */\n",
       "#sk-container-id-4 a.estimator_doc_link:hover {\n",
       "  /* unfitted */\n",
       "  background-color: var(--sklearn-color-unfitted-level-3);\n",
       "  color: var(--sklearn-color-background);\n",
       "  text-decoration: none;\n",
       "}\n",
       "\n",
       "#sk-container-id-4 a.estimator_doc_link.fitted:hover {\n",
       "  /* fitted */\n",
       "  background-color: var(--sklearn-color-fitted-level-3);\n",
       "}\n",
       "</style><div id=\"sk-container-id-4\" class=\"sk-top-container\"><div class=\"sk-text-repr-fallback\"><pre>RandomForestRegressor()</pre><b>In a Jupyter environment, please rerun this cell to show the HTML representation or trust the notebook. <br />On GitHub, the HTML representation is unable to render, please try loading this page with nbviewer.org.</b></div><div class=\"sk-container\" hidden><div class=\"sk-item\"><div class=\"sk-estimator fitted sk-toggleable\"><input class=\"sk-toggleable__control sk-hidden--visually\" id=\"sk-estimator-id-4\" type=\"checkbox\" checked><label for=\"sk-estimator-id-4\" class=\"sk-toggleable__label fitted sk-toggleable__label-arrow fitted\">&nbsp;&nbsp;RandomForestRegressor<a class=\"sk-estimator-doc-link fitted\" rel=\"noreferrer\" target=\"_blank\" href=\"https://scikit-learn.org/1.4/modules/generated/sklearn.ensemble.RandomForestRegressor.html\">?<span>Documentation for RandomForestRegressor</span></a><span class=\"sk-estimator-doc-link fitted\">i<span>Fitted</span></span></label><div class=\"sk-toggleable__content fitted\"><pre>RandomForestRegressor()</pre></div> </div></div></div></div>"
      ],
      "text/plain": [
       "RandomForestRegressor()"
      ]
     },
     "execution_count": 63,
     "metadata": {},
     "output_type": "execute_result"
    }
   ],
   "source": [
    "rf_1.fit(X_train, y_train)"
   ]
  },
  {
   "cell_type": "code",
   "execution_count": 64,
   "metadata": {},
   "outputs": [
    {
     "name": "stdout",
     "output_type": "stream",
     "text": [
      "RMSE Train data 0.050920453408397515\n"
     ]
    }
   ],
   "source": [
    "# Check training\n",
    "y_pred_train = rf_1.predict(X_train)\n",
    "\n",
    "pickle.dump(rf_1, open(\"../modelos_entrenados/ModeloRandomForest1.pk\", 'wb'))\n",
    "\n",
    "# rmse\n",
    "from sklearn.metrics import  mean_squared_error\n",
    "\n",
    "rmse_train = np.sqrt(mean_squared_error(y_train, y_pred_train))\n",
    "\n",
    "print('RMSE Train data {}'.format(rmse_train))\n"
   ]
  },
  {
   "cell_type": "code",
   "execution_count": 65,
   "metadata": {},
   "outputs": [
    {
     "name": "stdout",
     "output_type": "stream",
     "text": [
      "RMSE Test data 0.13703727071104194\n"
     ]
    }
   ],
   "source": [
    "# error test data\n",
    "y_pred_test = rf_1.predict(X_test)\n",
    "\n",
    "rmse_test = np.sqrt(mean_squared_error(y_test, y_pred_test))\n",
    "\n",
    "print('RMSE Test data {}'.format(rmse_test))"
   ]
  },
  {
   "cell_type": "code",
   "execution_count": 66,
   "metadata": {},
   "outputs": [
    {
     "name": "stdout",
     "output_type": "stream",
     "text": [
      "Puntuacion entrenamiento: 0.9907453919395652\n"
     ]
    }
   ],
   "source": [
    "# Check puntuacion traning data.\n",
    "from sklearn.metrics import r2_score\n",
    "\n",
    "y_pred_train = rf_1.predict(X_train)\n",
    "\n",
    "print('Puntuacion entrenamiento: {}'.format(r2_score(y_train, y_pred_train)))"
   ]
  },
  {
   "cell_type": "code",
   "execution_count": 67,
   "metadata": {},
   "outputs": [
    {
     "name": "stdout",
     "output_type": "stream",
     "text": [
      "Puntuacion Test: 0.9342024762252537\n"
     ]
    }
   ],
   "source": [
    "y_pred_test = rf_1.predict(X_test)\n",
    "print('Puntuacion Test: {}'.format(r2_score(y_test, y_pred_test)))"
   ]
  },
  {
   "cell_type": "code",
   "execution_count": 68,
   "metadata": {},
   "outputs": [
    {
     "data": {
      "image/png": "[encoded data removed]",
      "text/plain": [
       "<Figure size 1700x700 with 2 Axes>"
      ]
     },
     "metadata": {},
     "output_type": "display_data"
    }
   ],
   "source": [
    "# plotting train\n",
    "# check prediccion con valores originales\n",
    "plt.figure(figsize=(17,7))\n",
    "y_pred_train = rf_1.predict(X_train)\n",
    "plt.subplot(1,2,1)\n",
    "plt.scatter(y_train, y_pred_train, alpha=0.2);\n",
    "plt.xlabel('Objetivo (y_train)');\n",
    "plt.ylabel('Prediccion (y_pred)');\n",
    "plt.title('Tiempo de train');\n",
    "\n",
    "# plotting test error\n",
    "y_pred_test = rf_1.predict(X_test)\n",
    "plt.subplot(1,2,2)\n",
    "plt.scatter(y_test, y_pred_test, alpha=0.2);\n",
    "plt.xlabel('Objetivos (y_test)');\n",
    "plt.ylabel('Prediccion (y_pred_train)');\n",
    "plt.title('Tiempo test');\n"
   ]
  },
  {
   "cell_type": "code",
   "execution_count": 69,
   "metadata": {},
   "outputs": [
    {
     "data": {
      "text/plain": [
       "Text(0.5, 1.0, 'Testting Residual PDF')"
      ]
     },
     "execution_count": 69,
     "metadata": {},
     "output_type": "execute_result"
    },
    {
     "data": {
      "image/png": "[encoded data removed]",
      "text/plain": [
       "<Figure size 1700x700 with 2 Axes>"
      ]
     },
     "metadata": {},
     "output_type": "display_data"
    }
   ],
   "source": [
    "# plotting distribucion residual\n",
    "residual_train = (y_train - rf_1.predict(X_train))\n",
    "residual_test = (y_test - rf_1.predict(X_test))\n",
    "\n",
    "# ploting en el entrenamiento\n",
    "plt.figure(figsize=(17,7))\n",
    "plt.subplot(1,2,1)\n",
    "sns.distplot(residual_train)\n",
    "plt.title('Traning Residual PDF')\n",
    "\n",
    "# ploting test\n",
    "plt.subplot(1,2,2)\n",
    "sns.distplot(residual_test)\n",
    "plt.title('Testting Residual PDF')"
   ]
  },
  {
   "cell_type": "code",
   "execution_count": 70,
   "metadata": {},
   "outputs": [
    {
     "data": {
      "text/html": [
       "<div>\n",
       "<style scoped>\n",
       "    .dataframe tbody tr th:only-of-type {\n",
       "        vertical-align: middle;\n",
       "    }\n",
       "\n",
       "    .dataframe tbody tr th {\n",
       "        vertical-align: top;\n",
       "    }\n",
       "\n",
       "    .dataframe thead th {\n",
       "        text-align: right;\n",
       "    }\n",
       "</style>\n",
       "<table border=\"1\" class=\"dataframe\">\n",
       "  <thead>\n",
       "    <tr style=\"text-align: right;\">\n",
       "      <th></th>\n",
       "      <th>Prediccion</th>\n",
       "      <th>Objetivo</th>\n",
       "      <th>Residual</th>\n",
       "      <th>Difference%</th>\n",
       "    </tr>\n",
       "  </thead>\n",
       "  <tbody>\n",
       "    <tr>\n",
       "      <th>0</th>\n",
       "      <td>10.211867</td>\n",
       "      <td>10.126271</td>\n",
       "      <td>-0.085596</td>\n",
       "      <td>0.845287</td>\n",
       "    </tr>\n",
       "    <tr>\n",
       "      <th>1</th>\n",
       "      <td>9.643085</td>\n",
       "      <td>9.679781</td>\n",
       "      <td>0.036697</td>\n",
       "      <td>0.379106</td>\n",
       "    </tr>\n",
       "    <tr>\n",
       "      <th>2</th>\n",
       "      <td>9.563185</td>\n",
       "      <td>9.729134</td>\n",
       "      <td>0.165949</td>\n",
       "      <td>1.705694</td>\n",
       "    </tr>\n",
       "    <tr>\n",
       "      <th>3</th>\n",
       "      <td>11.091145</td>\n",
       "      <td>11.000448</td>\n",
       "      <td>-0.090697</td>\n",
       "      <td>0.824482</td>\n",
       "    </tr>\n",
       "    <tr>\n",
       "      <th>4</th>\n",
       "      <td>9.464986</td>\n",
       "      <td>9.209440</td>\n",
       "      <td>-0.255546</td>\n",
       "      <td>2.774831</td>\n",
       "    </tr>\n",
       "    <tr>\n",
       "      <th>...</th>\n",
       "      <td>...</td>\n",
       "      <td>...</td>\n",
       "      <td>...</td>\n",
       "      <td>...</td>\n",
       "    </tr>\n",
       "    <tr>\n",
       "      <th>10408</th>\n",
       "      <td>10.458988</td>\n",
       "      <td>10.595409</td>\n",
       "      <td>0.136421</td>\n",
       "      <td>1.287551</td>\n",
       "    </tr>\n",
       "    <tr>\n",
       "      <th>10409</th>\n",
       "      <td>9.814124</td>\n",
       "      <td>9.814656</td>\n",
       "      <td>0.000532</td>\n",
       "      <td>0.005420</td>\n",
       "    </tr>\n",
       "    <tr>\n",
       "      <th>10410</th>\n",
       "      <td>10.335989</td>\n",
       "      <td>10.462846</td>\n",
       "      <td>0.126857</td>\n",
       "      <td>1.212455</td>\n",
       "    </tr>\n",
       "    <tr>\n",
       "      <th>10411</th>\n",
       "      <td>9.908516</td>\n",
       "      <td>9.887155</td>\n",
       "      <td>-0.021361</td>\n",
       "      <td>0.216048</td>\n",
       "    </tr>\n",
       "    <tr>\n",
       "      <th>10412</th>\n",
       "      <td>10.132811</td>\n",
       "      <td>10.036750</td>\n",
       "      <td>-0.096061</td>\n",
       "      <td>0.957093</td>\n",
       "    </tr>\n",
       "  </tbody>\n",
       "</table>\n",
       "<p>10413 rows × 4 columns</p>\n",
       "</div>"
      ],
      "text/plain": [
       "       Prediccion   Objetivo  Residual  Difference%\n",
       "0       10.211867  10.126271 -0.085596     0.845287\n",
       "1        9.643085   9.679781  0.036697     0.379106\n",
       "2        9.563185   9.729134  0.165949     1.705694\n",
       "3       11.091145  11.000448 -0.090697     0.824482\n",
       "4        9.464986   9.209440 -0.255546     2.774831\n",
       "...           ...        ...       ...          ...\n",
       "10408   10.458988  10.595409  0.136421     1.287551\n",
       "10409    9.814124   9.814656  0.000532     0.005420\n",
       "10410   10.335989  10.462846  0.126857     1.212455\n",
       "10411    9.908516   9.887155 -0.021361     0.216048\n",
       "10412   10.132811  10.036750 -0.096061     0.957093\n",
       "\n",
       "[10413 rows x 4 columns]"
      ]
     },
     "execution_count": 70,
     "metadata": {},
     "output_type": "execute_result"
    }
   ],
   "source": [
    "# Crear df comparar resultados y prediccion \n",
    "df_eval = pd.DataFrame(rf_1.predict(X_test), columns=['Prediccion'])\n",
    "# adding column\n",
    "y_test = y_test.reset_index(drop=True)\n",
    "df_eval['Objetivo'] = y_test\n",
    "\n",
    "# creando columnas residual y difference\n",
    "df_eval['Residual'] = df_eval['Objetivo'] - df_eval['Prediccion']\n",
    "df_eval['Difference%'] = np.absolute(df_eval['Residual'] / df_eval['Objetivo']*100)\n",
    "# check \n",
    "df_eval"
   ]
  },
  {
   "cell_type": "code",
   "execution_count": 71,
   "metadata": {},
   "outputs": [
    {
     "data": {
      "text/html": [
       "<div>\n",
       "<style scoped>\n",
       "    .dataframe tbody tr th:only-of-type {\n",
       "        vertical-align: middle;\n",
       "    }\n",
       "\n",
       "    .dataframe tbody tr th {\n",
       "        vertical-align: top;\n",
       "    }\n",
       "\n",
       "    .dataframe thead th {\n",
       "        text-align: right;\n",
       "    }\n",
       "</style>\n",
       "<table border=\"1\" class=\"dataframe\">\n",
       "  <thead>\n",
       "    <tr style=\"text-align: right;\">\n",
       "      <th></th>\n",
       "      <th>Prediccion</th>\n",
       "      <th>Objetivo</th>\n",
       "      <th>Residual</th>\n",
       "      <th>Difference%</th>\n",
       "    </tr>\n",
       "  </thead>\n",
       "  <tbody>\n",
       "    <tr>\n",
       "      <th>count</th>\n",
       "      <td>10413.000000</td>\n",
       "      <td>10413.000000</td>\n",
       "      <td>10413.000000</td>\n",
       "      <td>10413.000000</td>\n",
       "    </tr>\n",
       "    <tr>\n",
       "      <th>mean</th>\n",
       "      <td>9.925224</td>\n",
       "      <td>9.929116</td>\n",
       "      <td>0.003892</td>\n",
       "      <td>0.910886</td>\n",
       "    </tr>\n",
       "    <tr>\n",
       "      <th>std</th>\n",
       "      <td>0.512214</td>\n",
       "      <td>0.534263</td>\n",
       "      <td>0.136989</td>\n",
       "      <td>1.079994</td>\n",
       "    </tr>\n",
       "    <tr>\n",
       "      <th>min</th>\n",
       "      <td>7.429874</td>\n",
       "      <td>6.907755</td>\n",
       "      <td>-0.963591</td>\n",
       "      <td>0.000000</td>\n",
       "    </tr>\n",
       "    <tr>\n",
       "      <th>25%</th>\n",
       "      <td>9.626973</td>\n",
       "      <td>9.622516</td>\n",
       "      <td>-0.056567</td>\n",
       "      <td>0.243310</td>\n",
       "    </tr>\n",
       "    <tr>\n",
       "      <th>50%</th>\n",
       "      <td>9.911305</td>\n",
       "      <td>9.915959</td>\n",
       "      <td>-0.001409</td>\n",
       "      <td>0.587919</td>\n",
       "    </tr>\n",
       "    <tr>\n",
       "      <th>75%</th>\n",
       "      <td>10.231591</td>\n",
       "      <td>10.239638</td>\n",
       "      <td>0.060253</td>\n",
       "      <td>1.194945</td>\n",
       "    </tr>\n",
       "    <tr>\n",
       "      <th>max</th>\n",
       "      <td>12.623249</td>\n",
       "      <td>12.834684</td>\n",
       "      <td>1.494326</td>\n",
       "      <td>14.251042</td>\n",
       "    </tr>\n",
       "  </tbody>\n",
       "</table>\n",
       "</div>"
      ],
      "text/plain": [
       "         Prediccion      Objetivo      Residual   Difference%\n",
       "count  10413.000000  10413.000000  10413.000000  10413.000000\n",
       "mean       9.925224      9.929116      0.003892      0.910886\n",
       "std        0.512214      0.534263      0.136989      1.079994\n",
       "min        7.429874      6.907755     -0.963591      0.000000\n",
       "25%        9.626973      9.622516     -0.056567      0.243310\n",
       "50%        9.911305      9.915959     -0.001409      0.587919\n",
       "75%       10.231591     10.239638      0.060253      1.194945\n",
       "max       12.623249     12.834684      1.494326     14.251042"
      ]
     },
     "execution_count": 71,
     "metadata": {},
     "output_type": "execute_result"
    }
   ],
   "source": [
    "df_eval.describe()"
   ]
  },
  {
   "cell_type": "code",
   "execution_count": 72,
   "metadata": {},
   "outputs": [
    {
     "data": {
      "image/png": "[encoded data removed]",
      "text/plain": [
       "<Figure size 2500x800 with 1 Axes>"
      ]
     },
     "metadata": {},
     "output_type": "display_data"
    }
   ],
   "source": [
    "#Visualizar un indicador del tipo oscilador\n",
    "X = np.linspace(0, 250, 250)\n",
    "Y1 = df_eval[\"Prediccion\"].head(250).values\n",
    "Y2 = df_eval[\"Objetivo\"].head(250).values\n",
    "\n",
    "plt.figure(figsize = (25, 8))\n",
    "# Plot de X**2\n",
    "plt.plot(X, Y1, color=\"blue\")\n",
    "# Plot de X**3\n",
    "\n",
    "plt.plot(X, Y2,color=\"red\")\n",
    "\n",
    "\n",
    "plt.show()"
   ]
  },
  {
   "cell_type": "code",
   "execution_count": 73,
   "metadata": {},
   "outputs": [],
   "source": [
    "# Para guardar el modelo\n",
    "#import joblib\n",
    "\n",
    "#joblib.dump(rf_1, 'randomforest.pkl', compress=3)"
   ]
  },
  {
   "cell_type": "code",
   "execution_count": 74,
   "metadata": {},
   "outputs": [],
   "source": [
    "X = np.linspace(0, 150, 150)\n",
    "Y1 = df_eval[\"Prediccion\"].head(150).values\n",
    "Y2 = df_eval[\"Objetivo\"].head(150).values"
   ]
  },
  {
   "cell_type": "code",
   "execution_count": 75,
   "metadata": {},
   "outputs": [],
   "source": [
    "valores = np.concatenate((Y1,Y2))\n",
    "\n",
    "\n",
    "indice1 =np.full(Y1.shape[0], fill_value=\"Predicción\")\n",
    "indice2 =np.full(Y2.shape[0], fill_value=\"Valor real\")\n",
    "indices = np.concatenate((indice1,indice2))\n",
    "\n",
    "df_comparando = pd.DataFrame({'x': np.concatenate((X,X)),\n",
    "                   'y': valores,\n",
    "                   'grupo' : indices})"
   ]
  },
  {
   "cell_type": "code",
   "execution_count": 76,
   "metadata": {},
   "outputs": [
    {
     "data": {
      "application/vnd.plotly.v1+json": {
       "config": {
        "plotlyServerURL": "https://plot.ly"
       },
       "data": [
        {
         "hovertemplate": "grupo=Predicción<br>x=%{x}<br>y=%{y}<extra></extra>",
         "legendgroup": "Predicción",
         "line": {
          "color": "#636efa",
          "dash": "solid"
         },
         "marker": {
          "symbol": "circle"
         },
         "mode": "lines",
         "name": "Predicción",
         "orientation": "v",
         "showlegend": true,
         "type": "scatter",
         "x": [
          0,
          1.0067114093959733,
          2.0134228187919465,
          3.0201342281879198,
          4.026845637583893,
          5.033557046979866,
          6.0402684563758395,
          7.046979865771813,
          8.053691275167786,
          9.060402684563758,
          10.067114093959733,
          11.073825503355707,
          12.080536912751679,
          13.087248322147651,
          14.093959731543626,
          15.1006711409396,
          16.107382550335572,
          17.114093959731544,
          18.120805369127517,
          19.127516778523493,
          20.134228187919465,
          21.140939597315437,
          22.147651006711413,
          23.154362416107386,
          24.161073825503358,
          25.16778523489933,
          26.174496644295303,
          27.18120805369128,
          28.18791946308725,
          29.194630872483224,
          30.2013422818792,
          31.208053691275172,
          32.214765100671144,
          33.22147651006712,
          34.22818791946309,
          35.234899328859065,
          36.241610738255034,
          37.24832214765101,
          38.255033557046985,
          39.261744966442954,
          40.26845637583893,
          41.275167785234906,
          42.281879194630875,
          43.28859060402685,
          44.29530201342283,
          45.302013422818796,
          46.30872483221477,
          47.31543624161074,
          48.322147651006716,
          49.32885906040269,
          50.33557046979866,
          51.34228187919464,
          52.348993288590606,
          53.35570469798658,
          54.36241610738256,
          55.369127516778526,
          56.3758389261745,
          57.38255033557048,
          58.38926174496645,
          59.39597315436242,
          60.4026845637584,
          61.40939597315437,
          62.416107382550344,
          63.42281879194631,
          64.42953020134229,
          65.43624161073826,
          66.44295302013424,
          67.4496644295302,
          68.45637583892618,
          69.46308724832215,
          70.46979865771813,
          71.4765100671141,
          72.48322147651007,
          73.48993288590604,
          74.49664429530202,
          75.503355704698,
          76.51006711409397,
          77.51677852348995,
          78.52348993288591,
          79.53020134228188,
          80.53691275167786,
          81.54362416107384,
          82.55033557046981,
          83.55704697986577,
          84.56375838926175,
          85.57046979865773,
          86.5771812080537,
          87.58389261744968,
          88.59060402684565,
          89.59731543624162,
          90.60402684563759,
          91.61073825503357,
          92.61744966442954,
          93.62416107382552,
          94.63087248322148,
          95.63758389261746,
          96.64429530201343,
          97.65100671140941,
          98.65771812080538,
          99.66442953020135,
          100.67114093959732,
          101.6778523489933,
          102.68456375838927,
          103.69127516778525,
          104.69798657718121,
          105.70469798657719,
          106.71140939597316,
          107.71812080536914,
          108.72483221476512,
          109.73154362416109,
          110.73825503355705,
          111.74496644295303,
          112.751677852349,
          113.75838926174498,
          114.76510067114096,
          115.77181208053692,
          116.7785234899329,
          117.78523489932887,
          118.79194630872485,
          119.79865771812082,
          120.8053691275168,
          121.81208053691276,
          122.81879194630874,
          123.82550335570471,
          124.83221476510069,
          125.83892617449666,
          126.84563758389262,
          127.8523489932886,
          128.85906040268458,
          129.86577181208054,
          130.87248322147653,
          131.8791946308725,
          132.88590604026848,
          133.89261744966444,
          134.8993288590604,
          135.9060402684564,
          136.91275167785236,
          137.91946308724835,
          138.9261744966443,
          139.93288590604027,
          140.93959731543626,
          141.94630872483222,
          142.9530201342282,
          143.95973154362417,
          144.96644295302013,
          145.97315436241612,
          146.9798657718121,
          147.98657718120808,
          148.99328859060404,
          150
         ],
         "xaxis": "x",
         "y": [
          10.211867070005352,
          9.643084708220774,
          9.563184900057616,
          11.091145152462918,
          9.464986375736684,
          10.296371420551388,
          10.068800086894885,
          9.284481685091706,
          10.315294143520761,
          9.926069881671653,
          9.844670101198178,
          9.687521628958649,
          10.405828901427721,
          10.329465526838383,
          9.581991255268623,
          10.125388933069377,
          10.250111457353293,
          9.710672886633503,
          9.532937935131132,
          9.445913449457803,
          9.580543370401816,
          10.29082667657361,
          9.784951846717496,
          11.233861023326035,
          9.838023499185322,
          10.381158712403996,
          9.60244392556489,
          9.880341042713336,
          9.896062303841621,
          9.15799344873681,
          10.150213339613586,
          9.453001503930308,
          10.385814127048793,
          9.590907092097366,
          10.449563683081909,
          9.84558873997766,
          10.055893743890582,
          9.859827515649064,
          10.173546288360965,
          10.498889458761735,
          9.468045732439116,
          9.11683049798803,
          9.883043664037224,
          10.266201009948098,
          9.983370771246328,
          10.564934274538539,
          9.491351326526367,
          10.011598137550608,
          9.609366200918465,
          10.016315120134525,
          10.445464624868919,
          10.09877210237666,
          9.535657313602321,
          10.137939065077711,
          9.096849308139362,
          9.87190247667081,
          10.528360926616417,
          10.76986255923139,
          9.444111333118872,
          9.8384207941537,
          9.681008892603401,
          9.668793807601,
          9.739198551061223,
          10.29840348403333,
          9.763459304642321,
          9.430565546032534,
          10.201465315938043,
          9.981414355824274,
          9.52904086400411,
          9.33608021923251,
          10.046893731185058,
          10.15224795938105,
          10.090163329127233,
          9.844438154757192,
          9.481668577532552,
          9.902975143827454,
          10.298627882591475,
          9.74109496005488,
          10.018273812602564,
          7.65217024862406,
          9.137921392947899,
          9.721353427197807,
          10.330116624968898,
          9.746633110897516,
          9.313128701854174,
          10.836393597455357,
          9.58248610651443,
          10.510894972146627,
          10.014082013480055,
          9.622362822322465,
          9.872122198326373,
          11.51229583604322,
          9.370365044726793,
          10.138341627948098,
          9.607165305384983,
          9.735014401205206,
          10.343946619840308,
          9.646220763481963,
          9.753732063003365,
          10.26802636835572,
          9.589149017530504,
          9.874709896529243,
          10.064106356635138,
          10.424562472473012,
          10.108621146239635,
          9.510192852045838,
          9.182103522639911,
          10.276770456115482,
          9.763566355520725,
          9.382672053848534,
          9.702687124906008,
          9.468898271479452,
          9.69629069205117,
          10.619452494776567,
          9.772912063662993,
          9.057458747473124,
          10.251631092434431,
          10.060470895945143,
          8.997414289886322,
          9.719279709636316,
          10.460775185374976,
          9.381089498132177,
          10.475464706640855,
          10.234006046490952,
          9.493932086617558,
          9.742644190674568,
          9.615808456049965,
          9.105621342304273,
          10.451437949986639,
          10.287856622701746,
          10.304146819020817,
          9.464625289209094,
          10.679588641528879,
          10.05284446819867,
          9.775476196646668,
          11.099238843055177,
          10.027845545653127,
          10.239063375148376,
          9.325800002759367,
          9.917431064054895,
          11.481625284189311,
          10.133228439173973,
          9.545395780175868,
          11.558273181979235,
          9.881096009617675,
          9.830656729008076,
          9.965911563820763,
          9.221292052756683,
          10.324226970869802,
          10.758272968691823
         ],
         "yaxis": "y"
        },
        {
         "hovertemplate": "grupo=Valor real<br>x=%{x}<br>y=%{y}<extra></extra>",
         "legendgroup": "Valor real",
         "line": {
          "color": "#EF553B",
          "dash": "solid"
         },
         "marker": {
          "symbol": "circle"
         },
         "mode": "lines",
         "name": "Valor real",
         "orientation": "v",
         "showlegend": true,
         "type": "scatter",
         "x": [
          0,
          1.0067114093959733,
          2.0134228187919465,
          3.0201342281879198,
          4.026845637583893,
          5.033557046979866,
          6.0402684563758395,
          7.046979865771813,
          8.053691275167786,
          9.060402684563758,
          10.067114093959733,
          11.073825503355707,
          12.080536912751679,
          13.087248322147651,
          14.093959731543626,
          15.1006711409396,
          16.107382550335572,
          17.114093959731544,
          18.120805369127517,
          19.127516778523493,
          20.134228187919465,
          21.140939597315437,
          22.147651006711413,
          23.154362416107386,
          24.161073825503358,
          25.16778523489933,
          26.174496644295303,
          27.18120805369128,
          28.18791946308725,
          29.194630872483224,
          30.2013422818792,
          31.208053691275172,
          32.214765100671144,
          33.22147651006712,
          34.22818791946309,
          35.234899328859065,
          36.241610738255034,
          37.24832214765101,
          38.255033557046985,
          39.261744966442954,
          40.26845637583893,
          41.275167785234906,
          42.281879194630875,
          43.28859060402685,
          44.29530201342283,
          45.302013422818796,
          46.30872483221477,
          47.31543624161074,
          48.322147651006716,
          49.32885906040269,
          50.33557046979866,
          51.34228187919464,
          52.348993288590606,
          53.35570469798658,
          54.36241610738256,
          55.369127516778526,
          56.3758389261745,
          57.38255033557048,
          58.38926174496645,
          59.39597315436242,
          60.4026845637584,
          61.40939597315437,
          62.416107382550344,
          63.42281879194631,
          64.42953020134229,
          65.43624161073826,
          66.44295302013424,
          67.4496644295302,
          68.45637583892618,
          69.46308724832215,
          70.46979865771813,
          71.4765100671141,
          72.48322147651007,
          73.48993288590604,
          74.49664429530202,
          75.503355704698,
          76.51006711409397,
          77.51677852348995,
          78.52348993288591,
          79.53020134228188,
          80.53691275167786,
          81.54362416107384,
          82.55033557046981,
          83.55704697986577,
          84.56375838926175,
          85.57046979865773,
          86.5771812080537,
          87.58389261744968,
          88.59060402684565,
          89.59731543624162,
          90.60402684563759,
          91.61073825503357,
          92.61744966442954,
          93.62416107382552,
          94.63087248322148,
          95.63758389261746,
          96.64429530201343,
          97.65100671140941,
          98.65771812080538,
          99.66442953020135,
          100.67114093959732,
          101.6778523489933,
          102.68456375838927,
          103.69127516778525,
          104.69798657718121,
          105.70469798657719,
          106.71140939597316,
          107.71812080536914,
          108.72483221476512,
          109.73154362416109,
          110.73825503355705,
          111.74496644295303,
          112.751677852349,
          113.75838926174498,
          114.76510067114096,
          115.77181208053692,
          116.7785234899329,
          117.78523489932887,
          118.79194630872485,
          119.79865771812082,
          120.8053691275168,
          121.81208053691276,
          122.81879194630874,
          123.82550335570471,
          124.83221476510069,
          125.83892617449666,
          126.84563758389262,
          127.8523489932886,
          128.85906040268458,
          129.86577181208054,
          130.87248322147653,
          131.8791946308725,
          132.88590604026848,
          133.89261744966444,
          134.8993288590604,
          135.9060402684564,
          136.91275167785236,
          137.91946308724835,
          138.9261744966443,
          139.93288590604027,
          140.93959731543626,
          141.94630872483222,
          142.9530201342282,
          143.95973154362417,
          144.96644295302013,
          145.97315436241612,
          146.9798657718121,
          147.98657718120808,
          148.99328859060404,
          150
         ],
         "xaxis": "x",
         "y": [
          10.126271039034782,
          9.679781342959442,
          9.72913416539135,
          11.000448478455008,
          9.20943996673302,
          10.37039263624398,
          10.122663242288953,
          9.38437770918244,
          10.305647203635566,
          10.003378135350925,
          9.841665338892785,
          9.740439071085758,
          10.505094936455558,
          10.30229722897745,
          9.581972891547895,
          10.122663242288953,
          10.50235152577494,
          9.62251624577579,
          9.521568058002975,
          9.429556219952412,
          9.509778075438817,
          10.264687244346277,
          9.735128070758227,
          11.002099841204238,
          9.851720461714246,
          10.203258756085228,
          9.60918360377546,
          9.89802264710506,
          9.89802264710506,
          9.278092474027002,
          10.110542371500753,
          9.3910773406399,
          10.030164255362632,
          9.510519035757246,
          10.505094936455558,
          9.898525260706313,
          10.029062375444196,
          9.927741044336832,
          10.212515179007289,
          10.488520429241628,
          9.770013301136158,
          8.948975607841776,
          9.851720461714246,
          10.064798252418376,
          9.989711119284744,
          10.488520429241628,
          9.391911647379434,
          10.081675578048475,
          9.615205300012317,
          10.075379913839544,
          10.59653472809574,
          10.085434039,
          9.472012088995733,
          10.081675578048475,
          9.103979355984771,
          9.81961669349898,
          10.4193305681139,
          10.813780332606648,
          9.424725681616492,
          9.769956159911606,
          9.546169544733283,
          9.79762691183662,
          9.875756578797818,
          10.373209892223665,
          9.740439071085758,
          9.38437770918244,
          10.19954693711736,
          10.042858113983936,
          9.391911647379434,
          9.38437770918244,
          10.106469212026385,
          10.165505603232392,
          10.102379394048045,
          9.6678285081515,
          9.400960731584831,
          9.877194910581204,
          10.434145214930489,
          9.768869855811184,
          10.07285050816569,
          7.170119543449628,
          9.104535313079204,
          9.648014489106362,
          10.288443784012753,
          9.792053072089823,
          9.3048320350689,
          10.91492481446108,
          9.560997243589352,
          10.50783084142058,
          9.99383087243373,
          9.70814154461942,
          9.888424674859085,
          11.28966940732742,
          9.263975921142093,
          10.154285180632154,
          9.648014489106362,
          9.680093969966707,
          10.354595018522993,
          9.677276802172448,
          9.758519582283522,
          10.203629181337648,
          9.532133974056732,
          9.79762691183662,
          10.081675578048475,
          10.38563588541525,
          10.085434039,
          9.268609280100158,
          9.179881164491476,
          10.264687244346277,
          9.87822102528824,
          9.50680873170858,
          9.851983709669012,
          9.503084610020228,
          9.43276366396591,
          10.594156665220533,
          9.767152232578873,
          9.143238568435446,
          10.199918739620156,
          10.126271039034782,
          8.986071187374463,
          9.711176264112805,
          10.601647149919607,
          9.54652685348758,
          10.32518683708304,
          10.27163147557801,
          9.45727857185611,
          9.846970109700957,
          9.509778075438817,
          8.921457578947884,
          10.734242182303689,
          10.798370769971395,
          10.267818117285737,
          9.87822102528824,
          10.666650414667744,
          10.1145990076265,
          9.898525260706313,
          11.154835234271214,
          10.064372648053766,
          10.27163147557801,
          9.391911647379434,
          9.951849053414008,
          11.669937760751914,
          10.167811434160654,
          9.711176264112805,
          11.4605895219503,
          9.79762691183662,
          9.94755228369823,
          10.056251557087757,
          9.29660980712836,
          10.27163147557801,
          10.829748417047592
         ],
         "yaxis": "y"
        }
       ],
       "layout": {
        "autosize": false,
        "height": 600,
        "legend": {
         "title": {
          "text": "grupo"
         },
         "tracegroupgap": 0
        },
        "margin": {
         "t": 60
        },
        "template": {
         "data": {
          "bar": [
           {
            "error_x": {
             "color": "#2a3f5f"
            },
            "error_y": {
             "color": "#2a3f5f"
            },
            "marker": {
             "line": {
              "color": "#E5ECF6",
              "width": 0.5
             },
             "pattern": {
              "fillmode": "overlay",
              "size": 10,
              "solidity": 0.2
             }
            },
            "type": "bar"
           }
          ],
          "barpolar": [
           {
            "marker": {
             "line": {
              "color": "#E5ECF6",
              "width": 0.5
             },
             "pattern": {
              "fillmode": "overlay",
              "size": 10,
              "solidity": 0.2
             }
            },
            "type": "barpolar"
           }
          ],
          "carpet": [
           {
            "aaxis": {
             "endlinecolor": "#2a3f5f",
             "gridcolor": "white",
             "linecolor": "white",
             "minorgridcolor": "white",
             "startlinecolor": "#2a3f5f"
            },
            "baxis": {
             "endlinecolor": "#2a3f5f",
             "gridcolor": "white",
             "linecolor": "white",
             "minorgridcolor": "white",
             "startlinecolor": "#2a3f5f"
            },
            "type": "carpet"
           }
          ],
          "choropleth": [
           {
            "colorbar": {
             "outlinewidth": 0,
             "ticks": ""
            },
            "type": "choropleth"
           }
          ],
          "contour": [
           {
            "colorbar": {
             "outlinewidth": 0,
             "ticks": ""
            },
            "colorscale": [
             [
              0,
              "#0d0887"
             ],
             [
              0.1111111111111111,
              "#46039f"
             ],
             [
              0.2222222222222222,
              "#7201a8"
             ],
             [
              0.3333333333333333,
              "#9c179e"
             ],
             [
              0.4444444444444444,
              "#bd3786"
             ],
             [
              0.5555555555555556,
              "#d8576b"
             ],
             [
              0.6666666666666666,
              "#ed7953"
             ],
             [
              0.7777777777777778,
              "#fb9f3a"
             ],
             [
              0.8888888888888888,
              "#fdca26"
             ],
             [
              1,
              "#f0f921"
             ]
            ],
            "type": "contour"
           }
          ],
          "contourcarpet": [
           {
            "colorbar": {
             "outlinewidth": 0,
             "ticks": ""
            },
            "type": "contourcarpet"
           }
          ],
          "heatmap": [
           {
            "colorbar": {
             "outlinewidth": 0,
             "ticks": ""
            },
            "colorscale": [
             [
              0,
              "#0d0887"
             ],
             [
              0.1111111111111111,
              "#46039f"
             ],
             [
              0.2222222222222222,
              "#7201a8"
             ],
             [
              0.3333333333333333,
              "#9c179e"
             ],
             [
              0.4444444444444444,
              "#bd3786"
             ],
             [
              0.5555555555555556,
              "#d8576b"
             ],
             [
              0.6666666666666666,
              "#ed7953"
             ],
             [
              0.7777777777777778,
              "#fb9f3a"
             ],
             [
              0.8888888888888888,
              "#fdca26"
             ],
             [
              1,
              "#f0f921"
             ]
            ],
            "type": "heatmap"
           }
          ],
          "heatmapgl": [
           {
            "colorbar": {
             "outlinewidth": 0,
             "ticks": ""
            },
            "colorscale": [
             [
              0,
              "#0d0887"
             ],
             [
              0.1111111111111111,
              "#46039f"
             ],
             [
              0.2222222222222222,
              "#7201a8"
             ],
             [
              0.3333333333333333,
              "#9c179e"
             ],
             [
              0.4444444444444444,
              "#bd3786"
             ],
             [
              0.5555555555555556,
              "#d8576b"
             ],
             [
              0.6666666666666666,
              "#ed7953"
             ],
             [
              0.7777777777777778,
              "#fb9f3a"
             ],
             [
              0.8888888888888888,
              "#fdca26"
             ],
             [
              1,
              "#f0f921"
             ]
            ],
            "type": "heatmapgl"
           }
          ],
          "histogram": [
           {
            "marker": {
             "pattern": {
              "fillmode": "overlay",
              "size": 10,
              "solidity": 0.2
             }
            },
            "type": "histogram"
           }
          ],
          "histogram2d": [
           {
            "colorbar": {
             "outlinewidth": 0,
             "ticks": ""
            },
            "colorscale": [
             [
              0,
              "#0d0887"
             ],
             [
              0.1111111111111111,
              "#46039f"
             ],
             [
              0.2222222222222222,
              "#7201a8"
             ],
             [
              0.3333333333333333,
              "#9c179e"
             ],
             [
              0.4444444444444444,
              "#bd3786"
             ],
             [
              0.5555555555555556,
              "#d8576b"
             ],
             [
              0.6666666666666666,
              "#ed7953"
             ],
             [
              0.7777777777777778,
              "#fb9f3a"
             ],
             [
              0.8888888888888888,
              "#fdca26"
             ],
             [
              1,
              "#f0f921"
             ]
            ],
            "type": "histogram2d"
           }
          ],
          "histogram2dcontour": [
           {
            "colorbar": {
             "outlinewidth": 0,
             "ticks": ""
            },
            "colorscale": [
             [
              0,
              "#0d0887"
             ],
             [
              0.1111111111111111,
              "#46039f"
             ],
             [
              0.2222222222222222,
              "#7201a8"
             ],
             [
              0.3333333333333333,
              "#9c179e"
             ],
             [
              0.4444444444444444,
              "#bd3786"
             ],
             [
              0.5555555555555556,
              "#d8576b"
             ],
             [
              0.6666666666666666,
              "#ed7953"
             ],
             [
              0.7777777777777778,
              "#fb9f3a"
             ],
             [
              0.8888888888888888,
              "#fdca26"
             ],
             [
              1,
              "#f0f921"
             ]
            ],
            "type": "histogram2dcontour"
           }
          ],
          "mesh3d": [
           {
            "colorbar": {
             "outlinewidth": 0,
             "ticks": ""
            },
            "type": "mesh3d"
           }
          ],
          "parcoords": [
           {
            "line": {
             "colorbar": {
              "outlinewidth": 0,
              "ticks": ""
             }
            },
            "type": "parcoords"
           }
          ],
          "pie": [
           {
            "automargin": true,
            "type": "pie"
           }
          ],
          "scatter": [
           {
            "fillpattern": {
             "fillmode": "overlay",
             "size": 10,
             "solidity": 0.2
            },
            "type": "scatter"
           }
          ],
          "scatter3d": [
           {
            "line": {
             "colorbar": {
              "outlinewidth": 0,
              "ticks": ""
             }
            },
            "marker": {
             "colorbar": {
              "outlinewidth": 0,
              "ticks": ""
             }
            },
            "type": "scatter3d"
           }
          ],
          "scattercarpet": [
           {
            "marker": {
             "colorbar": {
              "outlinewidth": 0,
              "ticks": ""
             }
            },
            "type": "scattercarpet"
           }
          ],
          "scattergeo": [
           {
            "marker": {
             "colorbar": {
              "outlinewidth": 0,
              "ticks": ""
             }
            },
            "type": "scattergeo"
           }
          ],
          "scattergl": [
           {
            "marker": {
             "colorbar": {
              "outlinewidth": 0,
              "ticks": ""
             }
            },
            "type": "scattergl"
           }
          ],
          "scattermapbox": [
           {
            "marker": {
             "colorbar": {
              "outlinewidth": 0,
              "ticks": ""
             }
            },
            "type": "scattermapbox"
           }
          ],
          "scatterpolar": [
           {
            "marker": {
             "colorbar": {
              "outlinewidth": 0,
              "ticks": ""
             }
            },
            "type": "scatterpolar"
           }
          ],
          "scatterpolargl": [
           {
            "marker": {
             "colorbar": {
              "outlinewidth": 0,
              "ticks": ""
             }
            },
            "type": "scatterpolargl"
           }
          ],
          "scatterternary": [
           {
            "marker": {
             "colorbar": {
              "outlinewidth": 0,
              "ticks": ""
             }
            },
            "type": "scatterternary"
           }
          ],
          "surface": [
           {
            "colorbar": {
             "outlinewidth": 0,
             "ticks": ""
            },
            "colorscale": [
             [
              0,
              "#0d0887"
             ],
             [
              0.1111111111111111,
              "#46039f"
             ],
             [
              0.2222222222222222,
              "#7201a8"
             ],
             [
              0.3333333333333333,
              "#9c179e"
             ],
             [
              0.4444444444444444,
              "#bd3786"
             ],
             [
              0.5555555555555556,
              "#d8576b"
             ],
             [
              0.6666666666666666,
              "#ed7953"
             ],
             [
              0.7777777777777778,
              "#fb9f3a"
             ],
             [
              0.8888888888888888,
              "#fdca26"
             ],
             [
              1,
              "#f0f921"
             ]
            ],
            "type": "surface"
           }
          ],
          "table": [
           {
            "cells": {
             "fill": {
              "color": "#EBF0F8"
             },
             "line": {
              "color": "white"
             }
            },
            "header": {
             "fill": {
              "color": "#C8D4E3"
             },
             "line": {
              "color": "white"
             }
            },
            "type": "table"
           }
          ]
         },
         "layout": {
          "annotationdefaults": {
           "arrowcolor": "#2a3f5f",
           "arrowhead": 0,
           "arrowwidth": 1
          },
          "autotypenumbers": "strict",
          "coloraxis": {
           "colorbar": {
            "outlinewidth": 0,
            "ticks": ""
           }
          },
          "colorscale": {
           "diverging": [
            [
             0,
             "#8e0152"
            ],
            [
             0.1,
             "#c51b7d"
            ],
            [
             0.2,
             "#de77ae"
            ],
            [
             0.3,
             "#f1b6da"
            ],
            [
             0.4,
             "#fde0ef"
            ],
            [
             0.5,
             "#f7f7f7"
            ],
            [
             0.6,
             "#e6f5d0"
            ],
            [
             0.7,
             "#b8e186"
            ],
            [
             0.8,
             "#7fbc41"
            ],
            [
             0.9,
             "#4d9221"
            ],
            [
             1,
             "#276419"
            ]
           ],
           "sequential": [
            [
             0,
             "#0d0887"
            ],
            [
             0.1111111111111111,
             "#46039f"
            ],
            [
             0.2222222222222222,
             "#7201a8"
            ],
            [
             0.3333333333333333,
             "#9c179e"
            ],
            [
             0.4444444444444444,
             "#bd3786"
            ],
            [
             0.5555555555555556,
             "#d8576b"
            ],
            [
             0.6666666666666666,
             "#ed7953"
            ],
            [
             0.7777777777777778,
             "#fb9f3a"
            ],
            [
             0.8888888888888888,
             "#fdca26"
            ],
            [
             1,
             "#f0f921"
            ]
           ],
           "sequentialminus": [
            [
             0,
             "#0d0887"
            ],
            [
             0.1111111111111111,
             "#46039f"
            ],
            [
             0.2222222222222222,
             "#7201a8"
            ],
            [
             0.3333333333333333,
             "#9c179e"
            ],
            [
             0.4444444444444444,
             "#bd3786"
            ],
            [
             0.5555555555555556,
             "#d8576b"
            ],
            [
             0.6666666666666666,
             "#ed7953"
            ],
            [
             0.7777777777777778,
             "#fb9f3a"
            ],
            [
             0.8888888888888888,
             "#fdca26"
            ],
            [
             1,
             "#f0f921"
            ]
           ]
          },
          "colorway": [
           "#636efa",
           "#EF553B",
           "#00cc96",
           "#ab63fa",
           "#FFA15A",
           "#19d3f3",
           "#FF6692",
           "#B6E880",
           "#FF97FF",
           "#FECB52"
          ],
          "font": {
           "color": "#2a3f5f"
          },
          "geo": {
           "bgcolor": "white",
           "lakecolor": "white",
           "landcolor": "#E5ECF6",
           "showlakes": true,
           "showland": true,
           "subunitcolor": "white"
          },
          "hoverlabel": {
           "align": "left"
          },
          "hovermode": "closest",
          "mapbox": {
           "style": "light"
          },
          "paper_bgcolor": "white",
          "plot_bgcolor": "#E5ECF6",
          "polar": {
           "angularaxis": {
            "gridcolor": "white",
            "linecolor": "white",
            "ticks": ""
           },
           "bgcolor": "#E5ECF6",
           "radialaxis": {
            "gridcolor": "white",
            "linecolor": "white",
            "ticks": ""
           }
          },
          "scene": {
           "xaxis": {
            "backgroundcolor": "#E5ECF6",
            "gridcolor": "white",
            "gridwidth": 2,
            "linecolor": "white",
            "showbackground": true,
            "ticks": "",
            "zerolinecolor": "white"
           },
           "yaxis": {
            "backgroundcolor": "#E5ECF6",
            "gridcolor": "white",
            "gridwidth": 2,
            "linecolor": "white",
            "showbackground": true,
            "ticks": "",
            "zerolinecolor": "white"
           },
           "zaxis": {
            "backgroundcolor": "#E5ECF6",
            "gridcolor": "white",
            "gridwidth": 2,
            "linecolor": "white",
            "showbackground": true,
            "ticks": "",
            "zerolinecolor": "white"
           }
          },
          "shapedefaults": {
           "line": {
            "color": "#2a3f5f"
           }
          },
          "ternary": {
           "aaxis": {
            "gridcolor": "white",
            "linecolor": "white",
            "ticks": ""
           },
           "baxis": {
            "gridcolor": "white",
            "linecolor": "white",
            "ticks": ""
           },
           "bgcolor": "#E5ECF6",
           "caxis": {
            "gridcolor": "white",
            "linecolor": "white",
            "ticks": ""
           }
          },
          "title": {
           "x": 0.05
          },
          "xaxis": {
           "automargin": true,
           "gridcolor": "white",
           "linecolor": "white",
           "ticks": "",
           "title": {
            "standoff": 15
           },
           "zerolinecolor": "white",
           "zerolinewidth": 2
          },
          "yaxis": {
           "automargin": true,
           "gridcolor": "white",
           "linecolor": "white",
           "ticks": "",
           "title": {
            "standoff": 15
           },
           "zerolinecolor": "white",
           "zerolinewidth": 2
          }
         }
        },
        "width": 1200,
        "xaxis": {
         "anchor": "y",
         "domain": [
          0,
          1
         ],
         "title": {
          "text": "x"
         }
        },
        "yaxis": {
         "anchor": "x",
         "domain": [
          0,
          1
         ],
         "title": {
          "text": "y"
         }
        }
       }
      }
     },
     "metadata": {},
     "output_type": "display_data"
    }
   ],
   "source": [
    "fig =  px.line(df_comparando, x = 'x', y = 'y', color = 'grupo')\n",
    "\n",
    "fig.update_layout(\n",
    "    autosize=False,\n",
    "    width=1200,\n",
    "    height=600,\n",
    ")\n",
    "\n",
    "fig.show()"
   ]
  },
  {
   "cell_type": "code",
   "execution_count": null,
   "metadata": {},
   "outputs": [],
   "source": []
  }
 ],
 "metadata": {
  "kernelspec": {
   "display_name": "Python 3",
   "language": "python",
   "name": "python3"
  },
  "language_info": {
   "codemirror_mode": {
    "name": "ipython",
    "version": 3
   },
   "file_extension": ".py",
   "mimetype": "text/x-python",
   "name": "python",
   "nbconvert_exporter": "python",
   "pygments_lexer": "ipython3",
   "version": "3.11.0"
  }
 },
 "nbformat": 4,
 "nbformat_minor": 2
}
