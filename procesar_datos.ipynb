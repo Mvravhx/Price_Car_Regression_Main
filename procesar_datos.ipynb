{
 "cells": [
  {
   "cell_type": "code",
   "execution_count": 110,
   "metadata": {},
   "outputs": [],
   "source": [
    "import numpy as np\n",
    "import pandas as pd\n",
    "from sklearn.preprocessing import LabelEncoder, OneHotEncoder\n",
    "from sklearn.impute import KNNImputer\n",
    "\n",
    "import pickle"
   ]
  },
  {
   "cell_type": "code",
   "execution_count": 111,
   "metadata": {},
   "outputs": [],
   "source": [
    "df = pd.read_csv(\"./data/datos_limpios.csv\")"
   ]
  },
  {
   "cell_type": "code",
   "execution_count": 112,
   "metadata": {},
   "outputs": [
    {
     "data": {
      "text/html": [
       "<div>\n",
       "<style scoped>\n",
       "    .dataframe tbody tr th:only-of-type {\n",
       "        vertical-align: middle;\n",
       "    }\n",
       "\n",
       "    .dataframe tbody tr th {\n",
       "        vertical-align: top;\n",
       "    }\n",
       "\n",
       "    .dataframe thead th {\n",
       "        text-align: right;\n",
       "    }\n",
       "</style>\n",
       "<table border=\"1\" class=\"dataframe\">\n",
       "  <thead>\n",
       "    <tr style=\"text-align: right;\">\n",
       "      <th></th>\n",
       "      <th>KM</th>\n",
       "      <th>Año</th>\n",
       "      <th>Combustible</th>\n",
       "      <th>Ciudad</th>\n",
       "      <th>Nº puertas</th>\n",
       "      <th>Garantía</th>\n",
       "      <th>Cambio</th>\n",
       "      <th>Color</th>\n",
       "      <th>Marca</th>\n",
       "      <th>Modelo</th>\n",
       "      <th>...</th>\n",
       "      <th>Velocidad máxima</th>\n",
       "      <th>Aceleracion</th>\n",
       "      <th>Consumo</th>\n",
       "      <th>Emisiones</th>\n",
       "      <th>Dimensiones</th>\n",
       "      <th>Etiqueta medioambiental</th>\n",
       "      <th>Precio</th>\n",
       "      <th>Largo</th>\n",
       "      <th>Ancho</th>\n",
       "      <th>Alto</th>\n",
       "    </tr>\n",
       "  </thead>\n",
       "  <tbody>\n",
       "    <tr>\n",
       "      <th>0</th>\n",
       "      <td>79996</td>\n",
       "      <td>2019</td>\n",
       "      <td>Diésel</td>\n",
       "      <td>Riba Roja de Turia</td>\n",
       "      <td>5</td>\n",
       "      <td>True</td>\n",
       "      <td>Automático</td>\n",
       "      <td>Azul</td>\n",
       "      <td>SEAT</td>\n",
       "      <td>Leon</td>\n",
       "      <td>...</td>\n",
       "      <td>212</td>\n",
       "      <td>8.7</td>\n",
       "      <td>4.5</td>\n",
       "      <td>117</td>\n",
       "      <td>4548 mm / 1816 mm / 1439 mm</td>\n",
       "      <td>C</td>\n",
       "      <td>16990</td>\n",
       "      <td>4548</td>\n",
       "      <td>1816</td>\n",
       "      <td>1439</td>\n",
       "    </tr>\n",
       "    <tr>\n",
       "      <th>1</th>\n",
       "      <td>192300</td>\n",
       "      <td>2009</td>\n",
       "      <td>Diésel</td>\n",
       "      <td>Castuera</td>\n",
       "      <td>3</td>\n",
       "      <td>True</td>\n",
       "      <td>Manual</td>\n",
       "      <td>Beige</td>\n",
       "      <td>Volkswagen</td>\n",
       "      <td>Golf</td>\n",
       "      <td>...</td>\n",
       "      <td>190</td>\n",
       "      <td>10.7</td>\n",
       "      <td>4.5</td>\n",
       "      <td>119</td>\n",
       "      <td>4199 mm / 1779 mm / 1469 mm</td>\n",
       "      <td>B</td>\n",
       "      <td>8800</td>\n",
       "      <td>4199</td>\n",
       "      <td>1779</td>\n",
       "      <td>1469</td>\n",
       "    </tr>\n",
       "    <tr>\n",
       "      <th>2</th>\n",
       "      <td>211680</td>\n",
       "      <td>2007</td>\n",
       "      <td>Diésel</td>\n",
       "      <td>Castuera</td>\n",
       "      <td>5</td>\n",
       "      <td>True</td>\n",
       "      <td>Manual</td>\n",
       "      <td>Gris</td>\n",
       "      <td>Toyota</td>\n",
       "      <td>RAV4</td>\n",
       "      <td>...</td>\n",
       "      <td>200</td>\n",
       "      <td>9.3</td>\n",
       "      <td>7.0</td>\n",
       "      <td>185</td>\n",
       "      <td>4395 mm / 1815 mm / 1720 mm</td>\n",
       "      <td>B</td>\n",
       "      <td>9900</td>\n",
       "      <td>4395</td>\n",
       "      <td>1815</td>\n",
       "      <td>1720</td>\n",
       "    </tr>\n",
       "    <tr>\n",
       "      <th>3</th>\n",
       "      <td>192549</td>\n",
       "      <td>2011</td>\n",
       "      <td>Diésel</td>\n",
       "      <td>Castuera</td>\n",
       "      <td>5</td>\n",
       "      <td>True</td>\n",
       "      <td>Manual</td>\n",
       "      <td>Gris</td>\n",
       "      <td>Audi</td>\n",
       "      <td>Q5</td>\n",
       "      <td>...</td>\n",
       "      <td>190</td>\n",
       "      <td>11.4</td>\n",
       "      <td>6.5</td>\n",
       "      <td>172</td>\n",
       "      <td>4629 mm / 1880 mm / 1653 mm</td>\n",
       "      <td>B</td>\n",
       "      <td>16900</td>\n",
       "      <td>4629</td>\n",
       "      <td>1880</td>\n",
       "      <td>1653</td>\n",
       "    </tr>\n",
       "    <tr>\n",
       "      <th>4</th>\n",
       "      <td>215350</td>\n",
       "      <td>2013</td>\n",
       "      <td>Diésel</td>\n",
       "      <td>Castuera</td>\n",
       "      <td>5</td>\n",
       "      <td>True</td>\n",
       "      <td>Secuencial</td>\n",
       "      <td>Gris</td>\n",
       "      <td>Audi</td>\n",
       "      <td>A7</td>\n",
       "      <td>...</td>\n",
       "      <td>250</td>\n",
       "      <td>5.3</td>\n",
       "      <td>6.4</td>\n",
       "      <td>169</td>\n",
       "      <td>4969 mm / 1911 mm / 1420 mm</td>\n",
       "      <td>B</td>\n",
       "      <td>26500</td>\n",
       "      <td>4969</td>\n",
       "      <td>1911</td>\n",
       "      <td>1420</td>\n",
       "    </tr>\n",
       "  </tbody>\n",
       "</table>\n",
       "<p>5 rows × 22 columns</p>\n",
       "</div>"
      ],
      "text/plain": [
       "       KM   Año Combustible              Ciudad  Nº puertas  Garantía  \\\n",
       "0   79996  2019      Diésel  Riba Roja de Turia           5      True   \n",
       "1  192300  2009      Diésel            Castuera           3      True   \n",
       "2  211680  2007      Diésel            Castuera           5      True   \n",
       "3  192549  2011      Diésel            Castuera           5      True   \n",
       "4  215350  2013      Diésel            Castuera           5      True   \n",
       "\n",
       "        Cambio  Color       Marca Modelo  ...  Velocidad máxima Aceleracion  \\\n",
       "0  Automático    Azul        SEAT   Leon  ...               212         8.7   \n",
       "1      Manual   Beige  Volkswagen   Golf  ...               190        10.7   \n",
       "2      Manual    Gris      Toyota   RAV4  ...               200         9.3   \n",
       "3      Manual    Gris        Audi     Q5  ...               190        11.4   \n",
       "4  Secuencial    Gris        Audi     A7  ...               250         5.3   \n",
       "\n",
       "   Consumo  Emisiones                  Dimensiones  Etiqueta medioambiental  \\\n",
       "0      4.5        117  4548 mm / 1816 mm / 1439 mm                        C   \n",
       "1      4.5        119  4199 mm / 1779 mm / 1469 mm                        B   \n",
       "2      7.0        185  4395 mm / 1815 mm / 1720 mm                        B   \n",
       "3      6.5        172  4629 mm / 1880 mm / 1653 mm                        B   \n",
       "4      6.4        169  4969 mm / 1911 mm / 1420 mm                        B   \n",
       "\n",
       "  Precio Largo  Ancho  Alto  \n",
       "0  16990  4548   1816  1439  \n",
       "1   8800  4199   1779  1469  \n",
       "2   9900  4395   1815  1720  \n",
       "3  16900  4629   1880  1653  \n",
       "4  26500  4969   1911  1420  \n",
       "\n",
       "[5 rows x 22 columns]"
      ]
     },
     "execution_count": 112,
     "metadata": {},
     "output_type": "execute_result"
    }
   ],
   "source": [
    "df.head(5)"
   ]
  },
  {
   "cell_type": "markdown",
   "metadata": {},
   "source": [
    "# Procesado de los datos para el posterior uso en machine learning\n",
    "\n",
    "Vamos a ir repasando columna por columna viendo que esté todo bien y haciendo las transformaciones necesarias\n",
    "para poder utilizarla como entrada para nuestros modelos "
   ]
  },
  {
   "cell_type": "markdown",
   "metadata": {},
   "source": [
    "### Columnas numéricas"
   ]
  },
  {
   "cell_type": "code",
   "execution_count": 113,
   "metadata": {},
   "outputs": [
    {
     "data": {
      "text/plain": [
       "count    5.206600e+04\n",
       "mean     6.630951e+04\n",
       "std      6.669503e+04\n",
       "min     -2.000000e+03\n",
       "25%      1.950000e+04\n",
       "50%      5.290250e+04\n",
       "75%      9.306050e+04\n",
       "max      2.010810e+06\n",
       "Name: KM, dtype: float64"
      ]
     },
     "execution_count": 113,
     "metadata": {},
     "output_type": "execute_result"
    }
   ],
   "source": [
    "#La columna KM es de tipo numérico y no puede contener valores negativos ya que no tienen sentido\n",
    "#como si que puede tener valor 0  y dado que todos los vehículos con KM en negativo son del 2024,\n",
    "#es lógico suponer que tienen 0 KM\n",
    "df[\"KM\"].describe()"
   ]
  },
  {
   "cell_type": "code",
   "execution_count": 114,
   "metadata": {},
   "outputs": [],
   "source": [
    "df[\"KM\"] = df[\"KM\"].apply(lambda x : x if x>0 else 0)\n",
    "\n",
    "#Como hemos visto previamente en el EDA, esta columna tiene un par de valores outliers que distorsionan el resto de datos \n",
    "#por lo que para ello voy a estar aplicando una transformación logarítmica que suavice los datos más grandes\n",
    "df[\"KM_log\"] = df[\"KM\"].apply(lambda x: np.log(x + 1))"
   ]
  },
  {
   "cell_type": "code",
   "execution_count": 115,
   "metadata": {},
   "outputs": [
    {
     "data": {
      "text/plain": [
       "count    52066.000000\n",
       "mean      2008.528022\n",
       "std        148.521975\n",
       "min          0.000000\n",
       "25%       2018.000000\n",
       "50%       2020.000000\n",
       "75%       2022.000000\n",
       "max       2024.000000\n",
       "Name: Año, dtype: float64"
      ]
     },
     "execution_count": 115,
     "metadata": {},
     "output_type": "execute_result"
    }
   ],
   "source": [
    "#Durante el eda también detectamos valores que no tienen sentido en la columna Año\n",
    "#ya que había coches de más de 1000 años\n",
    "#En este caso vamos a poner esos valores a none para en un suguiente paso utilizar\n",
    "#un imputer para determinar los datos que fáltan. \n",
    "df[\"Año\"].describe()"
   ]
  },
  {
   "cell_type": "code",
   "execution_count": 116,
   "metadata": {},
   "outputs": [
    {
     "name": "stdout",
     "output_type": "stream",
     "text": [
      "283\n"
     ]
    },
    {
     "data": {
      "text/plain": [
       "count    51783.000000\n",
       "mean      2019.504490\n",
       "std          3.550941\n",
       "min       1996.000000\n",
       "25%       2018.000000\n",
       "50%       2020.000000\n",
       "75%       2022.000000\n",
       "max       2024.000000\n",
       "Name: Año, dtype: float64"
      ]
     },
     "execution_count": 116,
     "metadata": {},
     "output_type": "execute_result"
    }
   ],
   "source": [
    "df[\"Año\"] = df[\"Año\"].apply(lambda x : x if x > 900 else np.nan)\n",
    "print(df[\"Año\"].isna().sum())\n",
    "df[\"Año\"].describe()"
   ]
  },
  {
   "cell_type": "code",
   "execution_count": 117,
   "metadata": {},
   "outputs": [
    {
     "name": "stdout",
     "output_type": "stream",
     "text": [
      "1973\n"
     ]
    }
   ],
   "source": [
    "#En este caso hay que corregir aquellos vehículos con 0 puertas ya que no tiene sentido\n",
    "#de nuevo las voy a estar poniendo como nan para rellenarlo con el imputer \n",
    "df[\"Nº puertas\"] = df[\"Nº puertas\"].apply(lambda x : x if x != 0 else np.nan)\n",
    "\n",
    "print(df[\"Nº puertas\"].isna().sum())"
   ]
  },
  {
   "cell_type": "code",
   "execution_count": 118,
   "metadata": {},
   "outputs": [
    {
     "name": "stdout",
     "output_type": "stream",
     "text": [
      "Nº puertas\n",
      "5.0    43398\n",
      "4.0     3946\n",
      "3.0     1712\n",
      "2.0     1025\n",
      "6.0        9\n",
      "8.0        2\n",
      "7.0        1\n",
      "Name: count, dtype: int64\n"
     ]
    }
   ],
   "source": [
    "#Dado que hay muy pocos vehículos con más de 5 puertas voy a estar capando estos a 5 para no confundir al modelo\n",
    "print(df[\"Nº puertas\"].value_counts())\n",
    "df[\"Nº puertas\"] = df[\"Nº puertas\"].apply(lambda x : x if x <=5 or np.isnan(x) else 5)"
   ]
  },
  {
   "cell_type": "code",
   "execution_count": 119,
   "metadata": {},
   "outputs": [
    {
     "name": "stdout",
     "output_type": "stream",
     "text": [
      "0\n",
      "[ True]\n"
     ]
    }
   ],
   "source": [
    "#Columna correcta, nada que corregir. Pero tiene todos los valores a true por lo que no vale la pena utilizarla\n",
    "print(df[\"Garantía\"].isna().sum())\n",
    "print(df[\"Garantía\"].unique())\n",
    "\n",
    "df = df.drop(columns=[\"Garantía\"],axis=1)"
   ]
  },
  {
   "cell_type": "code",
   "execution_count": 120,
   "metadata": {},
   "outputs": [
    {
     "name": "stdout",
     "output_type": "stream",
     "text": [
      "count    52066.000000\n",
      "mean       134.506069\n",
      "std         66.624357\n",
      "min          0.000000\n",
      "25%        100.000000\n",
      "50%        130.000000\n",
      "75%        150.000000\n",
      "max       1020.000000\n",
      "Name: Potencia, dtype: float64\n",
      "2018\n"
     ]
    },
    {
     "data": {
      "text/plain": [
       "count    50048.000000\n",
       "mean       139.929528\n",
       "std         62.119801\n",
       "min         30.000000\n",
       "25%        105.000000\n",
       "50%        130.000000\n",
       "75%        150.000000\n",
       "max       1020.000000\n",
       "Name: Potencia, dtype: float64"
      ]
     },
     "execution_count": 120,
     "metadata": {},
     "output_type": "execute_result"
    }
   ],
   "source": [
    "#Le faltan algunos datos que están a 0, voy a ponerlos como nan para rellenarlos luego\n",
    "print(df[\"Potencia\"].describe())\n",
    "df[\"Potencia\"] = df[\"Potencia\"].apply(lambda x : x if x != 0 else np.nan)\n",
    "\n",
    "print(df[\"Potencia\"].isna().sum())\n",
    "df[\"Potencia\"].describe()"
   ]
  },
  {
   "cell_type": "code",
   "execution_count": 121,
   "metadata": {},
   "outputs": [
    {
     "name": "stdout",
     "output_type": "stream",
     "text": [
      "count    52066.000000\n",
      "mean       189.848730\n",
      "std         30.519817\n",
      "min          0.000000\n",
      "25%        178.000000\n",
      "50%        189.000000\n",
      "75%        203.000000\n",
      "max        350.000000\n",
      "Name: Velocidad máxima, dtype: float64\n",
      "557\n"
     ]
    },
    {
     "data": {
      "text/plain": [
       "count    51509.000000\n",
       "mean       191.900348\n",
       "std         23.410291\n",
       "min        110.000000\n",
       "25%        179.000000\n",
       "50%        189.000000\n",
       "75%        203.000000\n",
       "max        350.000000\n",
       "Name: Velocidad máxima, dtype: float64"
      ]
     },
     "execution_count": 121,
     "metadata": {},
     "output_type": "execute_result"
    }
   ],
   "source": [
    "#Le faltan algunos datos que están a 0, voy a ponerlos como nan para rellenarlos luego, también los que estás por debajo de 25 ya que no tiene sentido\n",
    "print(df[\"Velocidad máxima\"].describe())\n",
    "df[\"Velocidad máxima\"] = df[\"Velocidad máxima\"].apply(lambda x : x if x > 25 else np.nan)\n",
    "\n",
    "print(df[\"Velocidad máxima\"].isna().sum())\n",
    "df[\"Velocidad máxima\"].describe()"
   ]
  },
  {
   "cell_type": "code",
   "execution_count": 122,
   "metadata": {},
   "outputs": [
    {
     "name": "stdout",
     "output_type": "stream",
     "text": [
      "count    52066.000000\n",
      "mean         9.884709\n",
      "std          3.133130\n",
      "min          0.000000\n",
      "25%          8.900000\n",
      "50%         10.300000\n",
      "75%         11.500000\n",
      "max        112.000000\n",
      "Name: Aceleracion, dtype: float64\n",
      "2426\n",
      "count    49640.000000\n",
      "mean        10.367793\n",
      "std          2.299488\n",
      "min          2.100000\n",
      "25%          9.100000\n",
      "50%         10.300000\n",
      "75%         11.500000\n",
      "max        112.000000\n",
      "Name: Aceleracion, dtype: float64\n"
     ]
    }
   ],
   "source": [
    "#Le faltan algunos datos que están a 0, voy a ponerlos como nan para rellenarlos luego\n",
    "print(df[\"Aceleracion\"].describe())\n",
    "df[\"Aceleracion\"] = df[\"Aceleracion\"].apply(lambda x : x if x != 0 else np.nan)\n",
    "\n",
    "print(df[\"Aceleracion\"].isna().sum())\n",
    "\n",
    "print(df[\"Aceleracion\"].describe())"
   ]
  },
  {
   "cell_type": "code",
   "execution_count": 123,
   "metadata": {},
   "outputs": [
    {
     "name": "stdout",
     "output_type": "stream",
     "text": [
      "count    52066.000000\n",
      "mean         5.663857\n",
      "std          2.756750\n",
      "min          0.000000\n",
      "25%          4.500000\n",
      "50%          5.200000\n",
      "75%          6.000000\n",
      "max         28.300000\n",
      "Name: Consumo, dtype: float64\n",
      "273\n",
      "count    51793.000000\n",
      "mean         5.693711\n",
      "std          2.733083\n",
      "min          0.600000\n",
      "25%          4.500000\n",
      "50%          5.200000\n",
      "75%          6.000000\n",
      "max         28.300000\n",
      "Name: Consumo, dtype: float64\n"
     ]
    }
   ],
   "source": [
    "#Le faltan algunos datos que están a 0, voy a ponerlos como nan para rellenarlos luego\n",
    "print(df[\"Consumo\"].describe())\n",
    "df[\"Consumo\"] = df[\"Consumo\"].apply(lambda x : x if x != 0 else np.nan)\n",
    "\n",
    "print(df[\"Consumo\"].isna().sum())\n",
    "\n",
    "print(df[\"Consumo\"].describe())"
   ]
  },
  {
   "cell_type": "code",
   "execution_count": 124,
   "metadata": {},
   "outputs": [
    {
     "name": "stdout",
     "output_type": "stream",
     "text": [
      "count    52066.000000\n",
      "mean        86.798832\n",
      "std         63.957561\n",
      "min         -1.000000\n",
      "25%         -1.000000\n",
      "50%        108.000000\n",
      "75%        127.000000\n",
      "max        465.000000\n",
      "Name: Emisiones, dtype: float64\n",
      "13515\n",
      "count    38551.000000\n",
      "mean       117.578870\n",
      "std         43.297804\n",
      "min          0.000000\n",
      "25%        105.000000\n",
      "50%        117.000000\n",
      "75%        135.000000\n",
      "max        465.000000\n",
      "Name: Emisiones, dtype: float64\n"
     ]
    }
   ],
   "source": [
    "#Le faltan algunos datos que están a -1, voy a ponerlos como nan para rellenarlos luego\n",
    "print(df[\"Emisiones\"].describe())\n",
    "df[\"Emisiones\"] = df[\"Emisiones\"].apply(lambda x : x if x != -1 else np.nan)\n",
    "\n",
    "print(df[\"Emisiones\"].isna().sum())\n",
    "\n",
    "print(df[\"Emisiones\"].describe())"
   ]
  },
  {
   "cell_type": "code",
   "execution_count": 125,
   "metadata": {},
   "outputs": [
    {
     "name": "stdout",
     "output_type": "stream",
     "text": [
      "count    52066.000000\n",
      "mean      4367.781911\n",
      "std        319.011282\n",
      "min       2500.000000\n",
      "25%       4159.000000\n",
      "50%       4380.000000\n",
      "75%       4562.000000\n",
      "max       5591.000000\n",
      "Name: Largo, dtype: float64\n",
      "0\n"
     ]
    }
   ],
   "source": [
    "#Esta columna está bien no hay que cambiar nada\n",
    "print(df[\"Largo\"].describe())\n",
    "\n",
    "print(df[\"Largo\"].isna().sum())"
   ]
  },
  {
   "cell_type": "code",
   "execution_count": 126,
   "metadata": {},
   "outputs": [
    {
     "name": "stdout",
     "output_type": "stream",
     "text": [
      "count    52066.000000\n",
      "mean      1802.092671\n",
      "std         80.889874\n",
      "min          0.000000\n",
      "25%       1765.000000\n",
      "50%       1804.000000\n",
      "75%       1841.000000\n",
      "max       2107.000000\n",
      "Name: Ancho, dtype: float64\n",
      "35\n",
      "count    52066.000000\n",
      "mean      1562.907003\n",
      "std        130.843328\n",
      "min          0.000000\n",
      "25%       1461.000000\n",
      "50%       1535.000000\n",
      "75%       1639.000000\n",
      "max       2524.000000\n",
      "Name: Alto, dtype: float64\n",
      "20\n"
     ]
    }
   ],
   "source": [
    "#Estas conlumnas sin embargo tienen algún 0 por lo que lo estaré poniendo como nan\n",
    "print(df[\"Ancho\"].describe())\n",
    "df[\"Ancho\"] = df[\"Ancho\"].apply(lambda x : x if x != 0 else np.nan)\n",
    "print(df[\"Ancho\"].isna().sum())\n",
    "\n",
    "print(df[\"Alto\"].describe())\n",
    "df[\"Alto\"] = df[\"Alto\"].apply(lambda x : x if x != 0 else np.nan)\n",
    "print(df[\"Alto\"].isna().sum())"
   ]
  },
  {
   "cell_type": "code",
   "execution_count": 127,
   "metadata": {},
   "outputs": [
    {
     "name": "stdout",
     "output_type": "stream",
     "text": [
      "count    5.206600e+04\n",
      "mean     2.658286e+04\n",
      "std      6.577431e+05\n",
      "min      9.990000e+02\n",
      "25%      1.499000e+04\n",
      "50%      1.999000e+04\n",
      "75%      2.780000e+04\n",
      "max      1.500000e+08\n",
      "Name: Precio, dtype: float64\n",
      "0\n"
     ]
    }
   ],
   "source": [
    "#Esta columna está bien no hay que cambiar nada, lo único que voy a hacer es eliminar los outliers ya que son muy pocos y aplicar el\n",
    "#Logaritmo para suavizar los datos\n",
    "print(df[\"Precio\"].describe())\n",
    "df = df[df[\"Precio\"] < 500000]\n",
    "df[\"Precio_log\"] = df[\"Precio\"].apply(lambda x: np.log(x + 1))\n",
    "\n",
    "df.reset_index(inplace=True, drop=True)\n",
    "\n",
    "print(df[\"Precio\"].isna().sum())"
   ]
  },
  {
   "cell_type": "markdown",
   "metadata": {},
   "source": [
    "### Cadenas de texto o categóricas"
   ]
  },
  {
   "cell_type": "code",
   "execution_count": 128,
   "metadata": {},
   "outputs": [
    {
     "name": "stdout",
     "output_type": "stream",
     "text": [
      "416\n"
     ]
    }
   ],
   "source": [
    "#En el caso de la columna ciudad lo más probable es que no la estemos utilizando ya que \n",
    "#tiene demasiados valores distios, y en el Eda vimos que realmente no era relevante para el precio\n",
    "print(df[\"Ciudad\"].nunique())\n",
    "df = df.drop(columns=[\"Ciudad\"], axis=1)"
   ]
  },
  {
   "cell_type": "code",
   "execution_count": 129,
   "metadata": {},
   "outputs": [
    {
     "name": "stdout",
     "output_type": "stream",
     "text": [
      "0\n",
      "Combustible\n",
      "Gasolina     24072\n",
      "Diésel       21610\n",
      "Híbrido       3901\n",
      "Eléctrico     2216\n",
      "Otros          263\n",
      "Name: count, dtype: int64\n"
     ]
    },
    {
     "data": {
      "text/html": [
       "<div>\n",
       "<style scoped>\n",
       "    .dataframe tbody tr th:only-of-type {\n",
       "        vertical-align: middle;\n",
       "    }\n",
       "\n",
       "    .dataframe tbody tr th {\n",
       "        vertical-align: top;\n",
       "    }\n",
       "\n",
       "    .dataframe thead th {\n",
       "        text-align: right;\n",
       "    }\n",
       "</style>\n",
       "<table border=\"1\" class=\"dataframe\">\n",
       "  <thead>\n",
       "    <tr style=\"text-align: right;\">\n",
       "      <th></th>\n",
       "      <th>Combustible_Gasolina</th>\n",
       "      <th>Combustible_Eléctrico</th>\n",
       "      <th>Combustible_Híbrido</th>\n",
       "      <th>Combustible_Otros</th>\n",
       "    </tr>\n",
       "  </thead>\n",
       "  <tbody>\n",
       "    <tr>\n",
       "      <th>0</th>\n",
       "      <td>0.0</td>\n",
       "      <td>0.0</td>\n",
       "      <td>0.0</td>\n",
       "      <td>0.0</td>\n",
       "    </tr>\n",
       "    <tr>\n",
       "      <th>1</th>\n",
       "      <td>0.0</td>\n",
       "      <td>0.0</td>\n",
       "      <td>0.0</td>\n",
       "      <td>0.0</td>\n",
       "    </tr>\n",
       "    <tr>\n",
       "      <th>2</th>\n",
       "      <td>0.0</td>\n",
       "      <td>0.0</td>\n",
       "      <td>0.0</td>\n",
       "      <td>0.0</td>\n",
       "    </tr>\n",
       "    <tr>\n",
       "      <th>3</th>\n",
       "      <td>0.0</td>\n",
       "      <td>0.0</td>\n",
       "      <td>0.0</td>\n",
       "      <td>0.0</td>\n",
       "    </tr>\n",
       "    <tr>\n",
       "      <th>4</th>\n",
       "      <td>0.0</td>\n",
       "      <td>0.0</td>\n",
       "      <td>0.0</td>\n",
       "      <td>0.0</td>\n",
       "    </tr>\n",
       "  </tbody>\n",
       "</table>\n",
       "</div>"
      ],
      "text/plain": [
       "   Combustible_Gasolina  Combustible_Eléctrico  Combustible_Híbrido  \\\n",
       "0                   0.0                    0.0                  0.0   \n",
       "1                   0.0                    0.0                  0.0   \n",
       "2                   0.0                    0.0                  0.0   \n",
       "3                   0.0                    0.0                  0.0   \n",
       "4                   0.0                    0.0                  0.0   \n",
       "\n",
       "   Combustible_Otros  \n",
       "0                0.0  \n",
       "1                0.0  \n",
       "2                0.0  \n",
       "3                0.0  \n",
       "4                0.0  "
      ]
     },
     "execution_count": 129,
     "metadata": {},
     "output_type": "execute_result"
    }
   ],
   "source": [
    "#La columna esta correcta pero necesito dificarla para poder usarla en machine learning\n",
    "print(df[\"Combustible\"].isna().sum())\n",
    "print(df[\"Combustible\"].value_counts())\n",
    "\n",
    "#Vamos a combertirla a una variable numérica. \n",
    "#Dado que sus valores no son ordenables voy a usar el get_dummies para transformarla en columnas de 1 y 0s.\n",
    "columna = \"Combustible\"\n",
    "\n",
    "OH_encoder = OneHotEncoder(drop=\"first\")\n",
    "\n",
    "OH_encoder = OH_encoder.fit(df[columna].values.reshape(-1,1))\n",
    "\n",
    "columns =  OH_encoder.transform(df[columna].values.reshape(-1,1)).toarray()\n",
    "\n",
    "pickle.dump(OH_encoder, open(f\"./transformadores/{columna}_encoder.pk\", 'wb'))\n",
    "\n",
    "\n",
    "df_OH = pd.DataFrame(data = columns, columns= [columna+\"_\"+i for i in df[columna].unique()[1:]])\n",
    "\n",
    "df = pd.concat([df, df_OH], axis = 1)\n",
    "df_OH.head()"
   ]
  },
  {
   "cell_type": "code",
   "execution_count": 130,
   "metadata": {},
   "outputs": [
    {
     "name": "stdout",
     "output_type": "stream",
     "text": [
      "0\n",
      "Cambio\n",
      "Manual              30924\n",
      "Automático          20877\n",
      "Secuencial            233\n",
      "Triptronic             27\n",
      "No especificado         1\n",
      "Name: count, dtype: int64\n",
      "Cambio\n",
      "Manual        30924\n",
      "Automático    20877\n",
      "Otro            261\n",
      "Name: count, dtype: int64\n"
     ]
    }
   ],
   "source": [
    "#Esta columna esta bien, no tiene nans pero voy a agrupar los tipo de cambio menos usados en un variable llamada otros\n",
    "#ya que por separado son muy pocos como para que resulten relevantes\n",
    "print(df[\"Cambio\"].isna().sum())\n",
    "print(df[\"Cambio\"].value_counts())\n",
    "\n",
    "#Tengo que poner el método .strip() porque los valores traen espacios\n",
    "df[\"Cambio\"] = df[\"Cambio\"].apply(lambda x : x.strip() if x.strip() == \"Manual\" or x.strip() == \"Automático\" else \"Otro\")\n",
    "\n",
    "print(df[\"Cambio\"].value_counts())\n",
    "\n",
    "#Vamos a combertirla a una variable numérica. \n",
    "#Dado que sus valores no son ordenables voy a usar el get_dummies para transformarla en columnas de 1 y 0s.\n",
    "columna = \"Cambio\"\n",
    "\n",
    "OH_encoder = OneHotEncoder(drop=\"first\")\n",
    "\n",
    "OH_encoder = OH_encoder.fit(df[columna].values.reshape(-1,1))\n",
    "\n",
    "columns =  OH_encoder.transform(df[columna].values.reshape(-1,1)).toarray()\n",
    "\n",
    "pickle.dump(OH_encoder, open(f\"./transformadores/{columna}_encoder.pk\", 'wb'))\n",
    "\n",
    "\n",
    "df_OH = pd.DataFrame(data = columns, columns= [columna+\"_\"+i for i in df[columna].unique()[1:]])\n",
    "\n",
    "\n",
    "df = pd.concat([df, df_OH], axis = 1)"
   ]
  },
  {
   "cell_type": "code",
   "execution_count": 131,
   "metadata": {},
   "outputs": [],
   "source": [
    "#Esta columna está correcta no hay que cambiar nada\n",
    "df[\"Color\"].value_counts()\n",
    "\n",
    "#Vamos a combertirla a una variable numérica. \n",
    "#Dado que sus valores no son ordenables voy a usar el get_dummies para transformarla en columnas de 1 y 0s.\n",
    "columna = \"Color\"\n",
    "\n",
    "OH_encoder = OneHotEncoder(drop=\"first\")\n",
    "\n",
    "OH_encoder = OH_encoder.fit(df[columna].values.reshape(-1,1))\n",
    "\n",
    "columns =  OH_encoder.transform(df[columna].values.reshape(-1,1)).toarray()\n",
    "\n",
    "pickle.dump(OH_encoder, open(f\"./transformadores/{columna}_encoder.pk\", 'wb'))\n",
    "\n",
    "df_OH = pd.DataFrame(data = columns, columns= [columna+\"_\"+i for i in df[columna].unique()[1:]])\n",
    "\n",
    "df = pd.concat([df, df_OH], axis = 1)"
   ]
  },
  {
   "cell_type": "code",
   "execution_count": 132,
   "metadata": {},
   "outputs": [
    {
     "name": "stdout",
     "output_type": "stream",
     "text": [
      "46\n"
     ]
    }
   ],
   "source": [
    "#Esta columna está correcta no hay que cambiar nada que cambiar\n",
    "print(df[\"Marca\"].nunique())\n",
    "\n",
    "df[\"Marca\"].value_counts()\n",
    "\n",
    "#Vamos a combertirla a una variable numérica. \n",
    "#En este caso tampoco son ordenables sus valores, pero al tener tantos distintos\n",
    "#no quiero añadir 46 columnas más al dataframe por lo que usaré un label encoder.\n",
    "encoder = LabelEncoder()\n",
    "encoded = encoder.fit(df[\"Marca\"])\n",
    "\n",
    "df[\"Marca_encoded\"] = encoded.transform(df[\"Marca\"])\n",
    "\n",
    "pickle.dump(encoded, open(\"./transformadores/marca_encoder.pk\", 'wb'))"
   ]
  },
  {
   "cell_type": "code",
   "execution_count": 133,
   "metadata": {},
   "outputs": [
    {
     "name": "stdout",
     "output_type": "stream",
     "text": [
      "622\n"
     ]
    }
   ],
   "source": [
    "#Esta columna está correcta no hay que cambiar nada que cambiar\n",
    "#es demasiado amplia, demasiados valores distintos, lo mejor sería eliminarla\n",
    "print(df[\"Modelo\"].nunique())"
   ]
  },
  {
   "cell_type": "code",
   "execution_count": 134,
   "metadata": {},
   "outputs": [
    {
     "name": "stdout",
     "output_type": "stream",
     "text": [
      "9\n",
      "Tipo de carrocería\n",
      "Todoterreno           20715\n",
      "Turismo               18481\n",
      "Monovolumen            4248\n",
      "Turismo familiar       3874\n",
      "Vehículo comercial     3393\n",
      "Descapotable            691\n",
      "Coupé                   482\n",
      "Pick Up                 178\n",
      "Name: count, dtype: int64\n"
     ]
    }
   ],
   "source": [
    "#En esta columna lo único que voy a hacer es juntar los valores de \"comercial grande\" a \"vehículo comercial\" ya que hay muy poca cantidad\n",
    "print(df[\"Tipo de carrocería\"].nunique())\n",
    "df[\"Tipo de carrocería\"] = df[\"Tipo de carrocería\"].apply(lambda x : x if x != \"Comercial grande\" else \"Vehículo comercial\")\n",
    "print(df[\"Tipo de carrocería\"].value_counts())\n",
    "\n",
    "#Vamos a combertirla a una variable numérica. \n",
    "#Dado que sus valores no son ordenables voy a usar el get_dummies para transformarla en columnas de 1 y 0s.\n",
    "columna = \"Tipo de carrocería\"\n",
    "\n",
    "OH_encoder = OneHotEncoder(drop=\"first\")\n",
    "\n",
    "OH_encoder = OH_encoder.fit(df[columna].values.reshape(-1,1))\n",
    "\n",
    "columns =  OH_encoder.transform(df[columna].values.reshape(-1,1)).toarray()\n",
    "\n",
    "pickle.dump(OH_encoder, open(f\"./transformadores/Tipo_carroceria_encoder.pk\", 'wb'))\n",
    "\n",
    "\n",
    "df_OH = pd.DataFrame(data = columns, columns= [\"Carroceria\"+\"_\"+i for i in df[columna].unique()[1:]])\n",
    "\n",
    "df = pd.concat([df, df_OH], axis = 1)"
   ]
  },
  {
   "cell_type": "code",
   "execution_count": 135,
   "metadata": {},
   "outputs": [
    {
     "name": "stdout",
     "output_type": "stream",
     "text": [
      "6\n",
      "Etiqueta medioambiental\n",
      "C               36864\n",
      "B                6486\n",
      "Cero             4256\n",
      "ECO              3509\n",
      "Sin etiqueta      947\n",
      "Name: count, dtype: int64\n"
     ]
    }
   ],
   "source": [
    "#En esta columna lo único que voy a hacer es juntar los valores de \"Cero/ECO\" a \"Cero\" ya que hay muy poca cantidad\n",
    "print(df[\"Etiqueta medioambiental\"].nunique())\n",
    "df[\"Etiqueta medioambiental\"] = df[\"Etiqueta medioambiental\"].apply(lambda x : x if x != \"Cero/ECO\" else \"Cero\")\n",
    "print(df[\"Etiqueta medioambiental\"].value_counts())\n",
    "\n",
    "#Vamos a combertirla a una variable numérica. \n",
    "#Dado que sus valores no son ordenables voy a usar el get_dummies para transformarla en columnas de 1 y 0s.\n",
    "columna = \"Etiqueta medioambiental\"\n",
    "\n",
    "OH_encoder = OneHotEncoder(drop=\"first\")\n",
    "\n",
    "OH_encoder = OH_encoder.fit(df[columna].values.reshape(-1,1))\n",
    "\n",
    "columns =  OH_encoder.transform(df[columna].values.reshape(-1,1)).toarray()\n",
    "\n",
    "pickle.dump(OH_encoder, open(f\"./transformadores/Etiqueta_encoder.pk\", 'wb'))\n",
    "\n",
    "\n",
    "df_OH = pd.DataFrame(data = columns, columns= [\"Etiqueta\"+\"_\"+i for i in df[columna].unique()[1:]])\n",
    "\n",
    "\n",
    "\n",
    "df = pd.concat([df, df_OH], axis = 1)"
   ]
  },
  {
   "cell_type": "code",
   "execution_count": 136,
   "metadata": {},
   "outputs": [
    {
     "data": {
      "text/plain": [
       "(52062, 51)"
      ]
     },
     "execution_count": 136,
     "metadata": {},
     "output_type": "execute_result"
    }
   ],
   "source": [
    "df.shape"
   ]
  },
  {
   "cell_type": "code",
   "execution_count": 137,
   "metadata": {},
   "outputs": [
    {
     "data": {
      "text/plain": [
       "Index(['KM', 'Año', 'Combustible', 'Nº puertas', 'Cambio', 'Color', 'Marca',\n",
       "       'Modelo', 'Potencia', 'Tipo de carrocería', 'Velocidad máxima',\n",
       "       'Aceleracion', 'Consumo', 'Emisiones', 'Dimensiones',\n",
       "       'Etiqueta medioambiental', 'Precio', 'Largo', 'Ancho', 'Alto', 'KM_log',\n",
       "       'Precio_log', 'Combustible_Gasolina', 'Combustible_Eléctrico',\n",
       "       'Combustible_Híbrido', 'Combustible_Otros', 'Cambio_Manual',\n",
       "       'Cambio_Otro', 'Color_Beige', 'Color_Gris', 'Color_Rojo', 'Color_Otro',\n",
       "       'Color_Amarillo', 'Color_Blanco', 'Color_Naranja', 'Color_Marron',\n",
       "       'Color_Verde', 'Color_Violeta', 'Color_Negro', 'Marca_encoded',\n",
       "       'Carroceria_Turismo', 'Carroceria_Todoterreno',\n",
       "       'Carroceria_Monovolumen', 'Carroceria_Vehículo comercial',\n",
       "       'Carroceria_Pick Up', 'Carroceria_Descapotable', 'Carroceria_Coupé',\n",
       "       'Etiqueta_B', 'Etiqueta_Cero', 'Etiqueta_ECO', 'Etiqueta_Sin etiqueta'],\n",
       "      dtype='object')"
      ]
     },
     "execution_count": 137,
     "metadata": {},
     "output_type": "execute_result"
    }
   ],
   "source": [
    "df.columns"
   ]
  },
  {
   "cell_type": "code",
   "execution_count": 138,
   "metadata": {},
   "outputs": [
    {
     "data": {
      "text/html": [
       "<div>\n",
       "<style scoped>\n",
       "    .dataframe tbody tr th:only-of-type {\n",
       "        vertical-align: middle;\n",
       "    }\n",
       "\n",
       "    .dataframe tbody tr th {\n",
       "        vertical-align: top;\n",
       "    }\n",
       "\n",
       "    .dataframe thead th {\n",
       "        text-align: right;\n",
       "    }\n",
       "</style>\n",
       "<table border=\"1\" class=\"dataframe\">\n",
       "  <thead>\n",
       "    <tr style=\"text-align: right;\">\n",
       "      <th></th>\n",
       "      <th>Año</th>\n",
       "      <th>Nº puertas</th>\n",
       "      <th>Potencia</th>\n",
       "      <th>Velocidad máxima</th>\n",
       "      <th>Aceleracion</th>\n",
       "      <th>Consumo</th>\n",
       "      <th>Emisiones</th>\n",
       "      <th>Largo</th>\n",
       "      <th>Ancho</th>\n",
       "      <th>Alto</th>\n",
       "      <th>...</th>\n",
       "      <th>Carroceria_Todoterreno</th>\n",
       "      <th>Carroceria_Monovolumen</th>\n",
       "      <th>Carroceria_Vehículo comercial</th>\n",
       "      <th>Carroceria_Pick Up</th>\n",
       "      <th>Carroceria_Descapotable</th>\n",
       "      <th>Carroceria_Coupé</th>\n",
       "      <th>Etiqueta_B</th>\n",
       "      <th>Etiqueta_Cero</th>\n",
       "      <th>Etiqueta_ECO</th>\n",
       "      <th>Etiqueta_Sin etiqueta</th>\n",
       "    </tr>\n",
       "  </thead>\n",
       "  <tbody>\n",
       "    <tr>\n",
       "      <th>0</th>\n",
       "      <td>2019.0</td>\n",
       "      <td>5.0</td>\n",
       "      <td>150.0</td>\n",
       "      <td>212.0</td>\n",
       "      <td>8.7</td>\n",
       "      <td>4.5</td>\n",
       "      <td>117.0</td>\n",
       "      <td>4548</td>\n",
       "      <td>1816.0</td>\n",
       "      <td>1439.0</td>\n",
       "      <td>...</td>\n",
       "      <td>0.0</td>\n",
       "      <td>0.0</td>\n",
       "      <td>0.0</td>\n",
       "      <td>0.0</td>\n",
       "      <td>1.0</td>\n",
       "      <td>0.0</td>\n",
       "      <td>1.0</td>\n",
       "      <td>0.0</td>\n",
       "      <td>0.0</td>\n",
       "      <td>0.0</td>\n",
       "    </tr>\n",
       "    <tr>\n",
       "      <th>1</th>\n",
       "      <td>2009.0</td>\n",
       "      <td>3.0</td>\n",
       "      <td>110.0</td>\n",
       "      <td>190.0</td>\n",
       "      <td>10.7</td>\n",
       "      <td>4.5</td>\n",
       "      <td>119.0</td>\n",
       "      <td>4199</td>\n",
       "      <td>1779.0</td>\n",
       "      <td>1469.0</td>\n",
       "      <td>...</td>\n",
       "      <td>0.0</td>\n",
       "      <td>0.0</td>\n",
       "      <td>0.0</td>\n",
       "      <td>1.0</td>\n",
       "      <td>0.0</td>\n",
       "      <td>0.0</td>\n",
       "      <td>0.0</td>\n",
       "      <td>0.0</td>\n",
       "      <td>0.0</td>\n",
       "      <td>0.0</td>\n",
       "    </tr>\n",
       "    <tr>\n",
       "      <th>2</th>\n",
       "      <td>2007.0</td>\n",
       "      <td>5.0</td>\n",
       "      <td>177.0</td>\n",
       "      <td>200.0</td>\n",
       "      <td>9.3</td>\n",
       "      <td>7.0</td>\n",
       "      <td>185.0</td>\n",
       "      <td>4395</td>\n",
       "      <td>1815.0</td>\n",
       "      <td>1720.0</td>\n",
       "      <td>...</td>\n",
       "      <td>0.0</td>\n",
       "      <td>0.0</td>\n",
       "      <td>1.0</td>\n",
       "      <td>0.0</td>\n",
       "      <td>0.0</td>\n",
       "      <td>0.0</td>\n",
       "      <td>0.0</td>\n",
       "      <td>0.0</td>\n",
       "      <td>0.0</td>\n",
       "      <td>0.0</td>\n",
       "    </tr>\n",
       "    <tr>\n",
       "      <th>3</th>\n",
       "      <td>2011.0</td>\n",
       "      <td>5.0</td>\n",
       "      <td>143.0</td>\n",
       "      <td>190.0</td>\n",
       "      <td>11.4</td>\n",
       "      <td>6.5</td>\n",
       "      <td>172.0</td>\n",
       "      <td>4629</td>\n",
       "      <td>1880.0</td>\n",
       "      <td>1653.0</td>\n",
       "      <td>...</td>\n",
       "      <td>0.0</td>\n",
       "      <td>0.0</td>\n",
       "      <td>1.0</td>\n",
       "      <td>0.0</td>\n",
       "      <td>0.0</td>\n",
       "      <td>0.0</td>\n",
       "      <td>0.0</td>\n",
       "      <td>0.0</td>\n",
       "      <td>0.0</td>\n",
       "      <td>0.0</td>\n",
       "    </tr>\n",
       "    <tr>\n",
       "      <th>4</th>\n",
       "      <td>2013.0</td>\n",
       "      <td>5.0</td>\n",
       "      <td>313.0</td>\n",
       "      <td>250.0</td>\n",
       "      <td>5.3</td>\n",
       "      <td>6.4</td>\n",
       "      <td>169.0</td>\n",
       "      <td>4969</td>\n",
       "      <td>1911.0</td>\n",
       "      <td>1420.0</td>\n",
       "      <td>...</td>\n",
       "      <td>0.0</td>\n",
       "      <td>0.0</td>\n",
       "      <td>0.0</td>\n",
       "      <td>1.0</td>\n",
       "      <td>0.0</td>\n",
       "      <td>0.0</td>\n",
       "      <td>0.0</td>\n",
       "      <td>0.0</td>\n",
       "      <td>0.0</td>\n",
       "      <td>0.0</td>\n",
       "    </tr>\n",
       "  </tbody>\n",
       "</table>\n",
       "<p>5 rows × 41 columns</p>\n",
       "</div>"
      ],
      "text/plain": [
       "      Año  Nº puertas  Potencia  Velocidad máxima  Aceleracion  Consumo  \\\n",
       "0  2019.0         5.0     150.0             212.0          8.7      4.5   \n",
       "1  2009.0         3.0     110.0             190.0         10.7      4.5   \n",
       "2  2007.0         5.0     177.0             200.0          9.3      7.0   \n",
       "3  2011.0         5.0     143.0             190.0         11.4      6.5   \n",
       "4  2013.0         5.0     313.0             250.0          5.3      6.4   \n",
       "\n",
       "   Emisiones  Largo   Ancho    Alto  ...  Carroceria_Todoterreno  \\\n",
       "0      117.0   4548  1816.0  1439.0  ...                     0.0   \n",
       "1      119.0   4199  1779.0  1469.0  ...                     0.0   \n",
       "2      185.0   4395  1815.0  1720.0  ...                     0.0   \n",
       "3      172.0   4629  1880.0  1653.0  ...                     0.0   \n",
       "4      169.0   4969  1911.0  1420.0  ...                     0.0   \n",
       "\n",
       "   Carroceria_Monovolumen  Carroceria_Vehículo comercial  Carroceria_Pick Up  \\\n",
       "0                     0.0                            0.0                 0.0   \n",
       "1                     0.0                            0.0                 1.0   \n",
       "2                     0.0                            1.0                 0.0   \n",
       "3                     0.0                            1.0                 0.0   \n",
       "4                     0.0                            0.0                 1.0   \n",
       "\n",
       "   Carroceria_Descapotable  Carroceria_Coupé  Etiqueta_B  Etiqueta_Cero  \\\n",
       "0                      1.0               0.0         1.0            0.0   \n",
       "1                      0.0               0.0         0.0            0.0   \n",
       "2                      0.0               0.0         0.0            0.0   \n",
       "3                      0.0               0.0         0.0            0.0   \n",
       "4                      0.0               0.0         0.0            0.0   \n",
       "\n",
       "   Etiqueta_ECO  Etiqueta_Sin etiqueta  \n",
       "0           0.0                    0.0  \n",
       "1           0.0                    0.0  \n",
       "2           0.0                    0.0  \n",
       "3           0.0                    0.0  \n",
       "4           0.0                    0.0  \n",
       "\n",
       "[5 rows x 41 columns]"
      ]
     },
     "execution_count": 138,
     "metadata": {},
     "output_type": "execute_result"
    }
   ],
   "source": [
    "df_procesado = df.drop(columns=[\"KM\",\"Combustible\",\"Cambio\",\"Color\",\"Marca\",\"Modelo\",\"Tipo de carrocería\",\"Dimensiones\",\"Etiqueta medioambiental\",\"Precio\"])\n",
    "df_procesado.head(5)"
   ]
  },
  {
   "cell_type": "markdown",
   "metadata": {},
   "source": [
    "### Ahora que ya tenemos todos los datos procesados vamos a utilizar el KNNImputer para llenar los NaNs de las filas en la que haya"
   ]
  },
  {
   "cell_type": "code",
   "execution_count": 139,
   "metadata": {},
   "outputs": [
    {
     "name": "stdout",
     "output_type": "stream",
     "text": [
      "283\n",
      "2425\n",
      "2016\n",
      "557\n",
      "272\n",
      "13515\n"
     ]
    }
   ],
   "source": [
    "print(df_procesado[\"Año\"].isna().sum())\n",
    "print(df_procesado[\"Aceleracion\"].isna().sum())\n",
    "print(df_procesado[\"Potencia\"].isna().sum())\n",
    "print(df_procesado[\"Velocidad máxima\"].isna().sum())\n",
    "print(df_procesado[\"Consumo\"].isna().sum())\n",
    "print(df_procesado[\"Emisiones\"].isna().sum())"
   ]
  },
  {
   "cell_type": "code",
   "execution_count": 140,
   "metadata": {},
   "outputs": [],
   "source": [
    "# Inicializamos el objeto Imputer\n",
    "imputer = KNNImputer(n_neighbors = 3)\n",
    "\n",
    "# Entrenamos el Imputer y transformamos el DataFrame\n",
    "transformador = imputer.fit(df_procesado)\n",
    "\n",
    "datos_procesados = transformador.transform(df_procesado)\n",
    "\n",
    "\n",
    "pickle.dump(transformador, open(\"./transformadores/KnnImputer.pk\", 'wb'))\n",
    "\n",
    "df_procesado = pd.DataFrame(data    = datos_procesados,\n",
    "                  columns = df_procesado.columns)"
   ]
  },
  {
   "cell_type": "code",
   "execution_count": 141,
   "metadata": {},
   "outputs": [
    {
     "name": "stdout",
     "output_type": "stream",
     "text": [
      "0\n",
      "0\n",
      "0\n",
      "0\n",
      "0\n",
      "0\n"
     ]
    }
   ],
   "source": [
    "print(df_procesado[\"Año\"].isna().sum())\n",
    "print(df_procesado[\"Aceleracion\"].isna().sum())\n",
    "print(df_procesado[\"Potencia\"].isna().sum())\n",
    "print(df_procesado[\"Velocidad máxima\"].isna().sum())\n",
    "print(df_procesado[\"Consumo\"].isna().sum())\n",
    "print(df_procesado[\"Emisiones\"].isna().sum())"
   ]
  },
  {
   "cell_type": "code",
   "execution_count": 142,
   "metadata": {},
   "outputs": [
    {
     "data": {
      "text/html": [
       "<div>\n",
       "<style scoped>\n",
       "    .dataframe tbody tr th:only-of-type {\n",
       "        vertical-align: middle;\n",
       "    }\n",
       "\n",
       "    .dataframe tbody tr th {\n",
       "        vertical-align: top;\n",
       "    }\n",
       "\n",
       "    .dataframe thead th {\n",
       "        text-align: right;\n",
       "    }\n",
       "</style>\n",
       "<table border=\"1\" class=\"dataframe\">\n",
       "  <thead>\n",
       "    <tr style=\"text-align: right;\">\n",
       "      <th></th>\n",
       "      <th>Año</th>\n",
       "      <th>Nº puertas</th>\n",
       "      <th>Potencia</th>\n",
       "      <th>Velocidad máxima</th>\n",
       "      <th>Aceleracion</th>\n",
       "      <th>Consumo</th>\n",
       "      <th>Emisiones</th>\n",
       "      <th>Largo</th>\n",
       "      <th>Ancho</th>\n",
       "      <th>Alto</th>\n",
       "      <th>...</th>\n",
       "      <th>Carroceria_Todoterreno</th>\n",
       "      <th>Carroceria_Monovolumen</th>\n",
       "      <th>Carroceria_Vehículo comercial</th>\n",
       "      <th>Carroceria_Pick Up</th>\n",
       "      <th>Carroceria_Descapotable</th>\n",
       "      <th>Carroceria_Coupé</th>\n",
       "      <th>Etiqueta_B</th>\n",
       "      <th>Etiqueta_Cero</th>\n",
       "      <th>Etiqueta_ECO</th>\n",
       "      <th>Etiqueta_Sin etiqueta</th>\n",
       "    </tr>\n",
       "  </thead>\n",
       "  <tbody>\n",
       "    <tr>\n",
       "      <th>0</th>\n",
       "      <td>2019.0</td>\n",
       "      <td>5.0</td>\n",
       "      <td>150.0</td>\n",
       "      <td>212.0</td>\n",
       "      <td>8.7</td>\n",
       "      <td>4.5</td>\n",
       "      <td>117.0</td>\n",
       "      <td>4548.0</td>\n",
       "      <td>1816.0</td>\n",
       "      <td>1439.0</td>\n",
       "      <td>...</td>\n",
       "      <td>0.0</td>\n",
       "      <td>0.0</td>\n",
       "      <td>0.0</td>\n",
       "      <td>0.0</td>\n",
       "      <td>1.0</td>\n",
       "      <td>0.0</td>\n",
       "      <td>1.0</td>\n",
       "      <td>0.0</td>\n",
       "      <td>0.0</td>\n",
       "      <td>0.0</td>\n",
       "    </tr>\n",
       "    <tr>\n",
       "      <th>1</th>\n",
       "      <td>2009.0</td>\n",
       "      <td>3.0</td>\n",
       "      <td>110.0</td>\n",
       "      <td>190.0</td>\n",
       "      <td>10.7</td>\n",
       "      <td>4.5</td>\n",
       "      <td>119.0</td>\n",
       "      <td>4199.0</td>\n",
       "      <td>1779.0</td>\n",
       "      <td>1469.0</td>\n",
       "      <td>...</td>\n",
       "      <td>0.0</td>\n",
       "      <td>0.0</td>\n",
       "      <td>0.0</td>\n",
       "      <td>1.0</td>\n",
       "      <td>0.0</td>\n",
       "      <td>0.0</td>\n",
       "      <td>0.0</td>\n",
       "      <td>0.0</td>\n",
       "      <td>0.0</td>\n",
       "      <td>0.0</td>\n",
       "    </tr>\n",
       "    <tr>\n",
       "      <th>2</th>\n",
       "      <td>2007.0</td>\n",
       "      <td>5.0</td>\n",
       "      <td>177.0</td>\n",
       "      <td>200.0</td>\n",
       "      <td>9.3</td>\n",
       "      <td>7.0</td>\n",
       "      <td>185.0</td>\n",
       "      <td>4395.0</td>\n",
       "      <td>1815.0</td>\n",
       "      <td>1720.0</td>\n",
       "      <td>...</td>\n",
       "      <td>0.0</td>\n",
       "      <td>0.0</td>\n",
       "      <td>1.0</td>\n",
       "      <td>0.0</td>\n",
       "      <td>0.0</td>\n",
       "      <td>0.0</td>\n",
       "      <td>0.0</td>\n",
       "      <td>0.0</td>\n",
       "      <td>0.0</td>\n",
       "      <td>0.0</td>\n",
       "    </tr>\n",
       "    <tr>\n",
       "      <th>3</th>\n",
       "      <td>2011.0</td>\n",
       "      <td>5.0</td>\n",
       "      <td>143.0</td>\n",
       "      <td>190.0</td>\n",
       "      <td>11.4</td>\n",
       "      <td>6.5</td>\n",
       "      <td>172.0</td>\n",
       "      <td>4629.0</td>\n",
       "      <td>1880.0</td>\n",
       "      <td>1653.0</td>\n",
       "      <td>...</td>\n",
       "      <td>0.0</td>\n",
       "      <td>0.0</td>\n",
       "      <td>1.0</td>\n",
       "      <td>0.0</td>\n",
       "      <td>0.0</td>\n",
       "      <td>0.0</td>\n",
       "      <td>0.0</td>\n",
       "      <td>0.0</td>\n",
       "      <td>0.0</td>\n",
       "      <td>0.0</td>\n",
       "    </tr>\n",
       "    <tr>\n",
       "      <th>4</th>\n",
       "      <td>2013.0</td>\n",
       "      <td>5.0</td>\n",
       "      <td>313.0</td>\n",
       "      <td>250.0</td>\n",
       "      <td>5.3</td>\n",
       "      <td>6.4</td>\n",
       "      <td>169.0</td>\n",
       "      <td>4969.0</td>\n",
       "      <td>1911.0</td>\n",
       "      <td>1420.0</td>\n",
       "      <td>...</td>\n",
       "      <td>0.0</td>\n",
       "      <td>0.0</td>\n",
       "      <td>0.0</td>\n",
       "      <td>1.0</td>\n",
       "      <td>0.0</td>\n",
       "      <td>0.0</td>\n",
       "      <td>0.0</td>\n",
       "      <td>0.0</td>\n",
       "      <td>0.0</td>\n",
       "      <td>0.0</td>\n",
       "    </tr>\n",
       "  </tbody>\n",
       "</table>\n",
       "<p>5 rows × 41 columns</p>\n",
       "</div>"
      ],
      "text/plain": [
       "      Año  Nº puertas  Potencia  Velocidad máxima  Aceleracion  Consumo  \\\n",
       "0  2019.0         5.0     150.0             212.0          8.7      4.5   \n",
       "1  2009.0         3.0     110.0             190.0         10.7      4.5   \n",
       "2  2007.0         5.0     177.0             200.0          9.3      7.0   \n",
       "3  2011.0         5.0     143.0             190.0         11.4      6.5   \n",
       "4  2013.0         5.0     313.0             250.0          5.3      6.4   \n",
       "\n",
       "   Emisiones   Largo   Ancho    Alto  ...  Carroceria_Todoterreno  \\\n",
       "0      117.0  4548.0  1816.0  1439.0  ...                     0.0   \n",
       "1      119.0  4199.0  1779.0  1469.0  ...                     0.0   \n",
       "2      185.0  4395.0  1815.0  1720.0  ...                     0.0   \n",
       "3      172.0  4629.0  1880.0  1653.0  ...                     0.0   \n",
       "4      169.0  4969.0  1911.0  1420.0  ...                     0.0   \n",
       "\n",
       "   Carroceria_Monovolumen  Carroceria_Vehículo comercial  Carroceria_Pick Up  \\\n",
       "0                     0.0                            0.0                 0.0   \n",
       "1                     0.0                            0.0                 1.0   \n",
       "2                     0.0                            1.0                 0.0   \n",
       "3                     0.0                            1.0                 0.0   \n",
       "4                     0.0                            0.0                 1.0   \n",
       "\n",
       "   Carroceria_Descapotable  Carroceria_Coupé  Etiqueta_B  Etiqueta_Cero  \\\n",
       "0                      1.0               0.0         1.0            0.0   \n",
       "1                      0.0               0.0         0.0            0.0   \n",
       "2                      0.0               0.0         0.0            0.0   \n",
       "3                      0.0               0.0         0.0            0.0   \n",
       "4                      0.0               0.0         0.0            0.0   \n",
       "\n",
       "   Etiqueta_ECO  Etiqueta_Sin etiqueta  \n",
       "0           0.0                    0.0  \n",
       "1           0.0                    0.0  \n",
       "2           0.0                    0.0  \n",
       "3           0.0                    0.0  \n",
       "4           0.0                    0.0  \n",
       "\n",
       "[5 rows x 41 columns]"
      ]
     },
     "execution_count": 142,
     "metadata": {},
     "output_type": "execute_result"
    }
   ],
   "source": [
    "df_procesado.head(5)"
   ]
  },
  {
   "cell_type": "code",
   "execution_count": 143,
   "metadata": {},
   "outputs": [],
   "source": [
    "df_procesado.to_csv(\"./data/datos_procesados_2.csv\",index = False)\n"
   ]
  },
  {
   "cell_type": "code",
   "execution_count": null,
   "metadata": {},
   "outputs": [],
   "source": []
  },
  {
   "cell_type": "code",
   "execution_count": null,
   "metadata": {},
   "outputs": [],
   "source": []
  }
 ],
 "metadata": {
  "kernelspec": {
   "display_name": "Python 3",
   "language": "python",
   "name": "python3"
  },
  "language_info": {
   "codemirror_mode": {
    "name": "ipython",
    "version": 3
   },
   "file_extension": ".py",
   "mimetype": "text/x-python",
   "name": "python",
   "nbconvert_exporter": "python",
   "pygments_lexer": "ipython3",
   "version": "3.11.0"
  }
 },
 "nbformat": 4,
 "nbformat_minor": 2
}
